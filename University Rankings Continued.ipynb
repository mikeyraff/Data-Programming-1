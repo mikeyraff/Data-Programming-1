{
 "cells": [
  {
   "cell_type": "code",
   "execution_count": 1,
   "id": "f0f9b47e",
   "metadata": {
    "cell_type": "code",
    "deletable": false,
    "editable": false
   },
   "outputs": [],
   "source": [
    "import otter\n",
    "# nb_name should be the name of your notebook without the .ipynb extension\n",
    "nb_name = \"p13\"\n",
    "py_filename = nb_name + \".py\"\n",
    "grader = otter.Notebook(nb_name + \".ipynb\")"
   ]
  },
  {
   "cell_type": "code",
   "execution_count": 2,
   "id": "89d613de",
   "metadata": {
    "deletable": false,
    "editable": false
   },
   "outputs": [],
   "source": [
    "import p13_test"
   ]
  },
  {
   "cell_type": "code",
   "execution_count": 3,
   "id": "7fd0001b",
   "metadata": {},
   "outputs": [],
   "source": [
    "# PLEASE FILL IN THE DETAILS\n",
    "# enter none if you don't have a project partner\n",
    "# you will have to add your partner as a group member on Gradescope even after you fill this\n",
    "\n",
    "# project: p13\n",
    "# submitter: raffanti\n",
    "# partner: tkatzenberge"
   ]
  },
  {
   "cell_type": "markdown",
   "id": "a3d090d7",
   "metadata": {
    "deletable": false,
    "editable": false
   },
   "source": [
    " # Project 13: World University Rankings"
   ]
  },
  {
   "cell_type": "markdown",
   "id": "01736d04",
   "metadata": {
    "deletable": false,
    "editable": false
   },
   "source": [
    "## Learning Objectives:\n",
    "\n",
    "In this project, you will demonstrate how to:\n",
    "\n",
    "* query a database using SQL,\n",
    "* process data using `pandas` **DataFrames**,\n",
    "* create different types of plots.\n",
    "\n",
    "Please go through [lab-p13](https://git.doit.wisc.edu/cdis/cs/courses/cs220/cs220-f22-projects/-/tree/main/p13) before working on this project. The lab introduces some useful techniques related to this project."
   ]
  },
  {
   "cell_type": "markdown",
   "id": "c59ea910",
   "metadata": {
    "deletable": false,
    "editable": false
   },
   "source": [
    "## Note on Academic Misconduct:\n",
    "\n",
    "**IMPORTANT**: p12 and p13 are two parts of the same data analysis. You **cannot** switch project partners between these two projects. That is if you partnered up with someone for p12, you have to sustain that partnership until end of p13. Now may be a good time to review [our course policies](https://cs220.cs.wisc.edu/f22/syllabus.html)."
   ]
  },
  {
   "cell_type": "markdown",
   "id": "64f1d95e",
   "metadata": {
    "deletable": false,
    "editable": false
   },
   "source": [
    "## Testing your code:\n",
    "\n",
    "Along with this notebook, you must have downloaded the file `p13_test.py`. If you are curious about how we test your code, you can explore this file, and specifically the value of the variable `expected_json`, to understand the expected answers to the questions.\n",
    "\n",
    "For answers involving DataFrames, `p13_test.py` compares your tables to those in `p13_expected.html`, so take a moment to open that file on a web browser (from Finder/Explorer).\n",
    "\n",
    "For answers involving plots, `p13_test.py` can **only** check that the **DataFrames** are correct, but it **cannot** check if your plot appears on the screen, or whether the axes are correctly labelled. Your plots will be **manually graded**, and you will **lose points** if your plot is not visible, or if it is not properly labelled.\n",
    "\n",
    "**IMPORTANT Warning:** Do **not** download the dataset `QSranking.json` **manually**. Use the `download` function from p12 to download it. When we run the autograder, this file `QSranking.json` will **not** be in the directory. So, unless your `p13.ipynb` downloads this file, you will get a **zero score** on the project. Also, make sure your `download` function includes code to check if the file already exists. Otherwise, you will **lose** points for **hardcoding**."
   ]
  },
  {
   "cell_type": "markdown",
   "id": "8ef54b6d",
   "metadata": {
    "deletable": false,
    "editable": false
   },
   "source": [
    "## Project Description:\n",
    "\n",
    "For your final cs220 project, you're going to continue analyzing world university rankings. However, we will be using a different dataset this time. The data for this project has been extracted from [here](https://www.topuniversities.com/university-rankings/world-university-rankings/2022). Unlike the CWUR rankings we used in p12, the QS rankings dataset has various scores for the universities, and not just the rankings. This makes the QS rankings dataset more suitable for plotting (which you will be doing a lot of!).\n",
    "\n",
    "In this project, you'll have to dump your DataFrame to a SQLite database. You'll answer questions by doing queries on that database. Often, your answers will be in the form of a plot. Check these carefully, as the tests only verify that a plot has been created, not that it looks correct (TAs will manually deduct points for plotting mistakes)."
   ]
  },
  {
   "cell_type": "markdown",
   "id": "733697d6",
   "metadata": {
    "deletable": false,
    "editable": false
   },
   "source": [
    "## Project Requirements:\n",
    "\n",
    "You **may not** hardcode indices in your code. You **may not** manually download **any** files for this project, unless you are **explicitly** told to do so. For all other files, you **must** use the `download` function to download the files.\n",
    "\n",
    "**Store** your final answer for each question in the **variable specified for each question**. This step is important because Otter grades your work by comparing the value of this variable against the correct answer.\n",
    "\n",
    "For some of the questions, we'll ask you to write (then use) a function to compute the answer. If you compute the answer **without** creating the function we ask you to write, we'll **manually deduct** points from your autograder score on Gradescope, even if the way you did it produced the correct answer.\n",
    "\n",
    "Required Functions:\n",
    "- `bar_plot`\n",
    "- `scatter_plot`\n",
    "- `horizontal_bar_plot`\n",
    "- `pie_plot`\n",
    "- `get_regression_coeff`\n",
    "- `regression_line_plot`\n",
    "- `download`\n",
    "\n",
    "In this project, you will also be required to define certain **data structures**. If you do not create these data structures exactly as specified, we'll **manually deduct** points from your autograder score on Gradescope, even if the way you did it produced the correct answer.\n",
    "\n",
    "Required Data Structures:\n",
    "- `conn`\n",
    "\n",
    "You **must** write SQL queries to solve the questions in this project, unless you are **explicitly** told otherwise. You will **not get any credit** if you use `pandas` operations to extract data. We will give you **specific** instructions for any questions where `pandas` operations are allowed. In addition, you are also **required** to follow the requirements below:\n",
    "\n",
    "* You **must** close the connection to `conn` at the end of your notebook.\n",
    "* Do **not** use **absolute** paths such as `C://ms//cs220//p12`. You may **only** use **relative paths**.\n",
    "* Do **not** hardcode `//` or `\\` in any of your paths. You **must** use `os.path.join` to create paths.\n",
    "* Do **not** use meaningless names for variables or functions (e.g. `uuu = \"my name\"`).\n",
    "* Do **not** leave irrelevant output or test code that we didn't ask for.\n",
    "* Do **not** write the exact same code in multiple places. Instead, wrap this code into a function and call that function whenever the code should be used.\n",
    "* Do **not** call unnecessary functions.\n",
    "* **Avoid** calling **slow** functions multiple times within a loop.\n",
    "* **Avoid** inappropriate use of data structures. For instance: do **not** use a `for` loop to search for a corresponding value in a dictionary with a given key; instead use `dictname[key]` directly.\n",
    "* Do **not** define multiple functions with the same name or define multiple versions of one function with different names. Just keep the best version.\n",
    "\n",
    "For more details on what will cause you to lose points during code review and specific requirements, please take a look at the [Grading rubric](https://git.doit.wisc.edu/cdis/cs/courses/cs220/cs220-f22-projects/-/blob/main/p13/rubric.md)."
   ]
  },
  {
   "cell_type": "markdown",
   "id": "5f6cca34",
   "metadata": {
    "deletable": false,
    "editable": false
   },
   "source": [
    "## Questions and Functions:\n",
    "\n",
    "Let us start by importing all the modules we will need for this project."
   ]
  },
  {
   "cell_type": "code",
   "execution_count": 4,
   "id": "ebc66f1d",
   "metadata": {
    "tags": []
   },
   "outputs": [],
   "source": [
    "# it is considered a good coding practice to place all import statements at the top of the notebook\n",
    "# please place all your import statements in this cell if you need to import any more modules for this project\n",
    "import os\n",
    "import json\n",
    "import sqlite3\n",
    "import pandas as pd\n",
    "import requests\n",
    "import matplotlib\n",
    "import math\n",
    "import numpy as np"
   ]
  },
  {
   "cell_type": "markdown",
   "id": "f1ddf124",
   "metadata": {
    "deletable": false,
    "editable": false
   },
   "source": [
    "Now, you may copy/paste some of the functions and data structures you defined in lab-p13 and p12, which will be useful for this project."
   ]
  },
  {
   "cell_type": "code",
   "execution_count": 5,
   "id": "353af03e",
   "metadata": {
    "tags": []
   },
   "outputs": [],
   "source": [
    "# this ensures that font.size setting remains uniform\n",
    "%matplotlib inline \n",
    "pd.set_option('display.max_colwidth', None)\n",
    "matplotlib.rcParams[\"font.size\"] = 13 # don't use value > 13! Otherwise your y-axis tick labels will be different."
   ]
  },
  {
   "cell_type": "code",
   "execution_count": 6,
   "id": "02fdf0b8",
   "metadata": {
    "tags": []
   },
   "outputs": [],
   "source": [
    "# copy/paste the definition of the function 'bar_plot' from lab-p13 here\n",
    "def bar_plot(df, x, y):\n",
    "    ax = df.plot.bar(x=x, y=y, color = 'k')\n",
    "    ax.set_xlabel(x)\n",
    "    ax.set_ylabel(y)"
   ]
  },
  {
   "cell_type": "code",
   "execution_count": 7,
   "id": "fe781869",
   "metadata": {
    "tags": []
   },
   "outputs": [],
   "source": [
    "# copy/paste the definition of the function 'scatter_plot' from lab-p13 here\n",
    "def scatter_plot(df, x, y):\n",
    "    ax = df.plot.scatter(x=x, y=y, color = 'k')\n",
    "    ax.set_xlabel(x)\n",
    "    ax.set_ylabel(y)"
   ]
  },
  {
   "cell_type": "code",
   "execution_count": 8,
   "id": "a3c8327b",
   "metadata": {
    "tags": []
   },
   "outputs": [],
   "source": [
    "# copy/paste the definition of the function 'horizontal_bar_plot' from lab-p13 here\n",
    "def horizontal_bar_plot(df, x):\n",
    "    df = df.set_index(x)\n",
    "    ax = df.plot.barh()\n",
    "    ax.legend(loc='center left', bbox_to_anchor=(1, 0.9))"
   ]
  },
  {
   "cell_type": "code",
   "execution_count": 9,
   "id": "8ace4146",
   "metadata": {
    "tags": []
   },
   "outputs": [],
   "source": [
    "# copy/paste the definition of the function 'pie_plot' from lab-p13 here\n",
    "def pie_plot(df, x, y, title=None):\n",
    "    df = df.set_index(x)\n",
    "    ax = df.plot.pie(y=y, legend=False)\n",
    "    ax.set_ylabel(None)\n",
    "    ax.set_title(title)"
   ]
  },
  {
   "cell_type": "code",
   "execution_count": 10,
   "id": "8510c983",
   "metadata": {
    "tags": []
   },
   "outputs": [],
   "source": [
    "# copy/paste the definition of the function 'get_regression_coeff' from lab-p13 here\n",
    "def get_regression_coeff(df, x, y):\n",
    "    df[\"1\"] = 1\n",
    "    res = np.linalg.lstsq(df[[x, \"1\"]], df[y], rcond=None)\n",
    "    coefficients = res[0]\n",
    "    m = coefficients[0]\n",
    "    b = coefficients[1]\n",
    "    return (m, b)"
   ]
  },
  {
   "cell_type": "code",
   "execution_count": 11,
   "id": "1a04154d",
   "metadata": {
    "tags": []
   },
   "outputs": [],
   "source": [
    "# copy/paste the definition of the function 'regression_line_plot' from lab-p13 here\n",
    "def regression_line_plot(df, x, y):\n",
    "    coef_tuple = get_regression_coeff(df, x, y)\n",
    "    m = coef_tuple[0]\n",
    "    b = coef_tuple[1]\n",
    "    ax = df.plot.scatter(x=x, y=y, color = 'k')\n",
    "    fit = df['fit'] = m * df[x] + b\n",
    "    df.plot.line(x=x, y = 'fit', color = 'red', ax=ax)"
   ]
  },
  {
   "cell_type": "code",
   "execution_count": 12,
   "id": "767349f7",
   "metadata": {
    "tags": []
   },
   "outputs": [],
   "source": [
    "# copy/paste the definition of the function 'download' from p12 here\n",
    "def download(filename, url):\n",
    "    if os.path.exists(filename):\n",
    "        return (str(filename) + \" already exists!\")\n",
    "    else:\n",
    "        r = requests.get(url)\n",
    "        r.raise_for_status()\n",
    "        content = r.text\n",
    "        f = open(filename, \"w\", encoding=\"utf-8\")\n",
    "        f.write(content)\n",
    "        f.close()\n",
    "    return (str(filename) + \" created!\")"
   ]
  },
  {
   "cell_type": "code",
   "execution_count": 13,
   "id": "5a3cd154",
   "metadata": {
    "tags": []
   },
   "outputs": [
    {
     "data": {
      "text/plain": [
       "'QSranking.json already exists!'"
      ]
     },
     "execution_count": 13,
     "metadata": {},
     "output_type": "execute_result"
    }
   ],
   "source": [
    "# use the 'download' function to download the data from the webpage\n",
    "# 'https://git.doit.wisc.edu/cdis/cs/courses/cs220/cs220-f22-projects/-/raw/main/p13/QSranking.json'\n",
    "# to the file 'QSranking.json'\n",
    "download(\"QSranking.json\", \"https://git.doit.wisc.edu/cdis/cs/courses/cs220/cs220-f22-projects/-/raw/main/p13/QSranking.json\")"
   ]
  },
  {
   "cell_type": "markdown",
   "id": "a16c10d0",
   "metadata": {
    "deletable": false,
    "editable": false
   },
   "source": [
    "### Data Structure 1: `conn`\n",
    "\n",
    "You **must** now create a **database** called `rankings.db` out of `QSranking.json`, connect to it, and save it in a variable called `conn`. You **must** use this connection to the database `rankings.db` to answer the questions that follow."
   ]
  },
  {
   "cell_type": "code",
   "execution_count": 14,
   "id": "e2de3b81",
   "metadata": {
    "lines_to_next_cell": 0,
    "tags": []
   },
   "outputs": [
    {
     "data": {
      "text/plain": [
       "1201"
      ]
     },
     "execution_count": 14,
     "metadata": {},
     "output_type": "execute_result"
    }
   ],
   "source": [
    "conn = sqlite3.connect('rankings.db')\n",
    "qs_ranking = pd.read_json(\"QSranking.json\")\n",
    "qs_ranking.to_sql(\"rankings\", conn, if_exists=\"replace\", index=False)"
   ]
  },
  {
   "cell_type": "code",
   "execution_count": 15,
   "id": "2ef2bb33",
   "metadata": {
    "tags": []
   },
   "outputs": [
    {
     "data": {
      "text/html": [
       "<div>\n",
       "<style scoped>\n",
       "    .dataframe tbody tr th:only-of-type {\n",
       "        vertical-align: middle;\n",
       "    }\n",
       "\n",
       "    .dataframe tbody tr th {\n",
       "        vertical-align: top;\n",
       "    }\n",
       "\n",
       "    .dataframe thead th {\n",
       "        text-align: right;\n",
       "    }\n",
       "</style>\n",
       "<table border=\"1\" class=\"dataframe\">\n",
       "  <thead>\n",
       "    <tr style=\"text-align: right;\">\n",
       "      <th></th>\n",
       "      <th>rank</th>\n",
       "      <th>year</th>\n",
       "      <th>institution_name</th>\n",
       "      <th>country</th>\n",
       "      <th>academic_reputation</th>\n",
       "      <th>employer_reputation</th>\n",
       "      <th>faculty_student_score</th>\n",
       "      <th>citations_per_faculty</th>\n",
       "      <th>international_faculty</th>\n",
       "      <th>international_students</th>\n",
       "      <th>overall_score</th>\n",
       "    </tr>\n",
       "  </thead>\n",
       "  <tbody>\n",
       "    <tr>\n",
       "      <th>0</th>\n",
       "      <td>1</td>\n",
       "      <td>2018</td>\n",
       "      <td>Massachusetts Institute Of Technology</td>\n",
       "      <td>United States</td>\n",
       "      <td>100.0</td>\n",
       "      <td>100.0</td>\n",
       "      <td>100.0</td>\n",
       "      <td>99.9</td>\n",
       "      <td>100.0</td>\n",
       "      <td>96.1</td>\n",
       "      <td>100.0</td>\n",
       "    </tr>\n",
       "    <tr>\n",
       "      <th>1</th>\n",
       "      <td>2</td>\n",
       "      <td>2018</td>\n",
       "      <td>Stanford University</td>\n",
       "      <td>United States</td>\n",
       "      <td>100.0</td>\n",
       "      <td>100.0</td>\n",
       "      <td>100.0</td>\n",
       "      <td>99.4</td>\n",
       "      <td>99.6</td>\n",
       "      <td>72.7</td>\n",
       "      <td>98.7</td>\n",
       "    </tr>\n",
       "    <tr>\n",
       "      <th>2</th>\n",
       "      <td>3</td>\n",
       "      <td>2018</td>\n",
       "      <td>Harvard University</td>\n",
       "      <td>United States</td>\n",
       "      <td>100.0</td>\n",
       "      <td>100.0</td>\n",
       "      <td>98.3</td>\n",
       "      <td>99.9</td>\n",
       "      <td>96.5</td>\n",
       "      <td>75.2</td>\n",
       "      <td>98.4</td>\n",
       "    </tr>\n",
       "    <tr>\n",
       "      <th>3</th>\n",
       "      <td>4</td>\n",
       "      <td>2018</td>\n",
       "      <td>California Institute Of Technology</td>\n",
       "      <td>United States</td>\n",
       "      <td>99.5</td>\n",
       "      <td>85.4</td>\n",
       "      <td>100.0</td>\n",
       "      <td>100.0</td>\n",
       "      <td>93.4</td>\n",
       "      <td>89.2</td>\n",
       "      <td>97.7</td>\n",
       "    </tr>\n",
       "    <tr>\n",
       "      <th>4</th>\n",
       "      <td>5</td>\n",
       "      <td>2018</td>\n",
       "      <td>University Of Cambridge</td>\n",
       "      <td>United Kingdom</td>\n",
       "      <td>100.0</td>\n",
       "      <td>100.0</td>\n",
       "      <td>100.0</td>\n",
       "      <td>78.3</td>\n",
       "      <td>97.4</td>\n",
       "      <td>97.7</td>\n",
       "      <td>95.6</td>\n",
       "    </tr>\n",
       "  </tbody>\n",
       "</table>\n",
       "</div>"
      ],
      "text/plain": [
       "   rank  year                       institution_name         country  \\\n",
       "0     1  2018  Massachusetts Institute Of Technology   United States   \n",
       "1     2  2018                    Stanford University   United States   \n",
       "2     3  2018                     Harvard University   United States   \n",
       "3     4  2018     California Institute Of Technology   United States   \n",
       "4     5  2018                University Of Cambridge  United Kingdom   \n",
       "\n",
       "   academic_reputation  employer_reputation  faculty_student_score  \\\n",
       "0                100.0                100.0                  100.0   \n",
       "1                100.0                100.0                  100.0   \n",
       "2                100.0                100.0                   98.3   \n",
       "3                 99.5                 85.4                  100.0   \n",
       "4                100.0                100.0                  100.0   \n",
       "\n",
       "   citations_per_faculty  international_faculty  international_students  \\\n",
       "0                   99.9                  100.0                    96.1   \n",
       "1                   99.4                   99.6                    72.7   \n",
       "2                   99.9                   96.5                    75.2   \n",
       "3                  100.0                   93.4                    89.2   \n",
       "4                   78.3                   97.4                    97.7   \n",
       "\n",
       "   overall_score  \n",
       "0          100.0  \n",
       "1           98.7  \n",
       "2           98.4  \n",
       "3           97.7  \n",
       "4           95.6  "
      ]
     },
     "execution_count": 15,
     "metadata": {},
     "output_type": "execute_result"
    }
   ],
   "source": [
    "# run this cell and confirm that you have defined the variables correctly\n",
    "pd.read_sql(\"SELECT * FROM rankings LIMIT 5\", conn)"
   ]
  },
  {
   "cell_type": "markdown",
   "id": "090d4dce",
   "metadata": {
    "deletable": false,
    "editable": false
   },
   "source": [
    "**Question 1:** What are the **top** *10* institutions in *Canada* which had the **highest** number of `international_students` in the `year` *2020*?\n",
    "\n",
    "You **must** display the columns `institution_name` and `international_students`. The rows **must** be in *descending* order of `international_students`.\n",
    "\n",
    "Your output **must** be a **DataFrame** that looks like this:\n",
    "\n",
    "||**institution_name**|**international_students**|\n",
    "|---------|------|---------|\n",
    "|**0**|Mcgill University|96.2|\n",
    "|**1**|University of Toronto|93.0|\n",
    "|**2**|Simon Fraser University|91.5|\n",
    "|**3**|University of Waterloo|84.1|\n",
    "|**4**|University of Alberta|80.8|\n",
    "|**5**|University of British Columbia|79.3|\n",
    "|**6**|Dalhouise University|73.4|\n",
    "|**7**|Université De Montréal|61.8|\n",
    "|**8**|University of Calgary|61.2|\n",
    "|**9**|University of Ottawa|56.7|"
   ]
  },
  {
   "cell_type": "code",
   "execution_count": 16,
   "id": "70618ad4",
   "metadata": {
    "tags": []
   },
   "outputs": [
    {
     "data": {
      "text/html": [
       "<div>\n",
       "<style scoped>\n",
       "    .dataframe tbody tr th:only-of-type {\n",
       "        vertical-align: middle;\n",
       "    }\n",
       "\n",
       "    .dataframe tbody tr th {\n",
       "        vertical-align: top;\n",
       "    }\n",
       "\n",
       "    .dataframe thead th {\n",
       "        text-align: right;\n",
       "    }\n",
       "</style>\n",
       "<table border=\"1\" class=\"dataframe\">\n",
       "  <thead>\n",
       "    <tr style=\"text-align: right;\">\n",
       "      <th></th>\n",
       "      <th>institution_name</th>\n",
       "      <th>international_students</th>\n",
       "    </tr>\n",
       "  </thead>\n",
       "  <tbody>\n",
       "    <tr>\n",
       "      <th>0</th>\n",
       "      <td>Mcgill University</td>\n",
       "      <td>96.2</td>\n",
       "    </tr>\n",
       "    <tr>\n",
       "      <th>1</th>\n",
       "      <td>University Of Toronto</td>\n",
       "      <td>93.0</td>\n",
       "    </tr>\n",
       "    <tr>\n",
       "      <th>2</th>\n",
       "      <td>Simon Fraser University</td>\n",
       "      <td>91.5</td>\n",
       "    </tr>\n",
       "    <tr>\n",
       "      <th>3</th>\n",
       "      <td>University Of Waterloo</td>\n",
       "      <td>84.1</td>\n",
       "    </tr>\n",
       "    <tr>\n",
       "      <th>4</th>\n",
       "      <td>University Of Alberta</td>\n",
       "      <td>80.8</td>\n",
       "    </tr>\n",
       "    <tr>\n",
       "      <th>5</th>\n",
       "      <td>University Of British Columbia</td>\n",
       "      <td>79.3</td>\n",
       "    </tr>\n",
       "    <tr>\n",
       "      <th>6</th>\n",
       "      <td>Dalhousie University</td>\n",
       "      <td>73.4</td>\n",
       "    </tr>\n",
       "    <tr>\n",
       "      <th>7</th>\n",
       "      <td>Université De Montréal</td>\n",
       "      <td>61.8</td>\n",
       "    </tr>\n",
       "    <tr>\n",
       "      <th>8</th>\n",
       "      <td>University Of Calgary</td>\n",
       "      <td>61.2</td>\n",
       "    </tr>\n",
       "    <tr>\n",
       "      <th>9</th>\n",
       "      <td>University Of Ottawa</td>\n",
       "      <td>56.7</td>\n",
       "    </tr>\n",
       "  </tbody>\n",
       "</table>\n",
       "</div>"
      ],
      "text/plain": [
       "                 institution_name  international_students\n",
       "0               Mcgill University                    96.2\n",
       "1           University Of Toronto                    93.0\n",
       "2         Simon Fraser University                    91.5\n",
       "3          University Of Waterloo                    84.1\n",
       "4           University Of Alberta                    80.8\n",
       "5  University Of British Columbia                    79.3\n",
       "6            Dalhousie University                    73.4\n",
       "7          Université De Montréal                    61.8\n",
       "8           University Of Calgary                    61.2\n",
       "9            University Of Ottawa                    56.7"
      ]
     },
     "execution_count": 16,
     "metadata": {},
     "output_type": "execute_result"
    }
   ],
   "source": [
    "# compute and store the answer in the variable 'canada_top_10_inter', then display it\n",
    "canada_top_10_inter = pd.read_sql(\n",
    "\"\"\"\n",
    "SELECT institution_name, international_students\n",
    "FROM rankings\n",
    "WHERE country = 'Canada' AND year = 2020\n",
    "ORDER BY international_students DESC\n",
    "LIMIT 10\n",
    "\"\"\", conn)\n",
    "canada_top_10_inter"
   ]
  },
  {
   "cell_type": "code",
   "execution_count": 17,
   "id": "ca580bdd",
   "metadata": {
    "deletable": false,
    "editable": false
   },
   "outputs": [
    {
     "data": {
      "text/html": [
       "<p><strong><pre style='display: inline;'>q1</pre></strong> passed!</p>"
      ],
      "text/plain": [
       "q1 results: All test cases passed!"
      ]
     },
     "execution_count": 17,
     "metadata": {},
     "output_type": "execute_result"
    }
   ],
   "source": [
    "grader.check(\"q1\")"
   ]
  },
  {
   "cell_type": "markdown",
   "id": "86bc4054",
   "metadata": {
    "deletable": false,
    "editable": false
   },
   "source": [
    "**Question 2:** What are the **top** *10* institutions in the *United States* which had the **highest** *reputation* in the `year` *2019*?\n",
    "\n",
    "The *reputation* of an institution is defined as the sum of `academic_reputation` and `employer_reputation`. You **must** display the columns `institution_name` and `reputation`. The rows **must** be in *descending* order of `reputation`. In case the `reputation` is tied, the rows must be in *alphabetical* order of `institution_name`.\n",
    "\n",
    "Your output **must** be a **DataFrame** that looks like this:\n",
    "\n",
    "||**institution_name**|**reputation**|\n",
    "|---------|------|---------|\n",
    "|**0**|Harvard University|200.0|\n",
    "|**1**|Massachusetts Institute Of Technology|200.0|\n",
    "|**2**|Stanford University|200.0|\n",
    "|**3**|University Of California, Berkeley|199.8|\n",
    "|**4**|Yale University|199.6|\n",
    "|**5**|University Of California, Los Angeles|199.1|\n",
    "|**6**|Columbia University|197.1|\n",
    "|**7**|Princeton University|196.6|\n",
    "|**8**|University Of Chicago|190.3|\n",
    "|**9**|Cornell University|189.2|\n",
    "\n",
    "**Hint:** You can use mathematical expressions in your **SELECT** clause. For example, if you wish to add the `academic_reputation` and `employer_reputation` for each institution, you could use the following query:\n",
    "\n",
    "```sql\n",
    "SELECT (`academic_reputation` + `employer_reputation`) FROM rankings\n",
    "```"
   ]
  },
  {
   "cell_type": "code",
   "execution_count": 18,
   "id": "9d0aac41",
   "metadata": {
    "tags": []
   },
   "outputs": [
    {
     "data": {
      "text/html": [
       "<div>\n",
       "<style scoped>\n",
       "    .dataframe tbody tr th:only-of-type {\n",
       "        vertical-align: middle;\n",
       "    }\n",
       "\n",
       "    .dataframe tbody tr th {\n",
       "        vertical-align: top;\n",
       "    }\n",
       "\n",
       "    .dataframe thead th {\n",
       "        text-align: right;\n",
       "    }\n",
       "</style>\n",
       "<table border=\"1\" class=\"dataframe\">\n",
       "  <thead>\n",
       "    <tr style=\"text-align: right;\">\n",
       "      <th></th>\n",
       "      <th>institution_name</th>\n",
       "      <th>reputation</th>\n",
       "    </tr>\n",
       "  </thead>\n",
       "  <tbody>\n",
       "    <tr>\n",
       "      <th>0</th>\n",
       "      <td>Harvard University</td>\n",
       "      <td>200.0</td>\n",
       "    </tr>\n",
       "    <tr>\n",
       "      <th>1</th>\n",
       "      <td>Massachusetts Institute Of Technology</td>\n",
       "      <td>200.0</td>\n",
       "    </tr>\n",
       "    <tr>\n",
       "      <th>2</th>\n",
       "      <td>Stanford University</td>\n",
       "      <td>200.0</td>\n",
       "    </tr>\n",
       "    <tr>\n",
       "      <th>3</th>\n",
       "      <td>University Of California, Berkeley</td>\n",
       "      <td>199.8</td>\n",
       "    </tr>\n",
       "    <tr>\n",
       "      <th>4</th>\n",
       "      <td>Yale University</td>\n",
       "      <td>199.6</td>\n",
       "    </tr>\n",
       "    <tr>\n",
       "      <th>5</th>\n",
       "      <td>University Of California, Los Angeles</td>\n",
       "      <td>199.1</td>\n",
       "    </tr>\n",
       "    <tr>\n",
       "      <th>6</th>\n",
       "      <td>Columbia University</td>\n",
       "      <td>197.1</td>\n",
       "    </tr>\n",
       "    <tr>\n",
       "      <th>7</th>\n",
       "      <td>Princeton University</td>\n",
       "      <td>196.6</td>\n",
       "    </tr>\n",
       "    <tr>\n",
       "      <th>8</th>\n",
       "      <td>University Of Chicago</td>\n",
       "      <td>190.3</td>\n",
       "    </tr>\n",
       "    <tr>\n",
       "      <th>9</th>\n",
       "      <td>Cornell University</td>\n",
       "      <td>189.2</td>\n",
       "    </tr>\n",
       "  </tbody>\n",
       "</table>\n",
       "</div>"
      ],
      "text/plain": [
       "                        institution_name  reputation\n",
       "0                     Harvard University       200.0\n",
       "1  Massachusetts Institute Of Technology       200.0\n",
       "2                    Stanford University       200.0\n",
       "3     University Of California, Berkeley       199.8\n",
       "4                        Yale University       199.6\n",
       "5  University Of California, Los Angeles       199.1\n",
       "6                    Columbia University       197.1\n",
       "7                   Princeton University       196.6\n",
       "8                  University Of Chicago       190.3\n",
       "9                     Cornell University       189.2"
      ]
     },
     "execution_count": 18,
     "metadata": {},
     "output_type": "execute_result"
    }
   ],
   "source": [
    "# compute and store the answer in the variable 'us_top_10_rep', then display it\n",
    "us_top_10_rep = pd.read_sql(\n",
    "\"\"\"\n",
    "SELECT institution_name, (academic_reputation + employer_reputation) AS reputation\n",
    "FROM rankings\n",
    "WHERE country = 'United States' AND year = 2019\n",
    "ORDER BY reputation DESC, institution_name\n",
    "LIMIT 10\n",
    "\"\"\", conn)\n",
    "us_top_10_rep"
   ]
  },
  {
   "cell_type": "code",
   "execution_count": 19,
   "id": "741beecf",
   "metadata": {
    "deletable": false,
    "editable": false
   },
   "outputs": [
    {
     "data": {
      "text/html": [
       "<p><strong><pre style='display: inline;'>q2</pre></strong> passed!</p>"
      ],
      "text/plain": [
       "q2 results: All test cases passed!"
      ]
     },
     "execution_count": 19,
     "metadata": {},
     "output_type": "execute_result"
    }
   ],
   "source": [
    "grader.check(\"q2\")"
   ]
  },
  {
   "cell_type": "markdown",
   "id": "a50e1501",
   "metadata": {
    "deletable": false,
    "editable": false
   },
   "source": [
    "**Question 3:** What are the **top** *10* countries which had the **most** *institutions* listed in the `year` *2020*?\n",
    "\n",
    "You **must** display the columns `country` and `num_of_institutions`. The rows **must** be in *descending* order of `num_of_institutions`. In case the `num_of_institutions` is tied, the rows must be in *alphabetical* order of `country`.\n",
    "\n",
    "**Hint:** You **must** use the `COUNT` SQL function to answer this question.\n",
    "\n",
    "Your output **must** be a **DataFrame** that looks like this:\n",
    "\n",
    "||**country**|**num_of_institutions**|\n",
    "|---------|------|---------|\n",
    "|**0**|United States|74|\n",
    "|**1**|United Kingdom|45|\n",
    "|**2**|Germany|23|\n",
    "|**3**|Australia|21|\n",
    "|**4**|Canada|14|\n",
    "|**5**|China|14|\n",
    "|**6**|France|14|\n",
    "|**7**|Japan|14|\n",
    "|**8**|Netherlands|13|\n",
    "|**9**|Russia|13|"
   ]
  },
  {
   "cell_type": "code",
   "execution_count": 20,
   "id": "da768ae6",
   "metadata": {
    "tags": []
   },
   "outputs": [
    {
     "data": {
      "text/html": [
       "<div>\n",
       "<style scoped>\n",
       "    .dataframe tbody tr th:only-of-type {\n",
       "        vertical-align: middle;\n",
       "    }\n",
       "\n",
       "    .dataframe tbody tr th {\n",
       "        vertical-align: top;\n",
       "    }\n",
       "\n",
       "    .dataframe thead th {\n",
       "        text-align: right;\n",
       "    }\n",
       "</style>\n",
       "<table border=\"1\" class=\"dataframe\">\n",
       "  <thead>\n",
       "    <tr style=\"text-align: right;\">\n",
       "      <th></th>\n",
       "      <th>country</th>\n",
       "      <th>num_of_institutions</th>\n",
       "    </tr>\n",
       "  </thead>\n",
       "  <tbody>\n",
       "    <tr>\n",
       "      <th>0</th>\n",
       "      <td>United States</td>\n",
       "      <td>74</td>\n",
       "    </tr>\n",
       "    <tr>\n",
       "      <th>1</th>\n",
       "      <td>United Kingdom</td>\n",
       "      <td>45</td>\n",
       "    </tr>\n",
       "    <tr>\n",
       "      <th>2</th>\n",
       "      <td>Germany</td>\n",
       "      <td>23</td>\n",
       "    </tr>\n",
       "    <tr>\n",
       "      <th>3</th>\n",
       "      <td>Australia</td>\n",
       "      <td>21</td>\n",
       "    </tr>\n",
       "    <tr>\n",
       "      <th>4</th>\n",
       "      <td>Canada</td>\n",
       "      <td>14</td>\n",
       "    </tr>\n",
       "    <tr>\n",
       "      <th>5</th>\n",
       "      <td>China</td>\n",
       "      <td>14</td>\n",
       "    </tr>\n",
       "    <tr>\n",
       "      <th>6</th>\n",
       "      <td>France</td>\n",
       "      <td>14</td>\n",
       "    </tr>\n",
       "    <tr>\n",
       "      <th>7</th>\n",
       "      <td>Japan</td>\n",
       "      <td>14</td>\n",
       "    </tr>\n",
       "    <tr>\n",
       "      <th>8</th>\n",
       "      <td>Netherlands</td>\n",
       "      <td>13</td>\n",
       "    </tr>\n",
       "    <tr>\n",
       "      <th>9</th>\n",
       "      <td>Russia</td>\n",
       "      <td>13</td>\n",
       "    </tr>\n",
       "  </tbody>\n",
       "</table>\n",
       "</div>"
      ],
      "text/plain": [
       "          country  num_of_institutions\n",
       "0   United States                   74\n",
       "1  United Kingdom                   45\n",
       "2         Germany                   23\n",
       "3       Australia                   21\n",
       "4          Canada                   14\n",
       "5           China                   14\n",
       "6          France                   14\n",
       "7           Japan                   14\n",
       "8     Netherlands                   13\n",
       "9          Russia                   13"
      ]
     },
     "execution_count": 20,
     "metadata": {},
     "output_type": "execute_result"
    }
   ],
   "source": [
    "# compute and store the answer in the variable 'top_10_countries', then display it\n",
    "top_10_countries = (\n",
    "pd.read_sql(\n",
    "\"\"\"\n",
    "SELECT country, COUNT(DISTINCT institution_name) AS num_of_institutions\n",
    "FROM rankings\n",
    "WHERE year = 2020\n",
    "GROUP BY country\n",
    "ORDER BY num_of_institutions DESC, country\n",
    "LIMIT 10\n",
    "\"\"\", conn))\n",
    "top_10_countries"
   ]
  },
  {
   "cell_type": "code",
   "execution_count": 21,
   "id": "f2f48453",
   "metadata": {
    "deletable": false,
    "editable": false
   },
   "outputs": [
    {
     "data": {
      "text/html": [
       "<p><strong><pre style='display: inline;'>q3</pre></strong> passed!</p>"
      ],
      "text/plain": [
       "q3 results: All test cases passed!"
      ]
     },
     "execution_count": 21,
     "metadata": {},
     "output_type": "execute_result"
    }
   ],
   "source": [
    "grader.check(\"q3\")"
   ]
  },
  {
   "cell_type": "markdown",
   "id": "6fd65519",
   "metadata": {
    "deletable": false,
    "editable": false
   },
   "source": [
    "**Question 4:** Using the data from q3, create a **bar plot** with the `country` on the **x-axis** and the `num_of_institutions` on the **y-axis**.\n",
    "\n",
    "You **must** plot the data for the **top** *10* countries in the database. You **must** also aggregate the data for **all** the other countries, and represent that number in the column `Other`. You are **allowed** do this using any combination of  SQL queries and pandas operations.\n",
    "\n",
    "You **must** first compute a **DataFrame** `num_institutions` containing the **country**, and the **num_of_institutions** data. Then, you **must** use `bar_plot` function to plot this data.\n",
    "\n",
    "**Hint**: You can use the `append` function of a DataFrame to add a single row to the end of your **DataFrame** from q3. You'll also need the keyword argument `ignore_index=True`. For example:\n",
    "\n",
    "```python\n",
    "my_new_dataframe = my_dataframe.append({\"country\": \"CS220\", \"num_of_institutions\": 22}, ignore_index=True)\n",
    "```\n",
    "will create a *new* **DataFrame** `my_new_dataframe` which contains all the rows from `my_dataframe`, along with the **additional row** which has been appended. You can **ignore** any warnings about `append` being deprecated.\n",
    "\n",
    "\n",
    "**Important Warning:** `p13_test.py` can check that the **DataFrame** is correct, but it **cannot** check if your plot appears on the screen, or whether the axes are correctly labelled. Your plots will be **manually graded**, and you will **lose points** if your plot is not visible, or if it is not properly labelled.\n",
    "\n",
    "Your plot should look like this:"
   ]
  },
  {
   "attachments": {},
   "cell_type": "markdown",
   "id": "565b25fe",
   "metadata": {},
   "source": []
  },
  {
   "cell_type": "code",
   "execution_count": 22,
   "id": "6fdfc2cb",
   "metadata": {
    "tags": []
   },
   "outputs": [
    {
     "name": "stderr",
     "output_type": "stream",
     "text": [
      "/var/folders/pj/0cct4d3s0zv9trbqxq8k60ch0000gn/T/ipykernel_47088/1101675952.py:12: FutureWarning: The frame.append method is deprecated and will be removed from pandas in a future version. Use pandas.concat instead.\n",
      "  num_institutions = num_institutions_updated.append({\"country\": \"Other\", \"num_of_institutions\": other}, ignore_index=True)\n"
     ]
    },
    {
     "data": {
      "image/png": "[encoded data removed]",
      "text/plain": [
       "<Figure size 432x288 with 1 Axes>"
      ]
     },
     "metadata": {
      "needs_background": "light"
     },
     "output_type": "display_data"
    }
   ],
   "source": [
    "# create the bar plot using the DataFrame 'num_institutions'\n",
    "query = \"\"\"\n",
    "SELECT country, COUNT(DISTINCT institution_name) AS 'num_of_institutions'\n",
    "FROM rankings\n",
    "WHERE year = 2020\n",
    "GROUP BY country\n",
    "ORDER BY num_of_institutions DESC, country\n",
    "\"\"\"\n",
    "num_institutions_df = pd.read_sql(query, conn)\n",
    "other = num_institutions_df['num_of_institutions'].iloc[10:].sum()\n",
    "num_institutions_updated = top_10_countries\n",
    "num_institutions = num_institutions_updated.append({\"country\": \"Other\", \"num_of_institutions\": other}, ignore_index=True)\n",
    "bar_plot(num_institutions, 'country', 'num_of_institutions')\n",
    "# TODO: use a SQL query similar to q3 to get the number of institutions of all countries\n",
    "#       (not just the top 10), ordered by the number of institutions, and store in a DataFrame\n",
    "# TODO: Use pandas to find the sum of the institutions in all countries except the top 10\n",
    "# TODO: create a new dictionary with the data about the new row that needs to be added\n",
    "# TODO: properly append this new dictionary to 'num_institutions' and update 'num_institutions'\n",
    "# TODO: create a bar plot using 'num_institutions'\n"
   ]
  },
  {
   "cell_type": "code",
   "execution_count": 23,
   "id": "aac6091e",
   "metadata": {
    "deletable": false,
    "editable": false
   },
   "outputs": [
    {
     "data": {
      "text/html": [
       "<p><strong><pre style='display: inline;'>q4</pre></strong> passed!</p>"
      ],
      "text/plain": [
       "q4 results: All test cases passed!"
      ]
     },
     "execution_count": 23,
     "metadata": {},
     "output_type": "execute_result"
    }
   ],
   "source": [
    "grader.check(\"q4\")"
   ]
  },
  {
   "cell_type": "markdown",
   "id": "a7b51776",
   "metadata": {
    "deletable": false,
    "editable": false
   },
   "source": [
    "**Question 5:** What are the **top** *10* countries which had the **highest** *total* `overall_score` listed in the `year` *2019*?\n",
    "\n",
    "The *total* `overall_score` of a `country` is defined as the **sum** of `overall_score` of **all** institutions in that `country`. You **must** display the columns `country` and `total_score`. The rows **must** be in *descending* order of `total_score`.\n",
    "\n",
    "Your output **must** be a **DataFrame** that looks like this:\n",
    "\n",
    "||**country**|**total_score**|\n",
    "|---------|------|---------|\n",
    "|**0**|United States|4298.4|\n",
    "|**1**|United Kingdom|2539.2|\n",
    "|**2**|Germany|1098.2|\n",
    "|**3**|Australia|1093.8|\n",
    "|**4**|Japan|752.9|\n",
    "|**5**|China|743.4|\n",
    "|**6**|Canada|705.3|\n",
    "|**7**|Netherlands|674.9|\n",
    "|**8**|South Korea|612.8|\n",
    "|**9**|France|595.2|"
   ]
  },
  {
   "cell_type": "code",
   "execution_count": 24,
   "id": "2685ceea",
   "metadata": {
    "tags": []
   },
   "outputs": [
    {
     "data": {
      "text/html": [
       "<div>\n",
       "<style scoped>\n",
       "    .dataframe tbody tr th:only-of-type {\n",
       "        vertical-align: middle;\n",
       "    }\n",
       "\n",
       "    .dataframe tbody tr th {\n",
       "        vertical-align: top;\n",
       "    }\n",
       "\n",
       "    .dataframe thead th {\n",
       "        text-align: right;\n",
       "    }\n",
       "</style>\n",
       "<table border=\"1\" class=\"dataframe\">\n",
       "  <thead>\n",
       "    <tr style=\"text-align: right;\">\n",
       "      <th></th>\n",
       "      <th>country</th>\n",
       "      <th>total_score</th>\n",
       "    </tr>\n",
       "  </thead>\n",
       "  <tbody>\n",
       "    <tr>\n",
       "      <th>0</th>\n",
       "      <td>United States</td>\n",
       "      <td>4298.4</td>\n",
       "    </tr>\n",
       "    <tr>\n",
       "      <th>1</th>\n",
       "      <td>United Kingdom</td>\n",
       "      <td>2539.2</td>\n",
       "    </tr>\n",
       "    <tr>\n",
       "      <th>2</th>\n",
       "      <td>Germany</td>\n",
       "      <td>1098.2</td>\n",
       "    </tr>\n",
       "    <tr>\n",
       "      <th>3</th>\n",
       "      <td>Australia</td>\n",
       "      <td>1093.8</td>\n",
       "    </tr>\n",
       "    <tr>\n",
       "      <th>4</th>\n",
       "      <td>Japan</td>\n",
       "      <td>752.9</td>\n",
       "    </tr>\n",
       "    <tr>\n",
       "      <th>5</th>\n",
       "      <td>China</td>\n",
       "      <td>743.4</td>\n",
       "    </tr>\n",
       "    <tr>\n",
       "      <th>6</th>\n",
       "      <td>Canada</td>\n",
       "      <td>705.3</td>\n",
       "    </tr>\n",
       "    <tr>\n",
       "      <th>7</th>\n",
       "      <td>Netherlands</td>\n",
       "      <td>674.9</td>\n",
       "    </tr>\n",
       "    <tr>\n",
       "      <th>8</th>\n",
       "      <td>South Korea</td>\n",
       "      <td>612.8</td>\n",
       "    </tr>\n",
       "    <tr>\n",
       "      <th>9</th>\n",
       "      <td>France</td>\n",
       "      <td>595.2</td>\n",
       "    </tr>\n",
       "  </tbody>\n",
       "</table>\n",
       "</div>"
      ],
      "text/plain": [
       "          country  total_score\n",
       "0   United States       4298.4\n",
       "1  United Kingdom       2539.2\n",
       "2         Germany       1098.2\n",
       "3       Australia       1093.8\n",
       "4           Japan        752.9\n",
       "5           China        743.4\n",
       "6          Canada        705.3\n",
       "7     Netherlands        674.9\n",
       "8     South Korea        612.8\n",
       "9          France        595.2"
      ]
     },
     "execution_count": 24,
     "metadata": {},
     "output_type": "execute_result"
    }
   ],
   "source": [
    "# compute and store the answer in the variable 'top_10_total_score', then display it\n",
    "top_10_total_score = (\n",
    "pd.read_sql(\n",
    "\"\"\"\n",
    "SELECT country, SUM(overall_score) AS total_score\n",
    "FROM rankings\n",
    "WHERE year = 2019\n",
    "GROUP BY country\n",
    "ORDER BY total_score DESC, country\n",
    "LIMIT 10\n",
    "\"\"\", conn))\n",
    "top_10_total_score"
   ]
  },
  {
   "cell_type": "code",
   "execution_count": 25,
   "id": "8978c544",
   "metadata": {
    "deletable": false,
    "editable": false
   },
   "outputs": [
    {
     "data": {
      "text/html": [
       "<p><strong><pre style='display: inline;'>q5</pre></strong> passed!</p>"
      ],
      "text/plain": [
       "q5 results: All test cases passed!"
      ]
     },
     "execution_count": 25,
     "metadata": {},
     "output_type": "execute_result"
    }
   ],
   "source": [
    "grader.check(\"q5\")"
   ]
  },
  {
   "cell_type": "markdown",
   "id": "f9defacf",
   "metadata": {
    "deletable": false,
    "editable": false
   },
   "source": [
    "**Question 6:** Using the data from q5, create a **bar plot** with the `country` on the **x-axis** and the `total_score` on the **y-axis**.\n",
    "\n",
    "You **must** plot the data for the **top** *10* countries in the database. Unlike q4, you do **not** have to compute the `total_score` of the other countries.\n",
    "\n",
    "You have **already** computed the **DataFrame** `top_10_total_score` containing the **country**, and the **total_score** data. Now, you **must** use `bar_plot` function to plot this data.\n",
    "\n",
    "**Important Warning:** `p13_test.py` can check that the **DataFrame** is correct, but it **cannot** check if your plot appears on the screen, or whether the axes are correctly labelled. Your plots will be **manually graded**, and you will **lose points** if your plot is not visible, or if it is not properly labelled.\n",
    "\n",
    "Your plot should look like this:"
   ]
  },
  {
   "attachments": {},
   "cell_type": "markdown",
   "id": "542c5eb2",
   "metadata": {},
   "source": []
  },
  {
   "cell_type": "code",
   "execution_count": 26,
   "id": "5447f43f",
   "metadata": {
    "tags": []
   },
   "outputs": [
    {
     "data": {
      "image/png": "[encoded data removed]",
      "text/plain": [
       "<Figure size 432x288 with 1 Axes>"
      ]
     },
     "metadata": {
      "needs_background": "light"
     },
     "output_type": "display_data"
    }
   ],
   "source": [
    "# create the bar plot using the DataFrame 'top_10_total_score'\n",
    "top_10_total_score = (\n",
    "pd.read_sql(\n",
    "\"\"\"\n",
    "SELECT country, SUM(overall_score) AS total_score\n",
    "FROM rankings\n",
    "WHERE year = 2019\n",
    "GROUP BY country\n",
    "ORDER BY total_score DESC, country\n",
    "LIMIT 10\n",
    "\"\"\", conn))\n",
    "bar_plot(top_10_total_score, 'country', 'total_score')"
   ]
  },
  {
   "cell_type": "code",
   "execution_count": 27,
   "id": "0b84c0ed",
   "metadata": {
    "deletable": false,
    "editable": false
   },
   "outputs": [
    {
     "data": {
      "text/html": [
       "<p><strong><pre style='display: inline;'>q6</pre></strong> passed!</p>"
      ],
      "text/plain": [
       "q6 results: All test cases passed!"
      ]
     },
     "execution_count": 27,
     "metadata": {},
     "output_type": "execute_result"
    }
   ],
   "source": [
    "grader.check(\"q6\")"
   ]
  },
  {
   "cell_type": "markdown",
   "id": "c13c4dcc",
   "metadata": {
    "deletable": false,
    "editable": false
   },
   "source": [
    "**Question 7:** What are the **top** *10* institutions in the *United States* which had the **highest** *international_score* in the `year` *2020*?\n",
    "\n",
    "The *international_score* of an institution is defined as the **sum** of `international_faculty` and `international_students` scores of that institution. You **must** display the columns `institution_name` and `international_score`. The rows **must** be in *descending* order of `international_score`.\n",
    "\n",
    "Your output **must** be a **DataFrame** that looks like this:\n",
    "\n",
    "||**institution_name**|**international_score**|\n",
    "|---------|------|---------|\n",
    "|**0**|Massachusetts Institute Of Technology|194.1|\n",
    "|**1**|California Institute Of Technology|186.7|\n",
    "|**2**|Carnegie Mellon University|183.5|\n",
    "|**3**|Rice University|180.4|\n",
    "|**4**|Northeastern University|179.1|\n",
    "|**5**|Stanford University|167.5|\n",
    "|**6**|Cornell University|166.1|\n",
    "|**7**|Purdue University|158.2|\n",
    "|**8**|University Of Rochester|157.9|\n",
    "|**9**|University Of Chicago|151.2|"
   ]
  },
  {
   "cell_type": "code",
   "execution_count": 28,
   "id": "030ebf1e",
   "metadata": {
    "tags": []
   },
   "outputs": [
    {
     "data": {
      "text/html": [
       "<div>\n",
       "<style scoped>\n",
       "    .dataframe tbody tr th:only-of-type {\n",
       "        vertical-align: middle;\n",
       "    }\n",
       "\n",
       "    .dataframe tbody tr th {\n",
       "        vertical-align: top;\n",
       "    }\n",
       "\n",
       "    .dataframe thead th {\n",
       "        text-align: right;\n",
       "    }\n",
       "</style>\n",
       "<table border=\"1\" class=\"dataframe\">\n",
       "  <thead>\n",
       "    <tr style=\"text-align: right;\">\n",
       "      <th></th>\n",
       "      <th>institution_name</th>\n",
       "      <th>international_score</th>\n",
       "    </tr>\n",
       "  </thead>\n",
       "  <tbody>\n",
       "    <tr>\n",
       "      <th>0</th>\n",
       "      <td>Massachusetts Institute Of Technology</td>\n",
       "      <td>194.1</td>\n",
       "    </tr>\n",
       "    <tr>\n",
       "      <th>1</th>\n",
       "      <td>California Institute Of Technology</td>\n",
       "      <td>186.7</td>\n",
       "    </tr>\n",
       "    <tr>\n",
       "      <th>2</th>\n",
       "      <td>Carnegie Mellon University</td>\n",
       "      <td>183.5</td>\n",
       "    </tr>\n",
       "    <tr>\n",
       "      <th>3</th>\n",
       "      <td>Rice University</td>\n",
       "      <td>180.4</td>\n",
       "    </tr>\n",
       "    <tr>\n",
       "      <th>4</th>\n",
       "      <td>Northeastern University</td>\n",
       "      <td>179.1</td>\n",
       "    </tr>\n",
       "    <tr>\n",
       "      <th>5</th>\n",
       "      <td>Stanford University</td>\n",
       "      <td>167.5</td>\n",
       "    </tr>\n",
       "    <tr>\n",
       "      <th>6</th>\n",
       "      <td>Cornell University</td>\n",
       "      <td>166.1</td>\n",
       "    </tr>\n",
       "    <tr>\n",
       "      <th>7</th>\n",
       "      <td>Purdue University</td>\n",
       "      <td>158.2</td>\n",
       "    </tr>\n",
       "    <tr>\n",
       "      <th>8</th>\n",
       "      <td>University Of Rochester</td>\n",
       "      <td>157.9</td>\n",
       "    </tr>\n",
       "    <tr>\n",
       "      <th>9</th>\n",
       "      <td>University Of Chicago</td>\n",
       "      <td>151.2</td>\n",
       "    </tr>\n",
       "  </tbody>\n",
       "</table>\n",
       "</div>"
      ],
      "text/plain": [
       "                        institution_name  international_score\n",
       "0  Massachusetts Institute Of Technology                194.1\n",
       "1     California Institute Of Technology                186.7\n",
       "2             Carnegie Mellon University                183.5\n",
       "3                        Rice University                180.4\n",
       "4                Northeastern University                179.1\n",
       "5                    Stanford University                167.5\n",
       "6                     Cornell University                166.1\n",
       "7                      Purdue University                158.2\n",
       "8                University Of Rochester                157.9\n",
       "9                  University Of Chicago                151.2"
      ]
     },
     "execution_count": 28,
     "metadata": {},
     "output_type": "execute_result"
    }
   ],
   "source": [
    "# compute and store the answer in the variable 'top_10_inter_score', then display it\n",
    "top_10_inter_score = pd.read_sql(\n",
    "\"\"\"\n",
    "SELECT institution_name, (international_faculty + international_students) AS international_score\n",
    "FROM rankings\n",
    "WHERE year = 2020 AND country = 'United States'\n",
    "ORDER BY international_score DESC, institution_name\n",
    "LIMIT 10\n",
    "\"\"\", conn)\n",
    "top_10_inter_score"
   ]
  },
  {
   "cell_type": "code",
   "execution_count": 29,
   "id": "7d0ae56d",
   "metadata": {
    "deletable": false,
    "editable": false
   },
   "outputs": [
    {
     "data": {
      "text/html": [
       "<p><strong><pre style='display: inline;'>q7</pre></strong> passed!</p>"
      ],
      "text/plain": [
       "q7 results: All test cases passed!"
      ]
     },
     "execution_count": 29,
     "metadata": {},
     "output_type": "execute_result"
    }
   ],
   "source": [
    "grader.check(\"q7\")"
   ]
  },
  {
   "cell_type": "markdown",
   "id": "149dc084",
   "metadata": {
    "deletable": false,
    "editable": false
   },
   "source": [
    "**Question 8:** Create a **scatter plot** representing the `citations_per_faculty` (on the **x-axis**) against the `overall_score` (on the **y-axis**) of each institution in the `year` *2018*.\n",
    "\n",
    "You **must** first compute a **DataFrame** `citations_overall` containing the **citations_per_faculty**, and the **overall_score** data from the `year` *2018*, of each **institution**. Then, you **must** use `scatter_plot` function to plot this data.\n",
    "\n",
    "\n",
    "**Important Warning:** `p13_test.py` can check that the **DataFrame** is correct, but it **cannot** check if your plot appears on the screen, or whether the axes are correctly labelled. Your plots will be **manually graded**, and you will **lose points** if your plot is not visible, or if it is not properly labelled.\n",
    "\n",
    "Your plot should look like this:"
   ]
  },
  {
   "attachments": {},
   "cell_type": "markdown",
   "id": "686ceacb",
   "metadata": {},
   "source": []
  },
  {
   "cell_type": "code",
   "execution_count": 30,
   "id": "9924232c",
   "metadata": {
    "tags": []
   },
   "outputs": [
    {
     "data": {
      "image/png": "[encoded data removed]",
      "text/plain": [
       "<Figure size 432x288 with 1 Axes>"
      ]
     },
     "metadata": {
      "needs_background": "light"
     },
     "output_type": "display_data"
    }
   ],
   "source": [
    "# first compute and store the DataFrame 'citations_overall'\n",
    "# then create the scatter plot using the DataFrame\n",
    "query = \"\"\"\n",
    "SELECT citations_per_faculty, overall_score\n",
    "FROM rankings\n",
    "WHERE year = 2018\n",
    "\"\"\"\n",
    "citations_overall = pd.read_sql(query, conn)\n",
    "scatter_plot(citations_overall, 'citations_per_faculty', 'overall_score')"
   ]
  },
  {
   "cell_type": "code",
   "execution_count": 31,
   "id": "cf813d37",
   "metadata": {
    "deletable": false,
    "editable": false
   },
   "outputs": [
    {
     "data": {
      "text/html": [
       "<p><strong><pre style='display: inline;'>q8</pre></strong> passed!</p>"
      ],
      "text/plain": [
       "q8 results: All test cases passed!"
      ]
     },
     "execution_count": 31,
     "metadata": {},
     "output_type": "execute_result"
    }
   ],
   "source": [
    "grader.check(\"q8\")"
   ]
  },
  {
   "cell_type": "markdown",
   "id": "7f590b2e",
   "metadata": {
    "deletable": false,
    "editable": false
   },
   "source": [
    "**Question 9:** Create a **scatter plot** representing the `academic_reputation` (on the **x-axis**) against the `employer_reputation` (on the **y-axis**) of each institution from the *United States* in the `year` *2019*.\n",
    "\n",
    "You **must** first compute a **DataFrame** `reputations_usa` containing the **academic_reputation**, and the **employer_reputation** data from the `year` *2019*, of each **institution** in the `country` *United States*. Then, you **must** use `scatter_plot` function to plot this data.\n",
    "\n",
    "\n",
    "**Important Warning:** `p13_test.py` can check that the **DataFrame** is correct, but it **cannot** check if your plot appears on the screen, or whether the axes are correctly labelled. Your plots will be **manually graded**, and you will **lose points** if your plot is not visible, or if it is not properly labelled.\n",
    "\n",
    "Your plot should look like this:"
   ]
  },
  {
   "attachments": {},
   "cell_type": "markdown",
   "id": "5b29f5bf",
   "metadata": {},
   "source": []
  },
  {
   "cell_type": "code",
   "execution_count": 32,
   "id": "12fb84c0",
   "metadata": {
    "tags": []
   },
   "outputs": [
    {
     "data": {
      "image/png": "[encoded data removed]",
      "text/plain": [
       "<Figure size 432x288 with 1 Axes>"
      ]
     },
     "metadata": {
      "needs_background": "light"
     },
     "output_type": "display_data"
    }
   ],
   "source": [
    "# first compute and store the DataFrame 'reputations_usa'\n",
    "# then create the scatter plot using the DataFrame\n",
    "query = \"\"\"\n",
    "SELECT academic_reputation, employer_reputation\n",
    "FROM rankings\n",
    "WHERE year = 2019 AND country = 'United States'\n",
    "\"\"\"\n",
    "reputations_usa = pd.read_sql(query, conn)\n",
    "scatter_plot(reputations_usa, 'academic_reputation', 'employer_reputation')"
   ]
  },
  {
   "cell_type": "code",
   "execution_count": 33,
   "id": "e19cbd6e",
   "metadata": {
    "deletable": false,
    "editable": false
   },
   "outputs": [
    {
     "data": {
      "text/html": [
       "<p><strong><pre style='display: inline;'>q9</pre></strong> passed!</p>"
      ],
      "text/plain": [
       "q9 results: All test cases passed!"
      ]
     },
     "execution_count": 33,
     "metadata": {},
     "output_type": "execute_result"
    }
   ],
   "source": [
    "grader.check(\"q9\")"
   ]
  },
  {
   "cell_type": "markdown",
   "id": "391181e2",
   "metadata": {
    "deletable": false,
    "editable": false
   },
   "source": [
    "**Question 10:** Create a **scatter plot** representing the `international_students` (on the **x-axis**) against the `faculty_student_score` (on the **y-axis**) for the **top ranked** institution of **each** `country` in the `year` *2020*.\n",
    "\n",
    "You **must** first compute a **DataFrame** `top_ranked_inter_faculty` containing the **international_students**, and the **faculty_student_score** data from the `year` *2020*, of the **top** ranked **institution** (i.e., the institution with the **least** `rank`) of each **country**. Then, you **must** use `scatter_plot` function to plot this data.\n",
    "\n",
    "**Hint:** You can use the `MIN` SQL function to return the least value of a selected column. However, there are a few things to keep in mind while using this function.\n",
    "* The function must be in **uppercase** (i.e., you must use `MIN`, and **not** `min`).\n",
    "* The column you are finding the minimum of must be inside backticks (``` ` ```). For example, if you want to find the minimum `rank`, you need to say ```MIN(`rank`)```.\n",
    "\n",
    "If you do not follow the syntax above, your code will likely fail.\n",
    "\n",
    "**Important Warning:** `p13_test.py` can check that the **DataFrame** is correct, but it **cannot** check if your plot appears on the screen, or whether the axes are correctly labelled. Your plots will be **manually graded**, and you will **lose points** if your plot is not visible, or if it is not properly labelled.\n",
    "\n",
    "Your plot should look like this:"
   ]
  },
  {
   "attachments": {},
   "cell_type": "markdown",
   "id": "8d2faf07",
   "metadata": {},
   "source": []
  },
  {
   "cell_type": "code",
   "execution_count": 34,
   "id": "29450209",
   "metadata": {
    "tags": []
   },
   "outputs": [
    {
     "data": {
      "image/png": "[encoded data removed]",
      "text/plain": [
       "<Figure size 432x288 with 1 Axes>"
      ]
     },
     "metadata": {
      "needs_background": "light"
     },
     "output_type": "display_data"
    }
   ],
   "source": [
    "# first compute and store the DataFrame 'top_ranked_inter_faculty'\n",
    "# then create the scatter plot using the DataFrame\n",
    "query = \"\"\"\n",
    "SELECT international_students , faculty_student_score\n",
    "FROM rankings\n",
    "WHERE year = 2020\n",
    "GROUP BY country\n",
    "ORDER BY MIN('rank')\n",
    "\"\"\"\n",
    "top_ranked_inter_faculty = pd.read_sql(query, conn)\n",
    "scatter_plot(top_ranked_inter_faculty, 'international_students', 'faculty_student_score')"
   ]
  },
  {
   "cell_type": "code",
   "execution_count": 35,
   "id": "e302d4ae",
   "metadata": {
    "deletable": false,
    "editable": false
   },
   "outputs": [
    {
     "data": {
      "text/html": [
       "<p><strong><pre style='display: inline;'>q10</pre></strong> passed!</p>"
      ],
      "text/plain": [
       "q10 results: All test cases passed!"
      ]
     },
     "execution_count": 35,
     "metadata": {},
     "output_type": "execute_result"
    }
   ],
   "source": [
    "grader.check(\"q10\")"
   ]
  },
  {
   "cell_type": "markdown",
   "id": "144427bb",
   "metadata": {
    "deletable": false,
    "editable": false
   },
   "source": [
    "### Correlations:\n",
    "\n",
    "You can use the `.corr()` method on a **DataFrame** that has **two** columns to get the *correlation* between those two columns.\n",
    "\n",
    "For example, if we have a **DataFrame** `df` with the two columns `citations_per_faculty` and `overall_score`, `df.corr()` would return\n",
    "\n",
    "||**citations_per_faculty**|**overall_score**|\n",
    "|---------|------|---------|\n",
    "|citations_per_faculty|1.000000|0.574472|\n",
    "|overall_score|0.574472|1.000000|\n",
    "\n",
    "You can use `.loc` here to **extract** the *correlation* between the two columns (`0.574472` in this case)."
   ]
  },
  {
   "cell_type": "markdown",
   "id": "1d8048b9",
   "metadata": {
    "deletable": false,
    "editable": false
   },
   "source": [
    "**Question 11:** Find the **correlation** between `international_students` and `overall_score` for institutions from the `country` *United Kingdom* that were ranked in the **top** *100* in the `year` *2020*.\n",
    "\n",
    "Your output **must** be a **float** representing the absolute correlations. The **only** `pandas` operations you are **allowed** to use are: `.corr`, `.loc` and `.iloc`. You **must** use SQL to gather all other data."
   ]
  },
  {
   "cell_type": "code",
   "execution_count": 36,
   "id": "a7be5fc8",
   "metadata": {
    "tags": []
   },
   "outputs": [
    {
     "data": {
      "text/plain": [
       "0.5213253604130499"
      ]
     },
     "execution_count": 36,
     "metadata": {},
     "output_type": "execute_result"
    }
   ],
   "source": [
    "# compute and store the answer in the variable 'uk_inter_score_corr', then display it\n",
    "query = \"\"\"\n",
    "SELECT international_students , overall_score\n",
    "FROM rankings\n",
    "WHERE year = 2020 AND country = 'United Kingdom' AND rank <= 100\n",
    "\"\"\"\n",
    "uk_data = pd.read_sql(query, conn)\n",
    "uk_inter_score_corr = uk_data.corr()['overall_score']['international_students']\n",
    "uk_inter_score_corr"
   ]
  },
  {
   "cell_type": "code",
   "execution_count": 37,
   "id": "3c0477e2",
   "metadata": {
    "deletable": false,
    "editable": false
   },
   "outputs": [
    {
     "data": {
      "text/html": [
       "<p><strong><pre style='display: inline;'>q11</pre></strong> passed!</p>"
      ],
      "text/plain": [
       "q11 results: All test cases passed!"
      ]
     },
     "execution_count": 37,
     "metadata": {},
     "output_type": "execute_result"
    }
   ],
   "source": [
    "grader.check(\"q11\")"
   ]
  },
  {
   "cell_type": "markdown",
   "id": "9f0e911b",
   "metadata": {
    "deletable": false,
    "editable": false
   },
   "source": [
    "Let us now define a new score called `citations_per_international` as follows:\n",
    "\n",
    "$$\\texttt{citations}\\_\\texttt{per}\\_\\texttt{international} = \\frac{\\texttt{citations}\\_\\texttt{per}\\_\\texttt{faculty} \\times \\texttt{international}\\_\\texttt{faculty}}{100}.$$\n"
   ]
  },
  {
   "cell_type": "markdown",
   "id": "db0f284f",
   "metadata": {
    "deletable": false,
    "editable": false
   },
   "source": [
    "**Question 12:** Find the **correlation** between `citations_per_international` and `overall_score` for **all** institutions in the `year` *2019*.\n",
    "\n",
    "Your output **must** be a **float** representing the absolute correlations. The **only** `pandas` operations you are **allowed** to use are: `.corr`, `.loc` and `.iloc`. You **must** use SQL to gather all other data."
   ]
  },
  {
   "cell_type": "code",
   "execution_count": 38,
   "id": "d5e70180",
   "metadata": {
    "tags": []
   },
   "outputs": [
    {
     "data": {
      "text/plain": [
       "0.5573972283437623"
      ]
     },
     "execution_count": 38,
     "metadata": {},
     "output_type": "execute_result"
    }
   ],
   "source": [
    "# compute and store the answer in the variable 'cit_per_inter_score_corr', then display it\n",
    "query = \"\"\"\n",
    "SELECT ((citations_per_faculty * international_faculty)/100) AS citation_score , overall_score\n",
    "FROM rankings\n",
    "WHERE year = '2019'\n",
    "ORDER BY overall_score DESC, citation_score DESC\n",
    "\n",
    "\"\"\"\n",
    "cit_per_inter_score = pd.read_sql(query, conn)\n",
    "cit_per_inter_score_corr = cit_per_inter_score.corr()['overall_score']['citation_score']\n",
    "cit_per_inter_score_corr"
   ]
  },
  {
   "cell_type": "code",
   "execution_count": 39,
   "id": "92736e16",
   "metadata": {
    "deletable": false,
    "editable": false
   },
   "outputs": [
    {
     "data": {
      "text/html": [
       "<p><strong><pre style='display: inline;'>q12</pre></strong> passed!</p>"
      ],
      "text/plain": [
       "q12 results: All test cases passed!"
      ]
     },
     "execution_count": 39,
     "metadata": {},
     "output_type": "execute_result"
    }
   ],
   "source": [
    "grader.check(\"q12\")"
   ]
  },
  {
   "cell_type": "markdown",
   "id": "a5ed6baa",
   "metadata": {
    "deletable": false,
    "editable": false
   },
   "source": [
    "**Question 13:** What are the **top** *15* countries with the **highest** *total* of `citations_per_international` in the `year` *2019*.\n",
    "\n",
    "\n",
    "The *total* `citations_per_international` of a `country` is defined as the **sum** of `citations_per_international` scores of **all** institutions in that `country`. You **must** display the columns `country` and `sum_inter_citations`. The rows **must** be in *descending* order of `sum_inter_citations`.\n",
    "\n",
    "Your output **must** be a **DataFrame** that looks like this:\n",
    "\n",
    "||**country**|**sum_inter_citations**|\n",
    "|----|-----------|-----------------------|\n",
    "|**0**|United States|2623.8207|\n",
    "|**1**|United Kingdom|2347.1602|\n",
    "|**2**|Australia|1255.5530|\n",
    "|**3**|Netherlands|748.4268|\n",
    "|**4**|Canada|724.5029|\n",
    "|**5**|Switzerland|561.8790|\n",
    "|**6**|China|482.2577|\n",
    "|**7**|Germany|455.5466|\n",
    "|**8**|Hong Kong|375.3032|\n",
    "|**9**|New Zealand|327.3357|\n",
    "|**10**|Sweden|305.3745|\n",
    "|**11**|Belgium|255.0750|\n",
    "|**12**|France|198.0860|\n",
    "|**13**|Denmark|186.4904|\n",
    "|**14**|Singapore|160.3000|"
   ]
  },
  {
   "cell_type": "code",
   "execution_count": 40,
   "id": "af375ba0",
   "metadata": {
    "tags": []
   },
   "outputs": [
    {
     "data": {
      "text/html": [
       "<div>\n",
       "<style scoped>\n",
       "    .dataframe tbody tr th:only-of-type {\n",
       "        vertical-align: middle;\n",
       "    }\n",
       "\n",
       "    .dataframe tbody tr th {\n",
       "        vertical-align: top;\n",
       "    }\n",
       "\n",
       "    .dataframe thead th {\n",
       "        text-align: right;\n",
       "    }\n",
       "</style>\n",
       "<table border=\"1\" class=\"dataframe\">\n",
       "  <thead>\n",
       "    <tr style=\"text-align: right;\">\n",
       "      <th></th>\n",
       "      <th>country</th>\n",
       "      <th>sum_inter_citations</th>\n",
       "    </tr>\n",
       "  </thead>\n",
       "  <tbody>\n",
       "    <tr>\n",
       "      <th>0</th>\n",
       "      <td>United States</td>\n",
       "      <td>2623.8207</td>\n",
       "    </tr>\n",
       "    <tr>\n",
       "      <th>1</th>\n",
       "      <td>United Kingdom</td>\n",
       "      <td>2347.1602</td>\n",
       "    </tr>\n",
       "    <tr>\n",
       "      <th>2</th>\n",
       "      <td>Australia</td>\n",
       "      <td>1255.5530</td>\n",
       "    </tr>\n",
       "    <tr>\n",
       "      <th>3</th>\n",
       "      <td>Netherlands</td>\n",
       "      <td>748.4268</td>\n",
       "    </tr>\n",
       "    <tr>\n",
       "      <th>4</th>\n",
       "      <td>Canada</td>\n",
       "      <td>724.5029</td>\n",
       "    </tr>\n",
       "    <tr>\n",
       "      <th>5</th>\n",
       "      <td>Switzerland</td>\n",
       "      <td>561.8790</td>\n",
       "    </tr>\n",
       "    <tr>\n",
       "      <th>6</th>\n",
       "      <td>China</td>\n",
       "      <td>482.2577</td>\n",
       "    </tr>\n",
       "    <tr>\n",
       "      <th>7</th>\n",
       "      <td>Germany</td>\n",
       "      <td>455.5466</td>\n",
       "    </tr>\n",
       "    <tr>\n",
       "      <th>8</th>\n",
       "      <td>Hong Kong</td>\n",
       "      <td>375.3032</td>\n",
       "    </tr>\n",
       "    <tr>\n",
       "      <th>9</th>\n",
       "      <td>New Zealand</td>\n",
       "      <td>327.3357</td>\n",
       "    </tr>\n",
       "    <tr>\n",
       "      <th>10</th>\n",
       "      <td>Sweden</td>\n",
       "      <td>305.3745</td>\n",
       "    </tr>\n",
       "    <tr>\n",
       "      <th>11</th>\n",
       "      <td>Belgium</td>\n",
       "      <td>255.0750</td>\n",
       "    </tr>\n",
       "    <tr>\n",
       "      <th>12</th>\n",
       "      <td>France</td>\n",
       "      <td>198.0860</td>\n",
       "    </tr>\n",
       "    <tr>\n",
       "      <th>13</th>\n",
       "      <td>Denmark</td>\n",
       "      <td>186.4904</td>\n",
       "    </tr>\n",
       "    <tr>\n",
       "      <th>14</th>\n",
       "      <td>Singapore</td>\n",
       "      <td>160.3000</td>\n",
       "    </tr>\n",
       "  </tbody>\n",
       "</table>\n",
       "</div>"
      ],
      "text/plain": [
       "           country  sum_inter_citations\n",
       "0    United States            2623.8207\n",
       "1   United Kingdom            2347.1602\n",
       "2        Australia            1255.5530\n",
       "3      Netherlands             748.4268\n",
       "4           Canada             724.5029\n",
       "5      Switzerland             561.8790\n",
       "6            China             482.2577\n",
       "7          Germany             455.5466\n",
       "8        Hong Kong             375.3032\n",
       "9      New Zealand             327.3357\n",
       "10          Sweden             305.3745\n",
       "11         Belgium             255.0750\n",
       "12          France             198.0860\n",
       "13         Denmark             186.4904\n",
       "14       Singapore             160.3000"
      ]
     },
     "execution_count": 40,
     "metadata": {},
     "output_type": "execute_result"
    }
   ],
   "source": [
    "# compute and store the answer in the variable 'top_cit_per_inter', then display it\n",
    "query = \"\"\"\n",
    "SELECT country, SUM(((citations_per_faculty * international_faculty)/100)) AS sum_inter_citations\n",
    "FROM rankings\n",
    "WHERE year = 2019\n",
    "GROUP BY country\n",
    "ORDER BY sum_inter_citations DESC\n",
    "LIMIT 15\n",
    "\"\"\"\n",
    "top_cit_per_inter = pd.read_sql(query, conn)\n",
    "top_cit_per_inter"
   ]
  },
  {
   "cell_type": "code",
   "execution_count": 41,
   "id": "595d9a34",
   "metadata": {
    "deletable": false,
    "editable": false
   },
   "outputs": [
    {
     "data": {
      "text/html": [
       "<p><strong><pre style='display: inline;'>q13</pre></strong> passed!</p>"
      ],
      "text/plain": [
       "q13 results: All test cases passed!"
      ]
     },
     "execution_count": 41,
     "metadata": {},
     "output_type": "execute_result"
    }
   ],
   "source": [
    "grader.check(\"q13\")"
   ]
  },
  {
   "cell_type": "markdown",
   "id": "1b57f98e",
   "metadata": {
    "deletable": false,
    "editable": false
   },
   "source": [
    "**Question 14:** Among the institutions ranked within the **top** *300*, find the **average** `citations_per_international` for **each** `country` in the `year` *2019.\n",
    "\n",
    "You **must** display the columns `country` and `avg_inter_citations` representing the **average** of `citations_per_international` for **each** country. The rows **must** be in *descending* order of `avg_inter_citations`.\n",
    "\n",
    "**Hint:** To find the **average**, you can use `SUM()` and `COUNT()` or you can simply use `AVG()`.\n",
    "\n",
    "Your output **must** be a **DataFrame** whose **first ten rows** look like this:\n",
    "\n",
    "||**country**|**avg_inter_citations**|\n",
    "|----|-----------|----------------------|\n",
    "|**0**|Singapore|80.150000|\n",
    "|**1**|Switzerland|75.497000|\n",
    "|**2**|Hong Kong|62.550533|\n",
    "|**3**|Australia|61.362388|\n",
    "|**4**|Netherlands|56.166733|\n",
    "|**5**|New Zealand|53.226220|\n",
    "|**6**|United Kingdom|52.889084|\n",
    "|**7**|Canada|50.779723|\n",
    "|**8**|Denmark|46.196200|\n",
    "|**9**|Norway|46.083300|"
   ]
  },
  {
   "cell_type": "code",
   "execution_count": 42,
   "id": "9f57a383",
   "metadata": {
    "tags": []
   },
   "outputs": [
    {
     "data": {
      "text/html": [
       "<div>\n",
       "<style scoped>\n",
       "    .dataframe tbody tr th:only-of-type {\n",
       "        vertical-align: middle;\n",
       "    }\n",
       "\n",
       "    .dataframe tbody tr th {\n",
       "        vertical-align: top;\n",
       "    }\n",
       "\n",
       "    .dataframe thead th {\n",
       "        text-align: right;\n",
       "    }\n",
       "</style>\n",
       "<table border=\"1\" class=\"dataframe\">\n",
       "  <thead>\n",
       "    <tr style=\"text-align: right;\">\n",
       "      <th></th>\n",
       "      <th>country</th>\n",
       "      <th>avg_inter_citations</th>\n",
       "    </tr>\n",
       "  </thead>\n",
       "  <tbody>\n",
       "    <tr>\n",
       "      <th>0</th>\n",
       "      <td>Singapore</td>\n",
       "      <td>80.150000</td>\n",
       "    </tr>\n",
       "    <tr>\n",
       "      <th>1</th>\n",
       "      <td>Switzerland</td>\n",
       "      <td>75.497000</td>\n",
       "    </tr>\n",
       "    <tr>\n",
       "      <th>2</th>\n",
       "      <td>Hong Kong</td>\n",
       "      <td>62.550533</td>\n",
       "    </tr>\n",
       "    <tr>\n",
       "      <th>3</th>\n",
       "      <td>Australia</td>\n",
       "      <td>61.362388</td>\n",
       "    </tr>\n",
       "    <tr>\n",
       "      <th>4</th>\n",
       "      <td>Netherlands</td>\n",
       "      <td>56.166733</td>\n",
       "    </tr>\n",
       "    <tr>\n",
       "      <th>5</th>\n",
       "      <td>New Zealand</td>\n",
       "      <td>53.226220</td>\n",
       "    </tr>\n",
       "    <tr>\n",
       "      <th>6</th>\n",
       "      <td>United Kingdom</td>\n",
       "      <td>52.889084</td>\n",
       "    </tr>\n",
       "    <tr>\n",
       "      <th>7</th>\n",
       "      <td>Canada</td>\n",
       "      <td>50.779723</td>\n",
       "    </tr>\n",
       "    <tr>\n",
       "      <th>8</th>\n",
       "      <td>Denmark</td>\n",
       "      <td>46.196200</td>\n",
       "    </tr>\n",
       "    <tr>\n",
       "      <th>9</th>\n",
       "      <td>Norway</td>\n",
       "      <td>46.083300</td>\n",
       "    </tr>\n",
       "    <tr>\n",
       "      <th>10</th>\n",
       "      <td>Sweden</td>\n",
       "      <td>45.522983</td>\n",
       "    </tr>\n",
       "    <tr>\n",
       "      <th>11</th>\n",
       "      <td>Ireland</td>\n",
       "      <td>40.810833</td>\n",
       "    </tr>\n",
       "    <tr>\n",
       "      <th>12</th>\n",
       "      <td>Belgium</td>\n",
       "      <td>39.861500</td>\n",
       "    </tr>\n",
       "    <tr>\n",
       "      <th>13</th>\n",
       "      <td>United States</td>\n",
       "      <td>38.357020</td>\n",
       "    </tr>\n",
       "    <tr>\n",
       "      <th>14</th>\n",
       "      <td>China</td>\n",
       "      <td>37.164742</td>\n",
       "    </tr>\n",
       "    <tr>\n",
       "      <th>15</th>\n",
       "      <td>Israel</td>\n",
       "      <td>36.224833</td>\n",
       "    </tr>\n",
       "    <tr>\n",
       "      <th>16</th>\n",
       "      <td>Finland</td>\n",
       "      <td>32.759067</td>\n",
       "    </tr>\n",
       "    <tr>\n",
       "      <th>17</th>\n",
       "      <td>South Africa</td>\n",
       "      <td>31.579800</td>\n",
       "    </tr>\n",
       "    <tr>\n",
       "      <th>18</th>\n",
       "      <td>Austria</td>\n",
       "      <td>31.025500</td>\n",
       "    </tr>\n",
       "    <tr>\n",
       "      <th>19</th>\n",
       "      <td>Saudi Arabia</td>\n",
       "      <td>24.431567</td>\n",
       "    </tr>\n",
       "    <tr>\n",
       "      <th>20</th>\n",
       "      <td>Germany</td>\n",
       "      <td>19.839767</td>\n",
       "    </tr>\n",
       "    <tr>\n",
       "      <th>21</th>\n",
       "      <td>France</td>\n",
       "      <td>16.605891</td>\n",
       "    </tr>\n",
       "    <tr>\n",
       "      <th>22</th>\n",
       "      <td>South Korea</td>\n",
       "      <td>14.925775</td>\n",
       "    </tr>\n",
       "    <tr>\n",
       "      <th>23</th>\n",
       "      <td>Taiwan</td>\n",
       "      <td>13.880733</td>\n",
       "    </tr>\n",
       "    <tr>\n",
       "      <th>24</th>\n",
       "      <td>Lebanon</td>\n",
       "      <td>13.756600</td>\n",
       "    </tr>\n",
       "    <tr>\n",
       "      <th>25</th>\n",
       "      <td>Malaysia</td>\n",
       "      <td>9.417440</td>\n",
       "    </tr>\n",
       "    <tr>\n",
       "      <th>26</th>\n",
       "      <td>Italy</td>\n",
       "      <td>8.174883</td>\n",
       "    </tr>\n",
       "    <tr>\n",
       "      <th>27</th>\n",
       "      <td>Japan</td>\n",
       "      <td>7.546055</td>\n",
       "    </tr>\n",
       "    <tr>\n",
       "      <th>28</th>\n",
       "      <td>Spain</td>\n",
       "      <td>7.496975</td>\n",
       "    </tr>\n",
       "    <tr>\n",
       "      <th>29</th>\n",
       "      <td>Brazil</td>\n",
       "      <td>3.194100</td>\n",
       "    </tr>\n",
       "    <tr>\n",
       "      <th>30</th>\n",
       "      <td>India</td>\n",
       "      <td>2.952050</td>\n",
       "    </tr>\n",
       "    <tr>\n",
       "      <th>31</th>\n",
       "      <td>Mexico</td>\n",
       "      <td>2.350200</td>\n",
       "    </tr>\n",
       "    <tr>\n",
       "      <th>32</th>\n",
       "      <td>Chile</td>\n",
       "      <td>1.985200</td>\n",
       "    </tr>\n",
       "    <tr>\n",
       "      <th>33</th>\n",
       "      <td>Indonesia</td>\n",
       "      <td>1.690200</td>\n",
       "    </tr>\n",
       "    <tr>\n",
       "      <th>34</th>\n",
       "      <td>Thailand</td>\n",
       "      <td>1.365900</td>\n",
       "    </tr>\n",
       "    <tr>\n",
       "      <th>35</th>\n",
       "      <td>Argentina</td>\n",
       "      <td>1.335000</td>\n",
       "    </tr>\n",
       "    <tr>\n",
       "      <th>36</th>\n",
       "      <td>Colombia</td>\n",
       "      <td>1.329300</td>\n",
       "    </tr>\n",
       "    <tr>\n",
       "      <th>37</th>\n",
       "      <td>Russia</td>\n",
       "      <td>0.626680</td>\n",
       "    </tr>\n",
       "    <tr>\n",
       "      <th>38</th>\n",
       "      <td>Kazakhstan</td>\n",
       "      <td>0.412800</td>\n",
       "    </tr>\n",
       "  </tbody>\n",
       "</table>\n",
       "</div>"
      ],
      "text/plain": [
       "           country  avg_inter_citations\n",
       "0        Singapore            80.150000\n",
       "1      Switzerland            75.497000\n",
       "2        Hong Kong            62.550533\n",
       "3        Australia            61.362388\n",
       "4      Netherlands            56.166733\n",
       "5      New Zealand            53.226220\n",
       "6   United Kingdom            52.889084\n",
       "7           Canada            50.779723\n",
       "8          Denmark            46.196200\n",
       "9           Norway            46.083300\n",
       "10          Sweden            45.522983\n",
       "11         Ireland            40.810833\n",
       "12         Belgium            39.861500\n",
       "13   United States            38.357020\n",
       "14           China            37.164742\n",
       "15          Israel            36.224833\n",
       "16         Finland            32.759067\n",
       "17    South Africa            31.579800\n",
       "18         Austria            31.025500\n",
       "19    Saudi Arabia            24.431567\n",
       "20         Germany            19.839767\n",
       "21          France            16.605891\n",
       "22     South Korea            14.925775\n",
       "23          Taiwan            13.880733\n",
       "24         Lebanon            13.756600\n",
       "25        Malaysia             9.417440\n",
       "26           Italy             8.174883\n",
       "27           Japan             7.546055\n",
       "28           Spain             7.496975\n",
       "29          Brazil             3.194100\n",
       "30           India             2.952050\n",
       "31          Mexico             2.350200\n",
       "32           Chile             1.985200\n",
       "33       Indonesia             1.690200\n",
       "34        Thailand             1.365900\n",
       "35       Argentina             1.335000\n",
       "36        Colombia             1.329300\n",
       "37          Russia             0.626680\n",
       "38      Kazakhstan             0.412800"
      ]
     },
     "execution_count": 42,
     "metadata": {},
     "output_type": "execute_result"
    }
   ],
   "source": [
    "# compute and store the answer in the variable 'avg_cit_per_inter', then display it\n",
    "query = \"\"\"\n",
    "SELECT country, AVG(((citations_per_faculty * international_faculty)/100)) AS avg_inter_citations\n",
    "FROM rankings\n",
    "WHERE year = 2019 AND rank <= 300\n",
    "GROUP BY country\n",
    "ORDER BY avg_inter_citations DESC\n",
    "\"\"\"\n",
    "avg_cit_per_inter = pd.read_sql(query, conn)\n",
    "avg_cit_per_inter"
   ]
  },
  {
   "cell_type": "code",
   "execution_count": 43,
   "id": "81fa9b61",
   "metadata": {
    "deletable": false,
    "editable": false
   },
   "outputs": [
    {
     "data": {
      "text/html": [
       "<p><strong><pre style='display: inline;'>q14</pre></strong> passed!</p>"
      ],
      "text/plain": [
       "q14 results: All test cases passed!"
      ]
     },
     "execution_count": 43,
     "metadata": {},
     "output_type": "execute_result"
    }
   ],
   "source": [
    "grader.check(\"q14\")"
   ]
  },
  {
   "cell_type": "markdown",
   "id": "32c56bbe",
   "metadata": {
    "deletable": false,
    "editable": false
   },
   "source": [
    "**Question 15** Find the **institution** with the **highest** value of `citations_per_international` for **each** `country` in the `year` *2020*.\n",
    "\n",
    "Your output **must** be a **DataFrame** with the columns `country`, `institution_name`, and a new column `max_inter_citations` representing the **maximum** value of `citations_per_international` for that country. The rows **must** be in *descending* order of `max_inter_citations`. You **must** **omit** rows where `max_inter_citations` is **missing** by using the clause:\n",
    "\n",
    "```sql\n",
    "HAVING `max_inter_citations` IS NOT NULL\n",
    "```\n",
    "\n",
    "**Hint:** You can use the `MAX()` function to return the largest value within a group.\n",
    "\n",
    "Your output **must** be a **DataFrame** whose **first ten rows** look like this:\n",
    "\n",
    "||**country**|**institution_name**|**max_inter_citations**|\n",
    "|----|-----------|--------------------|----------------------|\n",
    "|**0**|United States|Massachusetts Institute Of Technology|99.8000|\n",
    "|**1**|Switzerland|Ecole Polytechnique Fédérale De Lausanne|98.9000|\n",
    "|**2**|Netherlands|Eindhoven University Of Technology|95.4493|\n",
    "|**3**|United Kingdom|London School Of Economics And Political Science|91.1000|\n",
    "|**4**|Hong Kong|The Hong Kong University Of Science And Technology|89.5000|\n",
    "|**5**|Singapore|Nanyang Technological University|88.8000|\n",
    "|**6**|Australia|The University Of Western Australia|88.3000|\n",
    "|**7**|Belgium|Katholieke Universiteit Leuven|76.7700|\n",
    "|**8**|New Zealand|University Of Waikato|73.6434|\n",
    "|**9**|Canada|Western University|72.3240|\n"
   ]
  },
  {
   "cell_type": "code",
   "execution_count": 44,
   "id": "75421dbe",
   "metadata": {
    "tags": []
   },
   "outputs": [
    {
     "data": {
      "text/html": [
       "<div>\n",
       "<style scoped>\n",
       "    .dataframe tbody tr th:only-of-type {\n",
       "        vertical-align: middle;\n",
       "    }\n",
       "\n",
       "    .dataframe tbody tr th {\n",
       "        vertical-align: top;\n",
       "    }\n",
       "\n",
       "    .dataframe thead th {\n",
       "        text-align: right;\n",
       "    }\n",
       "</style>\n",
       "<table border=\"1\" class=\"dataframe\">\n",
       "  <thead>\n",
       "    <tr style=\"text-align: right;\">\n",
       "      <th></th>\n",
       "      <th>country</th>\n",
       "      <th>institution_name</th>\n",
       "      <th>max_inter_citations</th>\n",
       "    </tr>\n",
       "  </thead>\n",
       "  <tbody>\n",
       "    <tr>\n",
       "      <th>0</th>\n",
       "      <td>United States</td>\n",
       "      <td>Massachusetts Institute Of Technology</td>\n",
       "      <td>99.8000</td>\n",
       "    </tr>\n",
       "    <tr>\n",
       "      <th>1</th>\n",
       "      <td>Switzerland</td>\n",
       "      <td>Ecole Polytechnique Fédérale De Lausanne</td>\n",
       "      <td>98.9000</td>\n",
       "    </tr>\n",
       "    <tr>\n",
       "      <th>2</th>\n",
       "      <td>Netherlands</td>\n",
       "      <td>Eindhoven University Of Technology</td>\n",
       "      <td>95.4493</td>\n",
       "    </tr>\n",
       "    <tr>\n",
       "      <th>3</th>\n",
       "      <td>United Kingdom</td>\n",
       "      <td>London School Of Economics And Political Science</td>\n",
       "      <td>91.1000</td>\n",
       "    </tr>\n",
       "    <tr>\n",
       "      <th>4</th>\n",
       "      <td>Hong Kong</td>\n",
       "      <td>The Hong Kong University Of Science And Technology</td>\n",
       "      <td>89.5000</td>\n",
       "    </tr>\n",
       "    <tr>\n",
       "      <th>5</th>\n",
       "      <td>Singapore</td>\n",
       "      <td>Nanyang Technological University</td>\n",
       "      <td>88.8000</td>\n",
       "    </tr>\n",
       "    <tr>\n",
       "      <th>6</th>\n",
       "      <td>Australia</td>\n",
       "      <td>The University Of Western Australia</td>\n",
       "      <td>88.3000</td>\n",
       "    </tr>\n",
       "    <tr>\n",
       "      <th>7</th>\n",
       "      <td>Belgium</td>\n",
       "      <td>Katholieke Universiteit Leuven</td>\n",
       "      <td>76.7700</td>\n",
       "    </tr>\n",
       "    <tr>\n",
       "      <th>8</th>\n",
       "      <td>New Zealand</td>\n",
       "      <td>University Of Waikato</td>\n",
       "      <td>73.6434</td>\n",
       "    </tr>\n",
       "    <tr>\n",
       "      <th>9</th>\n",
       "      <td>Canada</td>\n",
       "      <td>Western University</td>\n",
       "      <td>72.3240</td>\n",
       "    </tr>\n",
       "    <tr>\n",
       "      <th>10</th>\n",
       "      <td>Sweden</td>\n",
       "      <td>Chalmers University Of Technology</td>\n",
       "      <td>70.7608</td>\n",
       "    </tr>\n",
       "    <tr>\n",
       "      <th>11</th>\n",
       "      <td>Denmark</td>\n",
       "      <td>Technical University Of Denmark</td>\n",
       "      <td>65.5705</td>\n",
       "    </tr>\n",
       "    <tr>\n",
       "      <th>12</th>\n",
       "      <td>France</td>\n",
       "      <td>Ecole Polytechnique</td>\n",
       "      <td>63.1176</td>\n",
       "    </tr>\n",
       "    <tr>\n",
       "      <th>13</th>\n",
       "      <td>Finland</td>\n",
       "      <td>Aalto University</td>\n",
       "      <td>62.9799</td>\n",
       "    </tr>\n",
       "    <tr>\n",
       "      <th>14</th>\n",
       "      <td>China</td>\n",
       "      <td>Zhejiang University</td>\n",
       "      <td>60.9606</td>\n",
       "    </tr>\n",
       "    <tr>\n",
       "      <th>15</th>\n",
       "      <td>Austria</td>\n",
       "      <td>Technische Universität Wien</td>\n",
       "      <td>59.0250</td>\n",
       "    </tr>\n",
       "    <tr>\n",
       "      <th>16</th>\n",
       "      <td>Ireland</td>\n",
       "      <td>Trinity College Dublin</td>\n",
       "      <td>56.5160</td>\n",
       "    </tr>\n",
       "    <tr>\n",
       "      <th>17</th>\n",
       "      <td>Norway</td>\n",
       "      <td>University Of Bergen</td>\n",
       "      <td>53.8688</td>\n",
       "    </tr>\n",
       "    <tr>\n",
       "      <th>18</th>\n",
       "      <td>Israel</td>\n",
       "      <td>Technion - Israel Institute Of Technology</td>\n",
       "      <td>44.4800</td>\n",
       "    </tr>\n",
       "    <tr>\n",
       "      <th>19</th>\n",
       "      <td>Macau</td>\n",
       "      <td>University Of Macau</td>\n",
       "      <td>43.9000</td>\n",
       "    </tr>\n",
       "    <tr>\n",
       "      <th>20</th>\n",
       "      <td>Germany</td>\n",
       "      <td>Kit, Karlsruher Institut Für Technologie</td>\n",
       "      <td>43.5600</td>\n",
       "    </tr>\n",
       "    <tr>\n",
       "      <th>21</th>\n",
       "      <td>United Arab Emirates</td>\n",
       "      <td>Khalifa University</td>\n",
       "      <td>42.2000</td>\n",
       "    </tr>\n",
       "    <tr>\n",
       "      <th>22</th>\n",
       "      <td>Saudi Arabia</td>\n",
       "      <td>King Fahd University Of Petroleum &amp; Minerals</td>\n",
       "      <td>40.1000</td>\n",
       "    </tr>\n",
       "    <tr>\n",
       "      <th>23</th>\n",
       "      <td>Spain</td>\n",
       "      <td>Universitat Pompeu Fabra</td>\n",
       "      <td>36.8628</td>\n",
       "    </tr>\n",
       "    <tr>\n",
       "      <th>24</th>\n",
       "      <td>South Korea</td>\n",
       "      <td>Pohang University Of Science And Technology</td>\n",
       "      <td>35.0529</td>\n",
       "    </tr>\n",
       "    <tr>\n",
       "      <th>25</th>\n",
       "      <td>South Africa</td>\n",
       "      <td>University Of Cape Town</td>\n",
       "      <td>31.6572</td>\n",
       "    </tr>\n",
       "    <tr>\n",
       "      <th>26</th>\n",
       "      <td>Malaysia</td>\n",
       "      <td>Universiti Malaya</td>\n",
       "      <td>26.0620</td>\n",
       "    </tr>\n",
       "    <tr>\n",
       "      <th>27</th>\n",
       "      <td>Italy</td>\n",
       "      <td>Politecnico Di Milano</td>\n",
       "      <td>25.3774</td>\n",
       "    </tr>\n",
       "    <tr>\n",
       "      <th>28</th>\n",
       "      <td>Japan</td>\n",
       "      <td>Tokyo Institute Of Technology</td>\n",
       "      <td>18.8191</td>\n",
       "    </tr>\n",
       "    <tr>\n",
       "      <th>29</th>\n",
       "      <td>Taiwan</td>\n",
       "      <td>National Tsing Hua University</td>\n",
       "      <td>16.1868</td>\n",
       "    </tr>\n",
       "    <tr>\n",
       "      <th>30</th>\n",
       "      <td>Qatar</td>\n",
       "      <td>Qatar University</td>\n",
       "      <td>14.3000</td>\n",
       "    </tr>\n",
       "    <tr>\n",
       "      <th>31</th>\n",
       "      <td>Lebanon</td>\n",
       "      <td>American University Of Beirut</td>\n",
       "      <td>13.7104</td>\n",
       "    </tr>\n",
       "    <tr>\n",
       "      <th>32</th>\n",
       "      <td>Oman</td>\n",
       "      <td>Sultan Qaboos University</td>\n",
       "      <td>11.2000</td>\n",
       "    </tr>\n",
       "    <tr>\n",
       "      <th>33</th>\n",
       "      <td>Brunei</td>\n",
       "      <td>Universiti Brunei Darussalam</td>\n",
       "      <td>6.2000</td>\n",
       "    </tr>\n",
       "    <tr>\n",
       "      <th>34</th>\n",
       "      <td>Egypt</td>\n",
       "      <td>The American University In Cairo</td>\n",
       "      <td>5.3523</td>\n",
       "    </tr>\n",
       "    <tr>\n",
       "      <th>35</th>\n",
       "      <td>Estonia</td>\n",
       "      <td>University Of Tartu</td>\n",
       "      <td>4.8416</td>\n",
       "    </tr>\n",
       "    <tr>\n",
       "      <th>36</th>\n",
       "      <td>Mexico</td>\n",
       "      <td>Tecnológico De Monterrey</td>\n",
       "      <td>4.5172</td>\n",
       "    </tr>\n",
       "    <tr>\n",
       "      <th>37</th>\n",
       "      <td>Czech Republic</td>\n",
       "      <td>University Of Chemistry And Technology, Prague</td>\n",
       "      <td>4.4590</td>\n",
       "    </tr>\n",
       "    <tr>\n",
       "      <th>38</th>\n",
       "      <td>India</td>\n",
       "      <td>Indian Institute Of Technology Kharagpur</td>\n",
       "      <td>4.1552</td>\n",
       "    </tr>\n",
       "    <tr>\n",
       "      <th>39</th>\n",
       "      <td>Russia</td>\n",
       "      <td>Moscow Institute Of Physics And Technology State University</td>\n",
       "      <td>3.7278</td>\n",
       "    </tr>\n",
       "    <tr>\n",
       "      <th>40</th>\n",
       "      <td>Brazil</td>\n",
       "      <td>Universidade Estadual De Campinas</td>\n",
       "      <td>3.2373</td>\n",
       "    </tr>\n",
       "    <tr>\n",
       "      <th>41</th>\n",
       "      <td>Portugal</td>\n",
       "      <td>University Of Lisbon</td>\n",
       "      <td>3.0560</td>\n",
       "    </tr>\n",
       "    <tr>\n",
       "      <th>42</th>\n",
       "      <td>Chile</td>\n",
       "      <td>Pontificia Universidad Católica De Chile</td>\n",
       "      <td>2.6384</td>\n",
       "    </tr>\n",
       "    <tr>\n",
       "      <th>43</th>\n",
       "      <td>Colombia</td>\n",
       "      <td>Universidad De Los Andes Colombia</td>\n",
       "      <td>2.6001</td>\n",
       "    </tr>\n",
       "    <tr>\n",
       "      <th>44</th>\n",
       "      <td>Indonesia</td>\n",
       "      <td>University Of Indonesia</td>\n",
       "      <td>1.7955</td>\n",
       "    </tr>\n",
       "    <tr>\n",
       "      <th>45</th>\n",
       "      <td>Argentina</td>\n",
       "      <td>Universidad De Buenos Aires</td>\n",
       "      <td>1.2168</td>\n",
       "    </tr>\n",
       "    <tr>\n",
       "      <th>46</th>\n",
       "      <td>Thailand</td>\n",
       "      <td>Chulalongkorn University</td>\n",
       "      <td>0.9775</td>\n",
       "    </tr>\n",
       "    <tr>\n",
       "      <th>47</th>\n",
       "      <td>Poland</td>\n",
       "      <td>University Of Warsaw</td>\n",
       "      <td>0.6256</td>\n",
       "    </tr>\n",
       "    <tr>\n",
       "      <th>48</th>\n",
       "      <td>Kazakhstan</td>\n",
       "      <td>Al-Farabi Kazakh National University</td>\n",
       "      <td>0.4896</td>\n",
       "    </tr>\n",
       "    <tr>\n",
       "      <th>49</th>\n",
       "      <td>Belarus</td>\n",
       "      <td>Belarus State University</td>\n",
       "      <td>0.0935</td>\n",
       "    </tr>\n",
       "    <tr>\n",
       "      <th>50</th>\n",
       "      <td>Philippines</td>\n",
       "      <td>University Of The Philippines</td>\n",
       "      <td>0.0378</td>\n",
       "    </tr>\n",
       "  </tbody>\n",
       "</table>\n",
       "</div>"
      ],
      "text/plain": [
       "                 country  \\\n",
       "0          United States   \n",
       "1            Switzerland   \n",
       "2            Netherlands   \n",
       "3         United Kingdom   \n",
       "4              Hong Kong   \n",
       "5              Singapore   \n",
       "6              Australia   \n",
       "7                Belgium   \n",
       "8            New Zealand   \n",
       "9                 Canada   \n",
       "10                Sweden   \n",
       "11               Denmark   \n",
       "12                France   \n",
       "13               Finland   \n",
       "14                 China   \n",
       "15               Austria   \n",
       "16               Ireland   \n",
       "17                Norway   \n",
       "18                Israel   \n",
       "19                 Macau   \n",
       "20               Germany   \n",
       "21  United Arab Emirates   \n",
       "22          Saudi Arabia   \n",
       "23                 Spain   \n",
       "24           South Korea   \n",
       "25          South Africa   \n",
       "26              Malaysia   \n",
       "27                 Italy   \n",
       "28                 Japan   \n",
       "29                Taiwan   \n",
       "30                 Qatar   \n",
       "31               Lebanon   \n",
       "32                  Oman   \n",
       "33                Brunei   \n",
       "34                 Egypt   \n",
       "35               Estonia   \n",
       "36                Mexico   \n",
       "37        Czech Republic   \n",
       "38                 India   \n",
       "39                Russia   \n",
       "40                Brazil   \n",
       "41              Portugal   \n",
       "42                 Chile   \n",
       "43              Colombia   \n",
       "44             Indonesia   \n",
       "45             Argentina   \n",
       "46              Thailand   \n",
       "47                Poland   \n",
       "48            Kazakhstan   \n",
       "49               Belarus   \n",
       "50           Philippines   \n",
       "\n",
       "                                               institution_name  \\\n",
       "0                         Massachusetts Institute Of Technology   \n",
       "1                      Ecole Polytechnique Fédérale De Lausanne   \n",
       "2                            Eindhoven University Of Technology   \n",
       "3              London School Of Economics And Political Science   \n",
       "4            The Hong Kong University Of Science And Technology   \n",
       "5                              Nanyang Technological University   \n",
       "6                           The University Of Western Australia   \n",
       "7                                Katholieke Universiteit Leuven   \n",
       "8                                         University Of Waikato   \n",
       "9                                            Western University   \n",
       "10                            Chalmers University Of Technology   \n",
       "11                              Technical University Of Denmark   \n",
       "12                                          Ecole Polytechnique   \n",
       "13                                             Aalto University   \n",
       "14                                          Zhejiang University   \n",
       "15                                  Technische Universität Wien   \n",
       "16                                       Trinity College Dublin   \n",
       "17                                         University Of Bergen   \n",
       "18                    Technion - Israel Institute Of Technology   \n",
       "19                                          University Of Macau   \n",
       "20                     Kit, Karlsruher Institut Für Technologie   \n",
       "21                                           Khalifa University   \n",
       "22                 King Fahd University Of Petroleum & Minerals   \n",
       "23                                     Universitat Pompeu Fabra   \n",
       "24                  Pohang University Of Science And Technology   \n",
       "25                                      University Of Cape Town   \n",
       "26                                            Universiti Malaya   \n",
       "27                                        Politecnico Di Milano   \n",
       "28                                Tokyo Institute Of Technology   \n",
       "29                                National Tsing Hua University   \n",
       "30                                             Qatar University   \n",
       "31                                American University Of Beirut   \n",
       "32                                     Sultan Qaboos University   \n",
       "33                                 Universiti Brunei Darussalam   \n",
       "34                             The American University In Cairo   \n",
       "35                                          University Of Tartu   \n",
       "36                                     Tecnológico De Monterrey   \n",
       "37               University Of Chemistry And Technology, Prague   \n",
       "38                     Indian Institute Of Technology Kharagpur   \n",
       "39  Moscow Institute Of Physics And Technology State University   \n",
       "40                            Universidade Estadual De Campinas   \n",
       "41                                         University Of Lisbon   \n",
       "42                     Pontificia Universidad Católica De Chile   \n",
       "43                            Universidad De Los Andes Colombia   \n",
       "44                                      University Of Indonesia   \n",
       "45                                  Universidad De Buenos Aires   \n",
       "46                                     Chulalongkorn University   \n",
       "47                                         University Of Warsaw   \n",
       "48                         Al-Farabi Kazakh National University   \n",
       "49                                     Belarus State University   \n",
       "50                                University Of The Philippines   \n",
       "\n",
       "    max_inter_citations  \n",
       "0               99.8000  \n",
       "1               98.9000  \n",
       "2               95.4493  \n",
       "3               91.1000  \n",
       "4               89.5000  \n",
       "5               88.8000  \n",
       "6               88.3000  \n",
       "7               76.7700  \n",
       "8               73.6434  \n",
       "9               72.3240  \n",
       "10              70.7608  \n",
       "11              65.5705  \n",
       "12              63.1176  \n",
       "13              62.9799  \n",
       "14              60.9606  \n",
       "15              59.0250  \n",
       "16              56.5160  \n",
       "17              53.8688  \n",
       "18              44.4800  \n",
       "19              43.9000  \n",
       "20              43.5600  \n",
       "21              42.2000  \n",
       "22              40.1000  \n",
       "23              36.8628  \n",
       "24              35.0529  \n",
       "25              31.6572  \n",
       "26              26.0620  \n",
       "27              25.3774  \n",
       "28              18.8191  \n",
       "29              16.1868  \n",
       "30              14.3000  \n",
       "31              13.7104  \n",
       "32              11.2000  \n",
       "33               6.2000  \n",
       "34               5.3523  \n",
       "35               4.8416  \n",
       "36               4.5172  \n",
       "37               4.4590  \n",
       "38               4.1552  \n",
       "39               3.7278  \n",
       "40               3.2373  \n",
       "41               3.0560  \n",
       "42               2.6384  \n",
       "43               2.6001  \n",
       "44               1.7955  \n",
       "45               1.2168  \n",
       "46               0.9775  \n",
       "47               0.6256  \n",
       "48               0.4896  \n",
       "49               0.0935  \n",
       "50               0.0378  "
      ]
     },
     "execution_count": 44,
     "metadata": {},
     "output_type": "execute_result"
    }
   ],
   "source": [
    "# compute and store the answer in the variable 'max_cit_per_inter', then display it\n",
    "query = \"\"\"\n",
    "SELECT country, institution_name, MAX(((citations_per_faculty * international_faculty)/100)) AS max_inter_citations\n",
    "FROM rankings\n",
    "WHERE year = 2020\n",
    "GROUP BY country\n",
    "HAVING max_inter_citations IS NOT NULL\n",
    "ORDER BY max_inter_citations DESC\n",
    "\"\"\"\n",
    "max_cit_per_inter = pd.read_sql(query, conn)\n",
    "max_cit_per_inter"
   ]
  },
  {
   "cell_type": "code",
   "execution_count": 45,
   "id": "5b910c24",
   "metadata": {
    "deletable": false,
    "editable": false
   },
   "outputs": [
    {
     "data": {
      "text/html": [
       "<p><strong><pre style='display: inline;'>q15</pre></strong> passed!</p>"
      ],
      "text/plain": [
       "q15 results: All test cases passed!"
      ]
     },
     "execution_count": 45,
     "metadata": {},
     "output_type": "execute_result"
    }
   ],
   "source": [
    "grader.check(\"q15\")"
   ]
  },
  {
   "cell_type": "markdown",
   "id": "3c031039",
   "metadata": {
    "deletable": false,
    "editable": false
   },
   "source": [
    "**Question 16**: Among the institutions ranked within the **top** *50*, create a **horizontal bar plot** representing the **average** of both the`citations_per_faculty` and `international_faculty` scores for **all** institutions in **each** `country` in the `year` *2018*.\n",
    "\n",
    "You **must** first create a **DataFrame** `country_citations_inter` with **three** columns: `country`, `avg_citations` and `avg_inter_faculty` representing the name, the average value of `citations_per_faculty` and the average value of `international_faculty` for each country respectively.\n",
    "\n",
    "Then, you **must** use the `horizontal_bar_plot` function to plot this data. You **must** ensure that the countries in the **horizontal bar plot** are **ordered** in **increasing** order of the **difference** between `avg_citations` and `avg_inter_faculty` by **appropriately ordering** the **DataFrame**.\n",
    "\n",
    "**Important Warning:** `p13_test.py` can check that the **DataFrame** is correct, but it **cannot** check if your plot appears on the screen, or whether the axes are correctly labelled. Your plots will be **manually graded**, and you will **lose points** if your plot is not visible, or if it is not properly labelled.\n",
    "\n",
    "Your plot should look like this:"
   ]
  },
  {
   "attachments": {},
   "cell_type": "markdown",
   "id": "ecbf0a8c",
   "metadata": {},
   "source": []
  },
  {
   "cell_type": "code",
   "execution_count": 46,
   "id": "9a566b3a",
   "metadata": {
    "tags": []
   },
   "outputs": [
    {
     "data": {
      "image/png": "[encoded data removed]",
      "text/plain": [
       "<Figure size 432x288 with 1 Axes>"
      ]
     },
     "metadata": {
      "needs_background": "light"
     },
     "output_type": "display_data"
    }
   ],
   "source": [
    "# first compute and store the DataFrame 'country_citations_inter'\n",
    "# then create the horizontal bar plot using the DataFrame\n",
    "query = \"\"\"\n",
    "SELECT country, AVG(international_faculty) AS avg_inter_faculty, AVG(citations_per_faculty) AS avg_citations\n",
    "FROM rankings\n",
    "WHERE year = 2018 AND rank <= 50\n",
    "GROUP BY country\n",
    "ORDER BY (avg_citations - avg_inter_faculty)\n",
    "\"\"\"\n",
    "country_citations_inter = pd.read_sql(query, conn)\n",
    "horizontal_bar_plot(country_citations_inter, 'country')"
   ]
  },
  {
   "cell_type": "code",
   "execution_count": 47,
   "id": "5e04b679",
   "metadata": {
    "deletable": false,
    "editable": false
   },
   "outputs": [
    {
     "data": {
      "text/html": [
       "<p><strong><pre style='display: inline;'>q16</pre></strong> passed!</p>"
      ],
      "text/plain": [
       "q16 results: All test cases passed!"
      ]
     },
     "execution_count": 47,
     "metadata": {},
     "output_type": "execute_result"
    }
   ],
   "source": [
    "grader.check(\"q16\")"
   ]
  },
  {
   "cell_type": "markdown",
   "id": "05bbe2ce",
   "metadata": {
    "deletable": false,
    "editable": false
   },
   "source": [
    "**Question 17:** Create a **scatter plot** representing the `overall_score` (on the **x-axis**) against the `rank` (on the **y-axis**) for **all** institutions in the `year` *2020*. Additionally, **plot** a **regression line**.\n",
    "\n",
    "You **must** first compute a **DataFrame** `overall_rank` containing the **overall_score**, and the **rank** data from the `year` *2020*. Then, you **must** use the `regression_line_plot` function to plot this data along with the regression line.\n",
    "\n",
    "**Important Warning:** `p13_test.py` can check that the **DataFrame** is correct, but it **cannot** check if your plot appears on the screen, or whether the axes are correctly labelled. Your plots will be **manually graded**, and you will **lose points** if your plot is not visible, or if it is not properly labelled.\n",
    "\n",
    "Your plot should look like this:"
   ]
  },
  {
   "attachments": {},
   "cell_type": "markdown",
   "id": "1bc21fc4",
   "metadata": {},
   "source": []
  },
  {
   "cell_type": "code",
   "execution_count": 48,
   "id": "6dd231e7",
   "metadata": {
    "tags": []
   },
   "outputs": [
    {
     "data": {
      "image/png": "[encoded data removed]",
      "text/plain": [
       "<Figure size 432x288 with 1 Axes>"
      ]
     },
     "metadata": {
      "needs_background": "light"
     },
     "output_type": "display_data"
    }
   ],
   "source": [
    "# first compute and store the DataFrame 'overall_rank'\n",
    "# then create the scatter plot and the regression line using the DataFrame\n",
    "query = \"\"\"\n",
    "SELECT overall_score, rank\n",
    "FROM rankings\n",
    "WHERE year = 2020\n",
    "\"\"\"\n",
    "overall_rank = pd.read_sql(query, conn)\n",
    "regression_line_plot(overall_rank, 'overall_score', 'rank')"
   ]
  },
  {
   "cell_type": "code",
   "execution_count": 49,
   "id": "155f310d",
   "metadata": {
    "deletable": false,
    "editable": false
   },
   "outputs": [
    {
     "data": {
      "text/html": [
       "<p><strong><pre style='display: inline;'>q17</pre></strong> passed!</p>"
      ],
      "text/plain": [
       "q17 results: All test cases passed!"
      ]
     },
     "execution_count": 49,
     "metadata": {},
     "output_type": "execute_result"
    }
   ],
   "source": [
    "grader.check(\"q17\")"
   ]
  },
  {
   "cell_type": "markdown",
   "id": "aac492c7",
   "metadata": {
    "deletable": false,
    "editable": false
   },
   "source": [
    "**Food for thought:** Does our linear regression model fit the points well? It looks like the relationship between the `overall_score` and `rank` is **not quite linear**. In fact, a cursory look at the data suggests that the relationship is in fact, inverse."
   ]
  },
  {
   "cell_type": "markdown",
   "id": "2cd43343",
   "metadata": {
    "deletable": false,
    "editable": false
   },
   "source": [
    "**Question 18:** Create a **scatter plot** representing the **inverse** of the `overall_score` (on the **x-axis**) against the `rank` (on the **y-axis**) for **all** institutions in the `year` *2020*. Additionally, **plot** a **regression line**.\n",
    "\n",
    "The `inverse_overall_score` for each institution is simply defined as `1/overall_score` for that institution. You **must** first compute a **DataFrame** `inverse_overall_rank` containing the **inverse_overall_score**, and the **rank** data from the `year` *2020*. You are **allowed** to use `pandas` operations to calculate the `inverse_overall_score`.\n",
    "\n",
    "Then, you **must** use the `regression_line_plot` function to plot this data along with the regression line.\n",
    "\n",
    "**Important Warning:** `p13_test.py` can check that the **DataFrame** is correct, but it **cannot** check if your plot appears on the screen, or whether the axes are correctly labelled. Your plots will be **manually graded**, and you will **lose points** if your plot is not visible, or if it is not properly labelled.\n",
    "\n",
    "Your plot should look like this:"
   ]
  },
  {
   "attachments": {},
   "cell_type": "markdown",
   "id": "76ba7bef",
   "metadata": {},
   "source": []
  },
  {
   "cell_type": "code",
   "execution_count": 50,
   "id": "43c88c7f",
   "metadata": {
    "tags": []
   },
   "outputs": [
    {
     "data": {
      "image/png": "[encoded data removed]",
      "text/plain": [
       "<Figure size 432x288 with 1 Axes>"
      ]
     },
     "metadata": {
      "needs_background": "light"
     },
     "output_type": "display_data"
    }
   ],
   "source": [
    "# first compute and store the DataFrame 'inverse_overall_rank'\n",
    "# then create the scatter plot and the regression line using the DataFrame\n",
    "query = \"\"\"\n",
    "SELECT (1/overall_score) AS inverse_overall_score, rank\n",
    "FROM rankings\n",
    "WHERE year = 2020\n",
    "\"\"\"\n",
    "inverse_overall_rank = pd.read_sql(query, conn)\n",
    "regression_line_plot(inverse_overall_rank, 'inverse_overall_score', 'rank')"
   ]
  },
  {
   "cell_type": "code",
   "execution_count": 51,
   "id": "1df27935",
   "metadata": {
    "deletable": false,
    "editable": false
   },
   "outputs": [
    {
     "data": {
      "text/html": [
       "<p><strong><pre style='display: inline;'>q18</pre></strong> passed!</p>"
      ],
      "text/plain": [
       "q18 results: All test cases passed!"
      ]
     },
     "execution_count": 51,
     "metadata": {},
     "output_type": "execute_result"
    }
   ],
   "source": [
    "grader.check(\"q18\")"
   ]
  },
  {
   "cell_type": "markdown",
   "id": "6321e051",
   "metadata": {
    "deletable": false,
    "editable": false
   },
   "source": [
    "This seems to be much better! Let us now use this **regression line** to **estimate** the `rank` of an institution given its `overall_score`."
   ]
  },
  {
   "cell_type": "markdown",
   "id": "e350bf3e",
   "metadata": {
    "deletable": false,
    "editable": false
   },
   "source": [
    "**Question 19:** Use the regression line to **estimate** the `rank` of an institution with an `overall_score` of *72*.\n",
    "\n",
    "Your output **must** be an **int**. If your **estimate** is a **float**, *round it up* using `math.ceil`.\n",
    "\n",
    "\n",
    "**Hints:**\n",
    "1. Use the coefficients `m, b` that `get_regression_coeff` returns in q18. You can make another call to `get_regression_coeff` if needed.\n",
    "2. Recall that the equation of a line is `y = m * x + b`. What are `x` and `y` here?"
   ]
  },
  {
   "cell_type": "code",
   "execution_count": 52,
   "id": "6a0de61c",
   "metadata": {
    "tags": []
   },
   "outputs": [
    {
     "data": {
      "text/plain": [
       "56"
      ]
     },
     "execution_count": 52,
     "metadata": {},
     "output_type": "execute_result"
    }
   ],
   "source": [
    "# compute and store the answer in the variable 'rank_score_72', then display it\n",
    "inverse_overall_rank[\"1\"] = 1\n",
    "res = np.linalg.lstsq(inverse_overall_rank[[\"inverse_overall_score\", \"1\"]], inverse_overall_rank[\"rank\"], rcond=None)\n",
    "coefficients = res[0]\n",
    "m = coefficients[0]\n",
    "n = coefficients[1]\n",
    "y = m*(1/72) + n \n",
    "rank_score_72 = math.ceil(y)\n",
    "rank_score_72"
   ]
  },
  {
   "cell_type": "code",
   "execution_count": 53,
   "id": "a98d388e",
   "metadata": {
    "deletable": false,
    "editable": false
   },
   "outputs": [
    {
     "data": {
      "text/html": [
       "<p><strong><pre style='display: inline;'>q19</pre></strong> passed!</p>"
      ],
      "text/plain": [
       "q19 results: All test cases passed!"
      ]
     },
     "execution_count": 53,
     "metadata": {},
     "output_type": "execute_result"
    }
   ],
   "source": [
    "grader.check(\"q19\")"
   ]
  },
  {
   "cell_type": "markdown",
   "id": "c177205b",
   "metadata": {
    "deletable": false,
    "editable": false
   },
   "source": [
    "**Food for thought:** Can you find out the `overall_score` of the university with this `rank` in the `year` *2020*? Does it match your prediction?"
   ]
  },
  {
   "cell_type": "markdown",
   "id": "8adee240",
   "metadata": {
    "deletable": false,
    "editable": false
   },
   "source": [
    "**Question 20:** Using the data from q4, create a **pie plot** representing the number of institutions from each country.\n",
    "\n",
    "\n",
    "You **have** already computed a **DataFrame** `num_institutions` (in q4) containing the **country**, and the **num_of_institutions** data. Now, you **must** create a **pie plot** with this data. The **colors** do **not** matter, but the plot **must** be titled `Number of institutions`, and **must** be labelled as in the sample output below.\n",
    "\n",
    "**Important Warning:** `p13_test.py` can check that the **DataFrame** is correct, but it **cannot** check if your plot appears on the screen, or whether the axes are correctly labelled. Your plots will be **manually graded**, and you will **lose points** if your plot is not visible, or if it is not properly labelled.\n",
    "\n",
    "Your plot should look like this:"
   ]
  },
  {
   "attachments": {},
   "cell_type": "markdown",
   "id": "ae31de6d",
   "metadata": {},
   "source": []
  },
  {
   "cell_type": "code",
   "execution_count": 54,
   "id": "32addf78",
   "metadata": {
    "tags": []
   },
   "outputs": [
    {
     "data": {
      "image/png": "[encoded data removed]",
      "text/plain": [
       "<Figure size 432x288 with 1 Axes>"
      ]
     },
     "metadata": {},
     "output_type": "display_data"
    }
   ],
   "source": [
    "# create the pie plot using the DataFrame 'num_institutions'\n",
    "pie_plot(top_10_countries, 'country', 'num_of_institutions', title = 'Number of institutions')"
   ]
  },
  {
   "cell_type": "code",
   "execution_count": 55,
   "id": "339f18f7",
   "metadata": {
    "deletable": false,
    "editable": false
   },
   "outputs": [
    {
     "data": {
      "text/html": [
       "<p><strong><pre style='display: inline;'>q20</pre></strong> passed!</p>"
      ],
      "text/plain": [
       "q20 results: All test cases passed!"
      ]
     },
     "execution_count": 55,
     "metadata": {},
     "output_type": "execute_result"
    }
   ],
   "source": [
    "grader.check(\"q20\")"
   ]
  },
  {
   "cell_type": "markdown",
   "id": "0ed68bc2",
   "metadata": {
    "deletable": false,
    "editable": false
   },
   "source": [
    "**Food for thought:** It seems that we'll run out of colors! How can we make it so that **no two neighbors share a color**? You'll probably have to look online."
   ]
  },
  {
   "cell_type": "markdown",
   "id": "22e0bc8c",
   "metadata": {
    "deletable": false,
    "editable": false
   },
   "source": [
    "### Closing the database connection:\n",
    "\n",
    "Now, before you **submit** your notebook, you **must** **close** your connection `conn`. Not doing this might make **Gradescope fail**. Please do this right away and save your precious time."
   ]
  },
  {
   "cell_type": "code",
   "execution_count": 56,
   "id": "6fce682d",
   "metadata": {
    "tags": []
   },
   "outputs": [],
   "source": [
    "# close your connection here\n",
    "conn.close()"
   ]
  },
  {
   "cell_type": "markdown",
   "id": "df30edca",
   "metadata": {
    "deletable": false,
    "editable": false
   },
   "source": [
    "## Submission\n",
    "Make sure you have run all cells in your notebook in order before running the following cells, so that all images/graphs appear in the output.\n",
    "It is recommended that at this stage, you Restart and Run all Cells in your notebook.\n",
    "That will automatically save your work and generate a zip file for you to submit.\n",
    "\n",
    "You will have to delete the images that we have provided in this notebook as examples, to execute the last cell.\n",
    "Make sure you do not delete your own output.\n",
    "\n",
    "**SUBMISSION INSTRUCTIONS**:\n",
    "1. **Upload** the zipfile to Gradescope.\n",
    "2. Check **Gradescope otter** results as soon as the auto-grader execution gets completed. Don't worry about the score showing up as -/100.0. You only need to check that the test cases passed."
   ]
  },
  {
   "cell_type": "code",
   "execution_count": 57,
   "id": "4b95997c",
   "metadata": {
    "cell_type": "code",
    "deletable": false,
    "editable": false
   },
   "outputs": [
    {
     "data": {
      "application/javascript": [
       "IPython.notebook.save_checkpoint();"
      ],
      "text/plain": [
       "<IPython.core.display.Javascript object>"
      ]
     },
     "metadata": {},
     "output_type": "display_data"
    }
   ],
   "source": [
    "# running this cell will create a new save checkpoint for your notebook\n",
    "from IPython.display import display, Javascript\n",
    "display(Javascript('IPython.notebook.save_checkpoint();'))"
   ]
  },
  {
   "cell_type": "code",
   "execution_count": 58,
   "id": "97cbfc3f",
   "metadata": {
    "cell_type": "code",
    "deletable": false,
    "editable": false
   },
   "outputs": [
    {
     "name": "stdout",
     "output_type": "stream",
     "text": [
      "[jupytext] Reading p13.ipynb in format ipynb\n",
      "[jupytext] Writing p13.py (destination file replaced)\n"
     ]
    }
   ],
   "source": [
    "!jupytext --to py p13.ipynb"
   ]
  },
  {
   "cell_type": "code",
   "execution_count": 59,
   "id": "82b3c051",
   "metadata": {
    "cell_type": "code",
    "deletable": false,
    "editable": false
   },
   "outputs": [
    {
     "name": "stdout",
     "output_type": "stream",
     "text": [
      "Running your submission against local test cases...\n",
      "\n",
      "Your submission received the following results when run against available test cases:\n",
      "\n",
      "    q1 results: All test cases passed!\n",
      "\n",
      "    q2 results: All test cases passed!\n",
      "\n",
      "    q3 results: All test cases passed!\n",
      "\n",
      "    q4 results: All test cases passed!\n",
      "\n",
      "    q5 results: All test cases passed!\n",
      "\n",
      "    q6 results: All test cases passed!\n",
      "\n",
      "    q7 results: All test cases passed!\n",
      "\n",
      "    q8 results: All test cases passed!\n",
      "\n",
      "    q9 results: All test cases passed!\n",
      "\n",
      "    q10 results: All test cases passed!\n",
      "\n",
      "    q11 results: All test cases passed!\n",
      "\n",
      "    q12 results: All test cases passed!\n",
      "\n",
      "    q13 results: All test cases passed!\n",
      "\n",
      "    q14 results: All test cases passed!\n",
      "\n",
      "    q15 results: All test cases passed!\n",
      "\n",
      "    q16 results: All test cases passed!\n",
      "\n",
      "    q17 results: All test cases passed!\n",
      "\n",
      "    q18 results: All test cases passed!\n",
      "\n",
      "    q19 results: All test cases passed!\n",
      "\n",
      "    q20 results: All test cases passed!\n"
     ]
    },
    {
     "data": {
      "text/html": [
       "\n",
       "            <p>Your submission has been exported. Click <a href=\"p13_2022_12_09T14_48_53_982972.zip\" download=\"p13_2022_12_09T14_48_53_982972.zip\" target=\"_blank\">here</a>\n",
       "            to download the zip file.</p>\n",
       "            "
      ],
      "text/plain": [
       "<IPython.core.display.HTML object>"
      ]
     },
     "metadata": {},
     "output_type": "display_data"
    }
   ],
   "source": [
    "p13_test.check_file_size(\"p13.ipynb\")\n",
    "grader.export(pdf=False, run_tests=True, files=[py_filename])"
   ]
  },
  {
   "cell_type": "markdown",
   "id": "fcbfdd29",
   "metadata": {
    "deletable": false,
    "editable": false
   },
   "source": [
    " "
   ]
  }
 ],
 "metadata": {
  "kernelspec": {
   "display_name": "Python 3 (ipykernel)",
   "language": "python",
   "name": "python3"
  },
  "language_info": {
   "codemirror_mode": {
    "name": "ipython",
    "version": 3
   },
   "file_extension": ".py",
   "mimetype": "text/x-python",
   "name": "python",
   "nbconvert_exporter": "python",
   "pygments_lexer": "ipython3",
   "version": "3.9.12"
  },
  "otter": {
   "OK_FORMAT": true,
   "tests": {
    "q1": {
     "name": "q1",
     "points": 5,
     "suites": [
      {
       "cases": [
        {
         "code": ">>> p13_test.check(\"q1\", canada_top_10_inter.reset_index(drop=True).to_html())\nTrue",
         "hidden": false,
         "locked": false
        }
       ],
       "scored": true,
       "setup": "",
       "teardown": "",
       "type": "doctest"
      }
     ]
    },
    "q10": {
     "name": "q10",
     "points": 5,
     "suites": [
      {
       "cases": [
        {
         "code": ">>> p13_test.check(\"q10\", top_ranked_inter_faculty[[\"international_students\", \"faculty_student_score\"]].reset_index(drop=True).to_html())\nTrue",
         "hidden": false,
         "locked": false
        }
       ],
       "scored": true,
       "setup": "",
       "teardown": "",
       "type": "doctest"
      }
     ]
    },
    "q11": {
     "name": "q11",
     "points": 5,
     "suites": [
      {
       "cases": [
        {
         "code": ">>> p13_test.check(\"q11\", uk_inter_score_corr)\nTrue",
         "hidden": false,
         "locked": false
        }
       ],
       "scored": true,
       "setup": "",
       "teardown": "",
       "type": "doctest"
      }
     ]
    },
    "q12": {
     "name": "q12",
     "points": 5,
     "suites": [
      {
       "cases": [
        {
         "code": ">>> p13_test.check(\"q12\", cit_per_inter_score_corr)\nTrue",
         "hidden": false,
         "locked": false
        }
       ],
       "scored": true,
       "setup": "",
       "teardown": "",
       "type": "doctest"
      }
     ]
    },
    "q13": {
     "name": "q13",
     "points": 5,
     "suites": [
      {
       "cases": [
        {
         "code": ">>> p13_test.check(\"q13\", top_cit_per_inter.reset_index(drop=True).to_html())\nTrue",
         "hidden": false,
         "locked": false
        }
       ],
       "scored": true,
       "setup": "",
       "teardown": "",
       "type": "doctest"
      }
     ]
    },
    "q14": {
     "name": "q14",
     "points": 5,
     "suites": [
      {
       "cases": [
        {
         "code": ">>> p13_test.check(\"q14\", avg_cit_per_inter.reset_index(drop=True).to_html())\nTrue",
         "hidden": false,
         "locked": false
        }
       ],
       "scored": true,
       "setup": "",
       "teardown": "",
       "type": "doctest"
      }
     ]
    },
    "q15": {
     "name": "q15",
     "points": 5,
     "suites": [
      {
       "cases": [
        {
         "code": ">>> p13_test.check(\"q15\", max_cit_per_inter.reset_index(drop=True).to_html())\nTrue",
         "hidden": false,
         "locked": false
        }
       ],
       "scored": true,
       "setup": "",
       "teardown": "",
       "type": "doctest"
      }
     ]
    },
    "q16": {
     "name": "q16",
     "points": 5,
     "suites": [
      {
       "cases": [
        {
         "code": ">>> p13_test.check(\"q16\", country_citations_inter.reset_index(drop=True).to_html())\nTrue",
         "hidden": false,
         "locked": false
        }
       ],
       "scored": true,
       "setup": "",
       "teardown": "",
       "type": "doctest"
      }
     ]
    },
    "q17": {
     "name": "q17",
     "points": 5,
     "suites": [
      {
       "cases": [
        {
         "code": ">>> p13_test.check(\"q17\", overall_rank[[\"overall_score\", \"rank\", \"fit\"]].reset_index(drop=True).to_html())\nTrue",
         "hidden": false,
         "locked": false
        }
       ],
       "scored": true,
       "setup": "",
       "teardown": "",
       "type": "doctest"
      }
     ]
    },
    "q18": {
     "name": "q18",
     "points": 5,
     "suites": [
      {
       "cases": [
        {
         "code": ">>> p13_test.check(\"q18\", inverse_overall_rank[[\"inverse_overall_score\", \"rank\", \"fit\"]].reset_index(drop=True).to_html())\nTrue",
         "hidden": false,
         "locked": false
        }
       ],
       "scored": true,
       "setup": "",
       "teardown": "",
       "type": "doctest"
      }
     ]
    },
    "q19": {
     "name": "q19",
     "points": 5,
     "suites": [
      {
       "cases": [
        {
         "code": ">>> p13_test.check(\"q19\", rank_score_72)\nTrue",
         "hidden": false,
         "locked": false
        }
       ],
       "scored": true,
       "setup": "",
       "teardown": "",
       "type": "doctest"
      }
     ]
    },
    "q2": {
     "name": "q2",
     "points": 5,
     "suites": [
      {
       "cases": [
        {
         "code": ">>> p13_test.check(\"q2\", us_top_10_rep.reset_index(drop=True).to_html())\nTrue",
         "hidden": false,
         "locked": false
        }
       ],
       "scored": true,
       "setup": "",
       "teardown": "",
       "type": "doctest"
      }
     ]
    },
    "q20": {
     "name": "q20",
     "points": 5,
     "suites": [
      {
       "cases": [
        {
         "code": ">>> p13_test.check(\"q4\", num_institutions.reset_index(drop=True).to_html())\nTrue",
         "hidden": false,
         "locked": false
        }
       ],
       "scored": true,
       "setup": "",
       "teardown": "",
       "type": "doctest"
      }
     ]
    },
    "q3": {
     "name": "q3",
     "points": 5,
     "suites": [
      {
       "cases": [
        {
         "code": ">>> p13_test.check(\"q3\", top_10_countries.reset_index(drop=True).to_html())\nTrue",
         "hidden": false,
         "locked": false
        }
       ],
       "scored": true,
       "setup": "",
       "teardown": "",
       "type": "doctest"
      }
     ]
    },
    "q4": {
     "name": "q4",
     "points": 5,
     "suites": [
      {
       "cases": [
        {
         "code": ">>> p13_test.check(\"q4\", num_institutions.reset_index(drop=True).to_html())\nTrue",
         "hidden": false,
         "locked": false
        }
       ],
       "scored": true,
       "setup": "",
       "teardown": "",
       "type": "doctest"
      }
     ]
    },
    "q5": {
     "name": "q5",
     "points": 5,
     "suites": [
      {
       "cases": [
        {
         "code": ">>> p13_test.check(\"q5\", top_10_total_score.reset_index(drop=True).to_html())\nTrue",
         "hidden": false,
         "locked": false
        }
       ],
       "scored": true,
       "setup": "",
       "teardown": "",
       "type": "doctest"
      }
     ]
    },
    "q6": {
     "name": "q6",
     "points": 5,
     "suites": [
      {
       "cases": [
        {
         "code": ">>> p13_test.check(\"q5\", top_10_total_score.reset_index(drop=True).to_html())\nTrue",
         "hidden": false,
         "locked": false
        }
       ],
       "scored": true,
       "setup": "",
       "teardown": "",
       "type": "doctest"
      }
     ]
    },
    "q7": {
     "name": "q7",
     "points": 5,
     "suites": [
      {
       "cases": [
        {
         "code": ">>> p13_test.check(\"q7\", top_10_inter_score.reset_index(drop=True).to_html())\nTrue",
         "hidden": false,
         "locked": false
        }
       ],
       "scored": true,
       "setup": "",
       "teardown": "",
       "type": "doctest"
      }
     ]
    },
    "q8": {
     "name": "q8",
     "points": 5,
     "suites": [
      {
       "cases": [
        {
         "code": ">>> p13_test.check(\"q8\", citations_overall.reset_index(drop=True).to_html())\nTrue",
         "hidden": false,
         "locked": false
        }
       ],
       "scored": true,
       "setup": "",
       "teardown": "",
       "type": "doctest"
      }
     ]
    },
    "q9": {
     "name": "q9",
     "points": 5,
     "suites": [
      {
       "cases": [
        {
         "code": ">>> p13_test.check(\"q9\", reputations_usa.reset_index(drop=True).to_html())\nTrue",
         "hidden": false,
         "locked": false
        }
       ],
       "scored": true,
       "setup": "",
       "teardown": "",
       "type": "doctest"
      }
     ]
    }
   }
  },
  "vscode": {
   "interpreter": {
    "hash": "aee8b7b246df8f9039afb4144a1f6fd8d2ca17a180786b69acc140d282b71a49"
   }
  }
 },
 "nbformat": 4,
 "nbformat_minor": 5
}
