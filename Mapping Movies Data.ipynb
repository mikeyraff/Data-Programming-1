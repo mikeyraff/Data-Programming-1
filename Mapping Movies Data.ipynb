{
 "cells": [
  {
   "cell_type": "code",
   "execution_count": 1,
   "id": "8645c672",
   "metadata": {
    "cell_type": "code",
    "deletable": false,
    "editable": false
   },
   "outputs": [],
   "source": [
    "import otter\n",
    "# nb_name should be the name of your notebook without the .ipynb extension\n",
    "nb_name = \"p8\"\n",
    "py_filename = nb_name + \".py\"\n",
    "grader = otter.Notebook(nb_name + \".ipynb\")"
   ]
  },
  {
   "cell_type": "code",
   "execution_count": 2,
   "id": "504ce384",
   "metadata": {
    "deletable": false,
    "editable": false
   },
   "outputs": [],
   "source": [
    "import p8_test"
   ]
  },
  {
   "cell_type": "code",
   "execution_count": 3,
   "id": "fa5fbac6",
   "metadata": {},
   "outputs": [],
   "source": [
    "# PLEASE FILL IN THE DETAILS\n",
    "# Enter none if you don't have a project partner\n",
    "# You will have to add your partner as a group member on Gradescope even after you fill this\n",
    "\n",
    "# project: p8\n",
    "# submitter: Michael Raffanti\n",
    "# partner: Tyler Katzenberger"
   ]
  },
  {
   "cell_type": "markdown",
   "id": "c3dbdc8e",
   "metadata": {
    "deletable": false,
    "editable": false
   },
   "source": [
    "# Project 8: Going to the Movies"
   ]
  },
  {
   "cell_type": "markdown",
   "id": "285cf39b",
   "metadata": {
    "deletable": false,
    "editable": false
   },
   "source": [
    "## Learning Objectives:\n",
    "\n",
    "In this project, you will demonstrate how to:\n",
    "\n",
    "* integrate relevant information from various sources (e.g. multiple csv files),\n",
    "* build appropriate data structures for organized and informative presentation (e.g. list of dictionaries),\n",
    "* practice good coding style\n",
    "\n",
    "Please go through [lab-p8](https://git.doit.wisc.edu/cdis/cs/courses/cs220/cs220-f22-projects/-/tree/main/lab-p8) before working on this project. The lab introduces some useful techniques related to this project."
   ]
  },
  {
   "cell_type": "markdown",
   "id": "c3533ec2",
   "metadata": {
    "deletable": false,
    "editable": false
   },
   "source": [
    "## Note on Academic Misconduct:\n",
    "\n",
    "**IMPORTANT**: p8 and p9 are two parts of the same data analysis. You **cannot** switch project partners between these two projects. That is if you partner up with someone for p8, you have to sustain that partnership until end of p9. Now may be a good time to review [our course policies](https://cs220.cs.wisc.edu/f22/syllabus.html)."
   ]
  },
  {
   "cell_type": "markdown",
   "id": "ba644259",
   "metadata": {
    "deletable": false,
    "editable": false
   },
   "source": [
    "## Testing your code:\n",
    "\n",
    "Along with this notebook, you must have downloaded the file `p8_test.py`. If you are curious about how we test your code, you can explore this file, and specifically the value of the variable `expected_json`, to understand the expected answers to the questions."
   ]
  },
  {
   "cell_type": "markdown",
   "id": "037dbf1b",
   "metadata": {
    "deletable": false,
    "editable": false
   },
   "source": [
    "## Introduction:\n",
    "\n",
    "In this project and the next, we will be working on the [IMDb Movies Dataset](https://www.imdb.com/interfaces/). We will use Python to discover some cool facts about our favorite movies, cast, and directors.\n",
    "\n",
    "In this project, you will combine the data from the movie and mapping files into a more useful format.\n",
    "Start by downloading the following files: `p8_test.py`, `small_mapping.csv`, `small_movies.csv`, `mapping.csv`, and `movies.csv`."
   ]
  },
  {
   "cell_type": "markdown",
   "id": "a602bb94",
   "metadata": {
    "deletable": false,
    "editable": false
   },
   "source": [
    "## The Data:\n",
    "\n",
    "Open `movies.csv` and `mapping.csv` in any spreadsheet viewer, and see what the data looks like.\n",
    "`movies.csv` has ~100,000 rows and `mapping.csv` has ~350,000 rows. These files store information about **every** movie on the IMDb dataset which was released in the US. These datasets are **very** large when compared to `small_movies.csv` and `small_mapping.csv` from [lab-p8](https://github.com/msyamkumar/cs220-f22-projects/tree/main/lab-p8), but the data is stored in the **same format**. For description of the datasets, please refer back to [lab-p8](https://github.com/msyamkumar/cs220-f22-projects/tree/main/lab-p8).\n",
    "\n",
    "Before we start working with these very large datasets, let us start with the much smaller datasets, `small_movies.csv` and `small_mapping.csv` from lab-p8. In the latter half of p8 and in p9, you will be working with `movies.csv` and `mapping.csv`. Since the files `movies.csv` and `mapping.csv` are large, some of the functions you write in p8 and p9 **may take a while to execute**. You do not have to panic if a single cell takes between 5 to 10 seconds to run. If any cell takes significantly longer, follow the recommendations below:\n",
    "\n",
    "- **Do not** calling **slow functions** multiple times within a loop.\n",
    "- **Do not** calling functions that **iterate over the entire dataset within a loop**; instead, call the function before the loop and store the result in a variable.\n",
    "- **Do not** compute quantities **inside a loop** if it can be computed outside the loop; for example, if you want to calculate the average of a list, you should use the loop to find the numerator and denominator but divide **once** after the loop ends instead of inside the loop."
   ]
  },
  {
   "cell_type": "markdown",
   "id": "1a564432",
   "metadata": {
    "deletable": false,
    "editable": false
   },
   "source": [
    "## Project Requirements:\n",
    "\n",
    "You **may not** hardcode indices in your code, unless the question explicitly . If you open your `.csv` files with Excel, manually count through the rows and use this number to loop through the dataset, this is also considered as hardcoding. We'll **manually deduct** points from your autograder score on Gradescope during code review.\n",
    "\n",
    "**Store** your final answer for each question in the **variable specified for each question**. This step is important because Otter grades your work by comparing the value of this variable against the correct answer.\n",
    "\n",
    "For some of the questions, we'll ask you to write (then use) a function to compute the answer. If you compute the answer **without** creating the function we ask you to write, we'll **manually deduct** points from your autograder score on Gradescope, even if the way you did it produced the correct answer.\n",
    "\n",
    "Required Functions:\n",
    "- `get_mapping`\n",
    "- `get_raw_movies`\n",
    "- `get_movies`\n",
    "- `find_specific_movies`\n",
    "- `bucketize_by_genre`\n",
    "\n",
    "In this project, you will also be required to define certain **data structures**. If you do not create these data structures exactly as specified, we'll **manually deduct** points from your autograder score on Gradescope, even if the way you did it produced the correct answer.\n",
    "\n",
    "Required Data Structures:\n",
    "- `small_movies`\n",
    "- `movies`\n",
    "- `genre_dict`\n",
    "\n",
    "You are only allowed to define these data structures **once** and we'll **manually deduct** points from your autograder score on Gradescope if you redefine the values of these variables.\n",
    "\n",
    "In this project (and the next), you will be asked to create **lists** of movies. For all such questions, **unless it is explicitly mentioned otherwise**, the movies should be in the **same order** as in the `movies.csv` (or `small_movies.csv`) file. Similarly, for each movie, the **list** of `genres`, `directors`, and `cast` members should always be in the **same order** as in the `movies.csv` (or `small_movies.csv`) file.\n",
    "\n",
    "Students are only allowed to use Python commands and concepts that have been taught in the course prior to the release of p8. Therefore, you should not use the pandas module.  We will **manually deduct** points from your autograder score on Gradescope otherwise.\n",
    "\n",
    "In addition, you are also **required** to follow the requirements below:\n",
    "- **Do not use the method `csv.DictReader` for p8**. Although the required output can be obtained using this method, one of the learning outcomes of this project is to demonstrate your ability to build dictionaries with your own code.  \n",
    "- Additional import statements beyond those that are stated in the directions are not allowed. For this project, we allow you to use `csv` and `copy` packages (that is, you can use the `import csv` and `import copy` statements in your submission). You should not use concepts / modules that are yet to be covered in this course; for example: you should not use modules like `pandas`. **We'll manually deduct points** accordingly, if you don't follow the provided directions.\n",
    "\n",
    "For more details on what will cause you to lose points during code review and specific requirements, please take a look at the [Grading rubric](https://git.doit.wisc.edu/cdis/cs/courses/cs220/cs220-f22-projects/-/blob/main/p8/rubric.md).\n"
   ]
  },
  {
   "cell_type": "markdown",
   "id": "e060d3ff",
   "metadata": {
    "deletable": false,
    "editable": false
   },
   "source": [
    "## Questions and Functions:\n",
    "\n",
    "Let us start by importing all the modules we will need for this project.\n",
    "\n"
   ]
  },
  {
   "cell_type": "code",
   "execution_count": 4,
   "id": "7b0a0757",
   "metadata": {
    "tags": []
   },
   "outputs": [],
   "source": [
    "# it is considered a good coding practice to place all import statements at the top of the notebook\n",
    "# please place all your import statements in this cell if you need to import any more modules for this project\n",
    "import copy\n",
    "import csv\n",
    "def process_csv(filename):\n",
    "    example_file = open(filename, encoding=\"utf-8\")\n",
    "    example_reader = csv.reader(example_file)\n",
    "    example_data = list(example_reader)\n",
    "    example_file.close()\n",
    "    return example_data"
   ]
  },
  {
   "cell_type": "markdown",
   "id": "42a92141",
   "metadata": {
    "deletable": false,
    "editable": false
   },
   "source": [
    "### Function 1: `get_mapping(path)`\n",
    "\n",
    "We require you to complete the below function to answer the next several questions (this is a **requirement**, and you will **lose points** if you do not implement this function). You may copy/paste code from your lab-p8 notebook to finish this function."
   ]
  },
  {
   "cell_type": "code",
   "execution_count": 5,
   "id": "7f9974b0",
   "metadata": {
    "tags": []
   },
   "outputs": [],
   "source": [
    "def get_mapping(path):\n",
    "    csv_data = process_csv(path) # you can use this function from p7\n",
    "    map_dict = {}\n",
    "    \n",
    "    for idx in range(len(csv_data)):\n",
    "        map_dict[csv_data[idx][0]] = csv_data[idx][1]\n",
    "       \n",
    "    return map_dict\n",
    "#     TODO: process path\n",
    "#     TODO: create a dictionary  \n",
    "#     TODO: iterate through each row of processed path\n",
    "#     TODO: map value in first column (ID) to value in second column (name/title)"
   ]
  },
  {
   "cell_type": "markdown",
   "id": "1f1d06c8",
   "metadata": {
    "deletable": false,
    "editable": false
   },
   "source": [
    "**Question 1:** What is returned by `get_mapping(\"small_mapping.csv\")`?\n",
    "\n",
    "Your output **must** be a **dictionary** which maps the *IDs* in `small_mapping.csv` to *names*."
   ]
  },
  {
   "cell_type": "code",
   "execution_count": 6,
   "id": "ea02bcd6",
   "metadata": {
    "tags": []
   },
   "outputs": [
    {
     "data": {
      "text/plain": [
       "{'tt3104988': 'Crazy Rich Asians',\n",
       " 'nm0160840': 'Jon M. Chu',\n",
       " 'nm2090422': 'Constance Wu',\n",
       " 'nm6525901': 'Henry Golding',\n",
       " 'nm0000706': 'Michelle Yeoh',\n",
       " 'nm2110418': 'Gemma Chan',\n",
       " 'nm0523734': 'Lisa Lu',\n",
       " 'tt4846340': 'Hidden Figures',\n",
       " 'nm0577647': 'Theodore Melfi',\n",
       " 'nm0378245': 'Taraji P. Henson',\n",
       " 'nm0818055': 'Octavia Spencer',\n",
       " 'nm1847117': 'Janelle Monáe'}"
      ]
     },
     "execution_count": 6,
     "metadata": {},
     "output_type": "execute_result"
    }
   ],
   "source": [
    "# compute and store the answer in the variable 'small_mapping', then display it\n",
    "small_mapping = get_mapping('small_mapping.csv')\n",
    "small_mapping"
   ]
  },
  {
   "cell_type": "code",
   "execution_count": 7,
   "id": "822054fa",
   "metadata": {
    "deletable": false,
    "editable": false
   },
   "outputs": [
    {
     "ename": "NotJSONError",
     "evalue": "Notebook does not appear to be JSON: ''...",
     "output_type": "error",
     "traceback": [
      "\u001b[0;31m---------------------------------------------------------------------------\u001b[0m",
      "\u001b[0;31mJSONDecodeError\u001b[0m                           Traceback (most recent call last)",
      "File \u001b[0;32m~/opt/anaconda3/lib/python3.9/site-packages/nbformat/reader.py:18\u001b[0m, in \u001b[0;36mparse_json\u001b[0;34m(s, **kwargs)\u001b[0m\n\u001b[1;32m     17\u001b[0m \u001b[38;5;28;01mtry\u001b[39;00m:\n\u001b[0;32m---> 18\u001b[0m     nb_dict \u001b[38;5;241m=\u001b[39m \u001b[43mjson\u001b[49m\u001b[38;5;241;43m.\u001b[39;49m\u001b[43mloads\u001b[49m\u001b[43m(\u001b[49m\u001b[43ms\u001b[49m\u001b[43m,\u001b[49m\u001b[43m \u001b[49m\u001b[38;5;241;43m*\u001b[39;49m\u001b[38;5;241;43m*\u001b[39;49m\u001b[43mkwargs\u001b[49m\u001b[43m)\u001b[49m\n\u001b[1;32m     19\u001b[0m \u001b[38;5;28;01mexcept\u001b[39;00m \u001b[38;5;167;01mValueError\u001b[39;00m \u001b[38;5;28;01mas\u001b[39;00m e:\n\u001b[1;32m     20\u001b[0m     \u001b[38;5;66;03m# Limit the error message to 80 characters.  Display whatever JSON will fit.\u001b[39;00m\n",
      "File \u001b[0;32m~/opt/anaconda3/lib/python3.9/json/__init__.py:346\u001b[0m, in \u001b[0;36mloads\u001b[0;34m(s, cls, object_hook, parse_float, parse_int, parse_constant, object_pairs_hook, **kw)\u001b[0m\n\u001b[1;32m    343\u001b[0m \u001b[38;5;28;01mif\u001b[39;00m (\u001b[38;5;28mcls\u001b[39m \u001b[38;5;129;01mis\u001b[39;00m \u001b[38;5;28;01mNone\u001b[39;00m \u001b[38;5;129;01mand\u001b[39;00m object_hook \u001b[38;5;129;01mis\u001b[39;00m \u001b[38;5;28;01mNone\u001b[39;00m \u001b[38;5;129;01mand\u001b[39;00m\n\u001b[1;32m    344\u001b[0m         parse_int \u001b[38;5;129;01mis\u001b[39;00m \u001b[38;5;28;01mNone\u001b[39;00m \u001b[38;5;129;01mand\u001b[39;00m parse_float \u001b[38;5;129;01mis\u001b[39;00m \u001b[38;5;28;01mNone\u001b[39;00m \u001b[38;5;129;01mand\u001b[39;00m\n\u001b[1;32m    345\u001b[0m         parse_constant \u001b[38;5;129;01mis\u001b[39;00m \u001b[38;5;28;01mNone\u001b[39;00m \u001b[38;5;129;01mand\u001b[39;00m object_pairs_hook \u001b[38;5;129;01mis\u001b[39;00m \u001b[38;5;28;01mNone\u001b[39;00m \u001b[38;5;129;01mand\u001b[39;00m \u001b[38;5;129;01mnot\u001b[39;00m kw):\n\u001b[0;32m--> 346\u001b[0m     \u001b[38;5;28;01mreturn\u001b[39;00m \u001b[43m_default_decoder\u001b[49m\u001b[38;5;241;43m.\u001b[39;49m\u001b[43mdecode\u001b[49m\u001b[43m(\u001b[49m\u001b[43ms\u001b[49m\u001b[43m)\u001b[49m\n\u001b[1;32m    347\u001b[0m \u001b[38;5;28;01mif\u001b[39;00m \u001b[38;5;28mcls\u001b[39m \u001b[38;5;129;01mis\u001b[39;00m \u001b[38;5;28;01mNone\u001b[39;00m:\n",
      "File \u001b[0;32m~/opt/anaconda3/lib/python3.9/json/decoder.py:337\u001b[0m, in \u001b[0;36mJSONDecoder.decode\u001b[0;34m(self, s, _w)\u001b[0m\n\u001b[1;32m    333\u001b[0m \u001b[38;5;124;03m\"\"\"Return the Python representation of ``s`` (a ``str`` instance\u001b[39;00m\n\u001b[1;32m    334\u001b[0m \u001b[38;5;124;03mcontaining a JSON document).\u001b[39;00m\n\u001b[1;32m    335\u001b[0m \n\u001b[1;32m    336\u001b[0m \u001b[38;5;124;03m\"\"\"\u001b[39;00m\n\u001b[0;32m--> 337\u001b[0m obj, end \u001b[38;5;241m=\u001b[39m \u001b[38;5;28;43mself\u001b[39;49m\u001b[38;5;241;43m.\u001b[39;49m\u001b[43mraw_decode\u001b[49m\u001b[43m(\u001b[49m\u001b[43ms\u001b[49m\u001b[43m,\u001b[49m\u001b[43m \u001b[49m\u001b[43midx\u001b[49m\u001b[38;5;241;43m=\u001b[39;49m\u001b[43m_w\u001b[49m\u001b[43m(\u001b[49m\u001b[43ms\u001b[49m\u001b[43m,\u001b[49m\u001b[43m \u001b[49m\u001b[38;5;241;43m0\u001b[39;49m\u001b[43m)\u001b[49m\u001b[38;5;241;43m.\u001b[39;49m\u001b[43mend\u001b[49m\u001b[43m(\u001b[49m\u001b[43m)\u001b[49m\u001b[43m)\u001b[49m\n\u001b[1;32m    338\u001b[0m end \u001b[38;5;241m=\u001b[39m _w(s, end)\u001b[38;5;241m.\u001b[39mend()\n",
      "File \u001b[0;32m~/opt/anaconda3/lib/python3.9/json/decoder.py:355\u001b[0m, in \u001b[0;36mJSONDecoder.raw_decode\u001b[0;34m(self, s, idx)\u001b[0m\n\u001b[1;32m    354\u001b[0m \u001b[38;5;28;01mexcept\u001b[39;00m \u001b[38;5;167;01mStopIteration\u001b[39;00m \u001b[38;5;28;01mas\u001b[39;00m err:\n\u001b[0;32m--> 355\u001b[0m     \u001b[38;5;28;01mraise\u001b[39;00m JSONDecodeError(\u001b[38;5;124m\"\u001b[39m\u001b[38;5;124mExpecting value\u001b[39m\u001b[38;5;124m\"\u001b[39m, s, err\u001b[38;5;241m.\u001b[39mvalue) \u001b[38;5;28;01mfrom\u001b[39;00m \u001b[38;5;28mNone\u001b[39m\n\u001b[1;32m    356\u001b[0m \u001b[38;5;28;01mreturn\u001b[39;00m obj, end\n",
      "\u001b[0;31mJSONDecodeError\u001b[0m: Expecting value: line 1 column 1 (char 0)",
      "\nThe above exception was the direct cause of the following exception:\n",
      "\u001b[0;31mNotJSONError\u001b[0m                              Traceback (most recent call last)",
      "Input \u001b[0;32mIn [7]\u001b[0m, in \u001b[0;36m<cell line: 1>\u001b[0;34m()\u001b[0m\n\u001b[0;32m----> 1\u001b[0m \u001b[43mgrader\u001b[49m\u001b[38;5;241;43m.\u001b[39;49m\u001b[43mcheck\u001b[49m\u001b[43m(\u001b[49m\u001b[38;5;124;43m\"\u001b[39;49m\u001b[38;5;124;43mq1\u001b[39;49m\u001b[38;5;124;43m\"\u001b[39;49m\u001b[43m)\u001b[49m\n",
      "File \u001b[0;32m~/opt/anaconda3/lib/python3.9/site-packages/otter/check/utils.py:188\u001b[0m, in \u001b[0;36mlogs_event.<locals>.event_logger\u001b[0;34m(wrapped, self, args, kwargs)\u001b[0m\n\u001b[1;32m    186\u001b[0m \u001b[38;5;28;01mexcept\u001b[39;00m \u001b[38;5;167;01mException\u001b[39;00m \u001b[38;5;28;01mas\u001b[39;00m e:\n\u001b[1;32m    187\u001b[0m     \u001b[38;5;28mself\u001b[39m\u001b[38;5;241m.\u001b[39m_log_event(event_type, success\u001b[38;5;241m=\u001b[39m\u001b[38;5;28;01mFalse\u001b[39;00m, error\u001b[38;5;241m=\u001b[39me)\n\u001b[0;32m--> 188\u001b[0m     \u001b[38;5;28;01mraise\u001b[39;00m e\n\u001b[1;32m    190\u001b[0m \u001b[38;5;28;01melse\u001b[39;00m:\n\u001b[1;32m    191\u001b[0m     \u001b[38;5;28mself\u001b[39m\u001b[38;5;241m.\u001b[39m_log_event(event_type, results\u001b[38;5;241m=\u001b[39mresults, question\u001b[38;5;241m=\u001b[39mquestion, shelve_env\u001b[38;5;241m=\u001b[39mshelve_env)\n",
      "File \u001b[0;32m~/opt/anaconda3/lib/python3.9/site-packages/otter/check/utils.py:179\u001b[0m, in \u001b[0;36mlogs_event.<locals>.event_logger\u001b[0;34m(wrapped, self, args, kwargs)\u001b[0m\n\u001b[1;32m    177\u001b[0m \u001b[38;5;28;01mtry\u001b[39;00m:\n\u001b[1;32m    178\u001b[0m     \u001b[38;5;28;01mif\u001b[39;00m event_type \u001b[38;5;241m==\u001b[39m EventType\u001b[38;5;241m.\u001b[39mCHECK:\n\u001b[0;32m--> 179\u001b[0m         question, results, shelve_env \u001b[38;5;241m=\u001b[39m \u001b[43mwrapped\u001b[49m\u001b[43m(\u001b[49m\u001b[38;5;241;43m*\u001b[39;49m\u001b[43margs\u001b[49m\u001b[43m,\u001b[49m\u001b[43m \u001b[49m\u001b[38;5;241;43m*\u001b[39;49m\u001b[38;5;241;43m*\u001b[39;49m\u001b[43mkwargs\u001b[49m\u001b[43m)\u001b[49m\n\u001b[1;32m    181\u001b[0m     \u001b[38;5;28;01melse\u001b[39;00m:\n\u001b[1;32m    182\u001b[0m         results \u001b[38;5;241m=\u001b[39m wrapped(\u001b[38;5;241m*\u001b[39margs, \u001b[38;5;241m*\u001b[39m\u001b[38;5;241m*\u001b[39mkwargs)\n",
      "File \u001b[0;32m~/opt/anaconda3/lib/python3.9/site-packages/otter/check/notebook.py:226\u001b[0m, in \u001b[0;36mNotebook.check\u001b[0;34m(self, question, global_env)\u001b[0m\n\u001b[1;32m    224\u001b[0m \u001b[38;5;66;03m# run the check\u001b[39;00m\n\u001b[1;32m    225\u001b[0m \u001b[38;5;28mself\u001b[39m\u001b[38;5;241m.\u001b[39m_logger\u001b[38;5;241m.\u001b[39mdebug(\u001b[38;5;124mf\u001b[39m\u001b[38;5;124m\"\u001b[39m\u001b[38;5;124mCalling checker\u001b[39m\u001b[38;5;124m\"\u001b[39m)\n\u001b[0;32m--> 226\u001b[0m result \u001b[38;5;241m=\u001b[39m \u001b[43mChecker\u001b[49m\u001b[38;5;241;43m.\u001b[39;49m\u001b[43mcheck\u001b[49m\u001b[43m(\u001b[49m\u001b[43mtest_path\u001b[49m\u001b[43m,\u001b[49m\u001b[43m \u001b[49m\u001b[43mtest_name\u001b[49m\u001b[43m,\u001b[49m\u001b[43m \u001b[49m\u001b[43mglobal_env\u001b[49m\u001b[43m)\u001b[49m\n\u001b[1;32m    228\u001b[0m \u001b[38;5;28;01mreturn\u001b[39;00m question, result, global_env\n",
      "File \u001b[0;32m~/opt/anaconda3/lib/python3.9/site-packages/otter/execute/checker.py:73\u001b[0m, in \u001b[0;36mChecker.check\u001b[0;34m(cls, nb_or_test_path, test_name, global_env)\u001b[0m\n\u001b[1;32m     52\u001b[0m \u001b[38;5;129m@classmethod\u001b[39m\n\u001b[1;32m     53\u001b[0m \u001b[38;5;28;01mdef\u001b[39;00m \u001b[38;5;21mcheck\u001b[39m(\u001b[38;5;28mcls\u001b[39m, nb_or_test_path, test_name\u001b[38;5;241m=\u001b[39m\u001b[38;5;28;01mNone\u001b[39;00m, global_env\u001b[38;5;241m=\u001b[39m\u001b[38;5;28;01mNone\u001b[39;00m):\n\u001b[1;32m     54\u001b[0m     \u001b[38;5;124;03m\"\"\"\u001b[39;00m\n\u001b[1;32m     55\u001b[0m \u001b[38;5;124;03m    Checks a global environment against given test file. If ``global_env`` is ``None``, the global \u001b[39;00m\n\u001b[1;32m     56\u001b[0m \u001b[38;5;124;03m    environment of the calling frame is used; i.e., the following two calls are equivalent:\u001b[39;00m\n\u001b[0;32m   (...)\u001b[0m\n\u001b[1;32m     71\u001b[0m \u001b[38;5;124;03m        given global environment\u001b[39;00m\n\u001b[1;32m     72\u001b[0m \u001b[38;5;124;03m    \"\"\"\u001b[39;00m\n\u001b[0;32m---> 73\u001b[0m     test \u001b[38;5;241m=\u001b[39m \u001b[43mcreate_test_file\u001b[49m\u001b[43m(\u001b[49m\u001b[43mnb_or_test_path\u001b[49m\u001b[43m,\u001b[49m\u001b[43m \u001b[49m\u001b[43mtest_name\u001b[49m\u001b[38;5;241;43m=\u001b[39;49m\u001b[43mtest_name\u001b[49m\u001b[43m)\u001b[49m\n\u001b[1;32m     75\u001b[0m     \u001b[38;5;28;01mif\u001b[39;00m global_env \u001b[38;5;129;01mis\u001b[39;00m \u001b[38;5;28;01mNone\u001b[39;00m:\n\u001b[1;32m     76\u001b[0m         global_env \u001b[38;5;241m=\u001b[39m inspect\u001b[38;5;241m.\u001b[39mcurrentframe()\u001b[38;5;241m.\u001b[39mf_back\u001b[38;5;241m.\u001b[39mf_globals\n",
      "File \u001b[0;32m~/opt/anaconda3/lib/python3.9/site-packages/otter/test_files/__init__.py:40\u001b[0m, in \u001b[0;36mcreate_test_file\u001b[0;34m(path, test_name)\u001b[0m\n\u001b[1;32m     37\u001b[0m \u001b[38;5;28;01mif\u001b[39;00m test_name \u001b[38;5;129;01mis\u001b[39;00m \u001b[38;5;28;01mNone\u001b[39;00m:\n\u001b[1;32m     38\u001b[0m     \u001b[38;5;28;01mraise\u001b[39;00m \u001b[38;5;167;01mValueError\u001b[39;00m(\u001b[38;5;124m\"\u001b[39m\u001b[38;5;124mYou must specify a test name when using notebook metadata tests\u001b[39m\u001b[38;5;124m\"\u001b[39m)\n\u001b[0;32m---> 40\u001b[0m nb \u001b[38;5;241m=\u001b[39m \u001b[43mnbformat\u001b[49m\u001b[38;5;241;43m.\u001b[39;49m\u001b[43mread\u001b[49m\u001b[43m(\u001b[49m\u001b[43mpath\u001b[49m\u001b[43m,\u001b[49m\u001b[43m \u001b[49m\u001b[43mas_version\u001b[49m\u001b[38;5;241;43m=\u001b[39;49m\u001b[43mNBFORMAT_VERSION\u001b[49m\u001b[43m)\u001b[49m\n\u001b[1;32m     41\u001b[0m \u001b[38;5;28;01mif\u001b[39;00m nb[\u001b[38;5;124m\"\u001b[39m\u001b[38;5;124mmetadata\u001b[39m\u001b[38;5;124m\"\u001b[39m][NOTEBOOK_METADATA_KEY][OK_FORMAT_VARNAME]:\n\u001b[1;32m     42\u001b[0m     \u001b[38;5;28;01mreturn\u001b[39;00m NotebookMetadataOKTestFile\u001b[38;5;241m.\u001b[39mfrom_file(path, test_name)\n",
      "File \u001b[0;32m~/opt/anaconda3/lib/python3.9/site-packages/nbformat/__init__.py:168\u001b[0m, in \u001b[0;36mread\u001b[0;34m(fp, as_version, capture_validation_error, **kwargs)\u001b[0m\n\u001b[1;32m    166\u001b[0m \u001b[38;5;28;01mexcept\u001b[39;00m \u001b[38;5;167;01mAttributeError\u001b[39;00m:\n\u001b[1;32m    167\u001b[0m     \u001b[38;5;28;01mwith\u001b[39;00m \u001b[38;5;28mopen\u001b[39m(fp, encoding\u001b[38;5;241m=\u001b[39m\u001b[38;5;124m\"\u001b[39m\u001b[38;5;124mutf-8\u001b[39m\u001b[38;5;124m\"\u001b[39m) \u001b[38;5;28;01mas\u001b[39;00m f:\n\u001b[0;32m--> 168\u001b[0m         \u001b[38;5;28;01mreturn\u001b[39;00m \u001b[43mreads\u001b[49m\u001b[43m(\u001b[49m\u001b[43mf\u001b[49m\u001b[38;5;241;43m.\u001b[39;49m\u001b[43mread\u001b[49m\u001b[43m(\u001b[49m\u001b[43m)\u001b[49m\u001b[43m,\u001b[49m\u001b[43m \u001b[49m\u001b[43mas_version\u001b[49m\u001b[43m,\u001b[49m\u001b[43m \u001b[49m\u001b[43mcapture_validation_error\u001b[49m\u001b[43m,\u001b[49m\u001b[43m \u001b[49m\u001b[38;5;241;43m*\u001b[39;49m\u001b[38;5;241;43m*\u001b[39;49m\u001b[43mkwargs\u001b[49m\u001b[43m)\u001b[49m\n\u001b[1;32m    170\u001b[0m \u001b[38;5;28;01mreturn\u001b[39;00m reads(buf, as_version, capture_validation_error, \u001b[38;5;241m*\u001b[39m\u001b[38;5;241m*\u001b[39mkwargs)\n",
      "File \u001b[0;32m~/opt/anaconda3/lib/python3.9/site-packages/nbformat/__init__.py:88\u001b[0m, in \u001b[0;36mreads\u001b[0;34m(s, as_version, capture_validation_error, **kwargs)\u001b[0m\n\u001b[1;32m     62\u001b[0m \u001b[38;5;28;01mdef\u001b[39;00m \u001b[38;5;21mreads\u001b[39m(s, as_version, capture_validation_error\u001b[38;5;241m=\u001b[39m\u001b[38;5;28;01mNone\u001b[39;00m, \u001b[38;5;241m*\u001b[39m\u001b[38;5;241m*\u001b[39mkwargs):\n\u001b[1;32m     63\u001b[0m     \u001b[38;5;124;03m\"\"\"Read a notebook from a string and return the NotebookNode object as the given version.\u001b[39;00m\n\u001b[1;32m     64\u001b[0m \n\u001b[1;32m     65\u001b[0m \u001b[38;5;124;03m    The string can contain a notebook of any version.\u001b[39;00m\n\u001b[0;32m   (...)\u001b[0m\n\u001b[1;32m     86\u001b[0m \u001b[38;5;124;03m        The notebook that was read.\u001b[39;00m\n\u001b[1;32m     87\u001b[0m \u001b[38;5;124;03m    \"\"\"\u001b[39;00m\n\u001b[0;32m---> 88\u001b[0m     nb \u001b[38;5;241m=\u001b[39m \u001b[43mreader\u001b[49m\u001b[38;5;241;43m.\u001b[39;49m\u001b[43mreads\u001b[49m\u001b[43m(\u001b[49m\u001b[43ms\u001b[49m\u001b[43m,\u001b[49m\u001b[43m \u001b[49m\u001b[38;5;241;43m*\u001b[39;49m\u001b[38;5;241;43m*\u001b[39;49m\u001b[43mkwargs\u001b[49m\u001b[43m)\u001b[49m\n\u001b[1;32m     89\u001b[0m     \u001b[38;5;28;01mif\u001b[39;00m as_version \u001b[38;5;129;01mis\u001b[39;00m \u001b[38;5;129;01mnot\u001b[39;00m NO_CONVERT:\n\u001b[1;32m     90\u001b[0m         nb \u001b[38;5;241m=\u001b[39m convert(nb, as_version)\n",
      "File \u001b[0;32m~/opt/anaconda3/lib/python3.9/site-packages/nbformat/reader.py:72\u001b[0m, in \u001b[0;36mreads\u001b[0;34m(s, **kwargs)\u001b[0m\n\u001b[1;32m     46\u001b[0m \u001b[38;5;124;03m\"\"\"Read a notebook from a json string and return the\u001b[39;00m\n\u001b[1;32m     47\u001b[0m \u001b[38;5;124;03mNotebookNode object.\u001b[39;00m\n\u001b[1;32m     48\u001b[0m \n\u001b[0;32m   (...)\u001b[0m\n\u001b[1;32m     68\u001b[0m \u001b[38;5;124;03m    Specified major version is invalid or unsupported.\u001b[39;00m\n\u001b[1;32m     69\u001b[0m \u001b[38;5;124;03m\"\"\"\u001b[39;00m\n\u001b[1;32m     70\u001b[0m \u001b[38;5;28;01mfrom\u001b[39;00m \u001b[38;5;21;01m.\u001b[39;00m \u001b[38;5;28;01mimport\u001b[39;00m NBFormatError, versions\n\u001b[0;32m---> 72\u001b[0m nb_dict \u001b[38;5;241m=\u001b[39m \u001b[43mparse_json\u001b[49m\u001b[43m(\u001b[49m\u001b[43ms\u001b[49m\u001b[43m,\u001b[49m\u001b[43m \u001b[49m\u001b[38;5;241;43m*\u001b[39;49m\u001b[38;5;241;43m*\u001b[39;49m\u001b[43mkwargs\u001b[49m\u001b[43m)\u001b[49m\n\u001b[1;32m     73\u001b[0m (major, minor) \u001b[38;5;241m=\u001b[39m get_version(nb_dict)\n\u001b[1;32m     74\u001b[0m \u001b[38;5;28;01mif\u001b[39;00m major \u001b[38;5;129;01min\u001b[39;00m versions:\n",
      "File \u001b[0;32m~/opt/anaconda3/lib/python3.9/site-packages/nbformat/reader.py:21\u001b[0m, in \u001b[0;36mparse_json\u001b[0;34m(s, **kwargs)\u001b[0m\n\u001b[1;32m     18\u001b[0m     nb_dict \u001b[38;5;241m=\u001b[39m json\u001b[38;5;241m.\u001b[39mloads(s, \u001b[38;5;241m*\u001b[39m\u001b[38;5;241m*\u001b[39mkwargs)\n\u001b[1;32m     19\u001b[0m \u001b[38;5;28;01mexcept\u001b[39;00m \u001b[38;5;167;01mValueError\u001b[39;00m \u001b[38;5;28;01mas\u001b[39;00m e:\n\u001b[1;32m     20\u001b[0m     \u001b[38;5;66;03m# Limit the error message to 80 characters.  Display whatever JSON will fit.\u001b[39;00m\n\u001b[0;32m---> 21\u001b[0m     \u001b[38;5;28;01mraise\u001b[39;00m NotJSONError((\u001b[38;5;124m\"\u001b[39m\u001b[38;5;124mNotebook does not appear to be JSON: \u001b[39m\u001b[38;5;132;01m%r\u001b[39;00m\u001b[38;5;124m\"\u001b[39m \u001b[38;5;241m%\u001b[39m s)[:\u001b[38;5;241m77\u001b[39m] \u001b[38;5;241m+\u001b[39m \u001b[38;5;124m\"\u001b[39m\u001b[38;5;124m...\u001b[39m\u001b[38;5;124m\"\u001b[39m) \u001b[38;5;28;01mfrom\u001b[39;00m \u001b[38;5;21;01me\u001b[39;00m\n\u001b[1;32m     22\u001b[0m \u001b[38;5;28;01mreturn\u001b[39;00m nb_dict\n",
      "\u001b[0;31mNotJSONError\u001b[0m: Notebook does not appear to be JSON: ''..."
     ]
    }
   ],
   "source": [
    "grader.check(\"q1\")"
   ]
  },
  {
   "cell_type": "markdown",
   "id": "9a666e9f",
   "metadata": {
    "deletable": false,
    "editable": false
   },
   "source": [
    "**Question 2:** What is the **value** associated with the **key** *nm2110418*?\n",
    "\n",
    "Your output **must** be a **string**."
   ]
  },
  {
   "cell_type": "code",
   "execution_count": null,
   "id": "c2606487",
   "metadata": {
    "tags": []
   },
   "outputs": [],
   "source": [
    "# access and store the answer in the variable 'nm2110418_value', then display it\n",
    "nm2110418_value = small_mapping.get('nm2110418')\n",
    "nm2110418_value"
   ]
  },
  {
   "cell_type": "code",
   "execution_count": null,
   "id": "95e8aa69",
   "metadata": {
    "deletable": false,
    "editable": false
   },
   "outputs": [],
   "source": [
    "grader.check(\"q2\")"
   ]
  },
  {
   "cell_type": "markdown",
   "id": "3edb29c2",
   "metadata": {
    "deletable": false,
    "editable": false
   },
   "source": [
    "**Question 3:** What are the **values** associated with **keys** that **begin** with *nm*?\n",
    "\n",
    "Your output **must** be a **list** of **strings**."
   ]
  },
  {
   "cell_type": "code",
   "execution_count": null,
   "id": "4289a1d2",
   "metadata": {
    "tags": []
   },
   "outputs": [],
   "source": [
    "# compute and store the answer in the variable 'nm_values', then display it\n",
    "nm_values = []\n",
    "for idx in small_mapping:\n",
    "    if 'nm' in idx:\n",
    "        nm_values.append(small_mapping[idx])\n",
    "nm_values"
   ]
  },
  {
   "cell_type": "code",
   "execution_count": null,
   "id": "7856aed4",
   "metadata": {
    "deletable": false,
    "editable": false
   },
   "outputs": [],
   "source": [
    "grader.check(\"q3\")"
   ]
  },
  {
   "cell_type": "markdown",
   "id": "7bcb2a89",
   "metadata": {
    "deletable": false,
    "editable": false
   },
   "source": [
    "**Question 4:** Find the **keys** of the people (keys **beginning** with *nm*) whose **last name** is *Spencer*.\n",
    "\n",
    "Your output **must** be a **list** of **string(s)**.\n",
    "\n",
    "**Requirements:** Your **code** must be robust and satisfy all the requirements, even if you were to run this on a larger dataset (such as `mapping.csv`). In particular:\n",
    "1. You will **lose points** if your code would find people whose **first** name or **middle** name is *Spencer* (e.g. *Spencer Garrett* or *Charlie Spencer Clark*).\n",
    "2. You will **lose points** if your code would find people whose **last** name contains *Spencer* as a **substring** (e.g. *Tara Spencer-Nairn*). The name should be **exactly** *Spencer*. \n",
    "3. You will **lose points** if your code would find any **movie titles** (e.g. *Meeting Spencer*)."
   ]
  },
  {
   "cell_type": "code",
   "execution_count": null,
   "id": "c1e79a7b",
   "metadata": {
    "tags": []
   },
   "outputs": [],
   "source": [
    "nm_spencer = []\n",
    "for idx in small_mapping:\n",
    "    if \"nm\" in idx:\n",
    "    \n",
    "        last_name = small_mapping[idx].split(\" \")[-1]\n",
    "    \n",
    "        if \"Spencer\" == last_name:\n",
    "            nm_spencer.append(idx)\n",
    "        \n",
    "nm_spencer"
   ]
  },
  {
   "cell_type": "code",
   "execution_count": null,
   "id": "c6e22ec0",
   "metadata": {
    "deletable": false,
    "editable": false
   },
   "outputs": [],
   "source": [
    "grader.check(\"q4\")"
   ]
  },
  {
   "cell_type": "markdown",
   "id": "9232bdf3",
   "metadata": {
    "deletable": false,
    "editable": false
   },
   "source": [
    "#### Now, let's move on to reading the movie files!"
   ]
  },
  {
   "cell_type": "markdown",
   "id": "cb96c0dc",
   "metadata": {
    "deletable": false,
    "editable": false
   },
   "source": [
    "### Function 2: `get_raw_movies(path)`\n",
    "\n",
    "We require you to complete the below function to answer the next several questions (this is a **requirement**, and you will **lose points** if you do not implement this function).\n",
    "\n",
    "This function **must** return a **list** of **dictionaries**, where each **dictionary** is of the following format:\n",
    "\n",
    "```python\n",
    "   {\n",
    "        'title': <title-id>,\n",
    "        'year': <the year as an integer>,\n",
    "        'duration': <the duration as an integer>,\n",
    "        'genres': [<genre1>, <genre2>, ...],\n",
    "        'rating': <the rating as a float>,\n",
    "        'directors': [<director-id1>, <director-id2>, ...],\n",
    "        'cast': [<actor-id1>, <actor-id2>, ....]\n",
    "    }\n",
    "```\n",
    "\n",
    "Here is an example:\n",
    "\n",
    "```python\n",
    "    {\n",
    "        'title': 'tt0033313',\n",
    "        'year': 1941,\n",
    "        'duration': 59,\n",
    "        'genres': ['Western'],\n",
    "        'rating': 5.2,\n",
    "        'directors': ['nm0496505'],\n",
    "        'cast': ['nm0193318', 'nm0254381', 'nm0279961', 'nm0910294', 'nm0852305']\n",
    "    }\n",
    "```\n",
    "\n",
    "You may copy/paste code from your lab-p8 notebook to finish this function."
   ]
  },
  {
   "cell_type": "code",
   "execution_count": null,
   "id": "e91c5e9e",
   "metadata": {
    "tags": []
   },
   "outputs": [],
   "source": [
    "def get_raw_movies(path):\n",
    "    mv_rows = process_csv(path)\n",
    "    mv_header = mv_rows[0]\n",
    "    mv_data = mv_rows[1:]\n",
    "    mv_raw_list = []\n",
    "    \n",
    "    for idx in range(len(mv_data)):\n",
    "        mv_raw_dict = {}  \n",
    "        for header in range(len(mv_header)):\n",
    "            mv_raw_dict[mv_header[header]] = mv_data[idx][header]\n",
    "        for key in mv_raw_dict:\n",
    "            if key == 'rating':\n",
    "                mv_raw_dict[key] = float(mv_raw_dict[key])\n",
    "            if key == 'year' or key == 'duration':\n",
    "                mv_raw_dict[key] = int(mv_raw_dict[key])\n",
    "            if key == 'genres' or key == 'directors' or key == 'cast':\n",
    "                mv_raw_dict[key] = mv_raw_dict[key].split(', ')\n",
    "        mv_raw_list.append(mv_raw_dict)\n",
    "    return mv_raw_list"
   ]
  },
  {
   "cell_type": "markdown",
   "id": "a27fc397",
   "metadata": {
    "deletable": false,
    "editable": false
   },
   "source": [
    "**Question 5:** What is returned by `get_raw_movies(\"small_movies.csv\")`?\n",
    "\n",
    "Your output **must** be a **list** of **dictionaries** where each dictionary contains information about a movie."
   ]
  },
  {
   "cell_type": "code",
   "execution_count": null,
   "id": "760d6376",
   "metadata": {
    "tags": []
   },
   "outputs": [],
   "source": [
    "# compute and store the answer in the variable 'raw_small_movies', then display it\n",
    "raw_small_movies = get_raw_movies('small_movies.csv')\n",
    "raw_small_movies"
   ]
  },
  {
   "cell_type": "code",
   "execution_count": null,
   "id": "5c5b3731",
   "metadata": {
    "deletable": false,
    "editable": false
   },
   "outputs": [],
   "source": [
    "grader.check(\"q5\")"
   ]
  },
  {
   "cell_type": "markdown",
   "id": "41143f42",
   "metadata": {
    "deletable": false,
    "editable": false
   },
   "source": [
    "If your answer looks correct, but does not pass `grader.check`, make sure that the **datatypes** are all correct. Also make sure that the **directors** and **cast**  are in the **same order** as in `small_movies.csv`."
   ]
  },
  {
   "cell_type": "markdown",
   "id": "a634eb65",
   "metadata": {
    "deletable": false,
    "editable": false
   },
   "source": [
    "**Question 6:** How **many** cast members does the **first** movie have?\n",
    "\n",
    "Your output **must** be an **int**."
   ]
  },
  {
   "cell_type": "code",
   "execution_count": null,
   "id": "9cfed920",
   "metadata": {
    "tags": []
   },
   "outputs": [],
   "source": [
    "# compute and store the answer in the variable 'num_cast_first_movie', then display it\n",
    "num_cast_first_movie = len(get_raw_movies('small_movies.csv')[0]['cast'])\n",
    "num_cast_first_movie"
   ]
  },
  {
   "cell_type": "code",
   "execution_count": null,
   "id": "dce007ca",
   "metadata": {
    "deletable": false,
    "editable": false
   },
   "outputs": [],
   "source": [
    "grader.check(\"q6\")"
   ]
  },
  {
   "cell_type": "markdown",
   "id": "21365df9",
   "metadata": {
    "deletable": false,
    "editable": false
   },
   "source": [
    "**Question 7:** What is the *ID* of the **first** cast member listed for the **first** movie of the dataset?\n",
    "\n",
    "Your output **must** be a **string**."
   ]
  },
  {
   "cell_type": "code",
   "execution_count": null,
   "id": "7bfa3bbb",
   "metadata": {
    "tags": []
   },
   "outputs": [],
   "source": [
    "# compute and store the answer in the variable 'first_actor_id_first_movie', then display it\n",
    "first_actor_id_first_movie = get_raw_movies('small_movies.csv')[0]['cast'][0]\n",
    "first_actor_id_first_movie"
   ]
  },
  {
   "cell_type": "code",
   "execution_count": null,
   "id": "38711e1e",
   "metadata": {
    "deletable": false,
    "editable": false
   },
   "outputs": [],
   "source": [
    "grader.check(\"q7\")"
   ]
  },
  {
   "cell_type": "markdown",
   "id": "46268cb1",
   "metadata": {
    "deletable": false,
    "editable": false
   },
   "source": [
    "### Function 3: `get_movies(movies_path, mapping_path)`\n",
    "\n",
    "We require you to complete the below function to answer the next several questions (this is a **requirement**, and you will **lose points** if you do not implement this function).\n",
    "\n",
    "\n",
    "This function **must** return a **list** of **dictionaries**, where each **dictionary** is of the following format:\n",
    "\n",
    "```python\n",
    "   {\n",
    "        'title': \"the movie name\",\n",
    "        'year': <the year as an integer>,\n",
    "        'duration': <the duration as an integer>,\n",
    "        'genres': [<genre1>, <genre2>, ...],\n",
    "        'rating': <the rating as a float>,\n",
    "        'directors': [\"director-name1\", \"director-name2\", ...],\n",
    "        'cast': [\"actor-name1\", \"actor-name2\", ....]\n",
    "    }\n",
    "```\n",
    "\n",
    "Here is an example:\n",
    "\n",
    "```python\n",
    "    {\n",
    "        'title': 'Across the Sierras',\n",
    "        'year': 1941,\n",
    "        'duration': 59,\n",
    "        'genres': ['Western'],\n",
    "        'rating': 5.2,\n",
    "        'directors': ['D. Ross Lederman'],\n",
    "        'cast': ['Dick Curtis', 'Bill Elliott', 'Richard Fiske', 'Luana Walters', 'Dub Taylor']\n",
    "    }\n",
    "```\n",
    "\n",
    "You may copy/paste code from your lab-p8 notebook to finish this function."
   ]
  },
  {
   "cell_type": "code",
   "execution_count": null,
   "id": "c794fdb2",
   "metadata": {
    "tags": []
   },
   "outputs": [],
   "source": [
    "def get_movies(movies_path, mapping_path):\n",
    "    mv_list = get_raw_movies(movies_path) \n",
    "    map_dict = get_mapping(mapping_path)\n",
    "    for mv in mv_list:\n",
    "        #print(mv)\n",
    "        for key in mv:\n",
    "            #print(key)\n",
    "            if key == 'title':\n",
    "                mv[key] = map_dict[mv[key]]\n",
    "            if key == 'directors' or key == 'cast':\n",
    "                dr_act_list = []\n",
    "                #print(mv[key])\n",
    "                for mv_id in mv[key]:\n",
    "                    map_id = map_dict[mv_id]\n",
    "                    dr_act_list.append(map_id)\n",
    "                mv[key] = dr_act_list\n",
    "    return mv_list"
   ]
  },
  {
   "cell_type": "markdown",
   "id": "30a62b5a",
   "metadata": {
    "deletable": false,
    "editable": false
   },
   "source": [
    "**Question 8:** What is returned by `get_movies(\"small_movies.csv\", \"small_mapping.csv\")`?\n",
    "\n",
    "Your output **must** be a **list** of **dictionaries** where each dictionary contains information about a movie."
   ]
  },
  {
   "cell_type": "code",
   "execution_count": null,
   "id": "a233b116",
   "metadata": {
    "tags": []
   },
   "outputs": [],
   "source": [
    "# compute and store the answer in the variable 'small_movies_data', then display it\n",
    "small_movies_data = get_movies('small_movies.csv', 'small_mapping.csv')\n",
    "small_movies_data"
   ]
  },
  {
   "cell_type": "code",
   "execution_count": null,
   "id": "5a3c4c7d",
   "metadata": {
    "deletable": false,
    "editable": false
   },
   "outputs": [],
   "source": [
    "grader.check(\"q8\")"
   ]
  },
  {
   "cell_type": "markdown",
   "id": "9f4bded0",
   "metadata": {
    "deletable": false,
    "editable": false
   },
   "source": [
    "**Question 9:** What is `title` of the **second** movie in `small_movies_data`?\n",
    "\n",
    "Your output **must** be a **string**."
   ]
  },
  {
   "cell_type": "code",
   "execution_count": null,
   "id": "379ccd60",
   "metadata": {
    "tags": []
   },
   "outputs": [],
   "source": [
    "# compute and store the answer in the variable 'second_movie_title_small_movies', then display it\n",
    "second_movie_title_small_movies = small_movies_data[1][\"title\"]\n",
    "second_movie_title_small_movies"
   ]
  },
  {
   "cell_type": "code",
   "execution_count": null,
   "id": "86612bef",
   "metadata": {
    "deletable": false,
    "editable": false
   },
   "outputs": [],
   "source": [
    "grader.check(\"q9\")"
   ]
  },
  {
   "cell_type": "markdown",
   "id": "c3b64019",
   "metadata": {
    "deletable": false,
    "editable": false
   },
   "source": [
    "**Question 10:** Who are the `cast` members of the **second** movie in `small_movies_data`?\n",
    "\n",
    "Your output **must** be a **list** of **string(s)**."
   ]
  },
  {
   "cell_type": "code",
   "execution_count": null,
   "id": "ccae5a99",
   "metadata": {
    "tags": []
   },
   "outputs": [],
   "source": [
    "# compute and store the answer in the variable 'second_movie_cast_small_movies', then display it\n",
    "second_movie_cast_small_movies = small_movies_data[1][\"cast\"]\n",
    "second_movie_cast_small_movies"
   ]
  },
  {
   "cell_type": "code",
   "execution_count": null,
   "id": "f44333b3",
   "metadata": {
    "deletable": false,
    "editable": false
   },
   "outputs": [],
   "source": [
    "grader.check(\"q10\")"
   ]
  },
  {
   "cell_type": "markdown",
   "id": "bbe093e2",
   "metadata": {
    "deletable": false,
    "editable": false
   },
   "source": [
    "**Question 11:** Who are the `directors` of the **last** movie in `small_movies_data`?\n",
    "\n",
    "Your output **must** be a **list** of **string(s)**."
   ]
  },
  {
   "cell_type": "code",
   "execution_count": null,
   "id": "d877d8d2",
   "metadata": {
    "tags": []
   },
   "outputs": [],
   "source": [
    "# compute and store the answer in the variable 'last_movie_directors_small_movies', then display it\n",
    "last_movie_directors_small_movies = small_movies_data[-1][\"directors\"]\n",
    "last_movie_directors_small_movies"
   ]
  },
  {
   "cell_type": "code",
   "execution_count": null,
   "id": "a3521cab",
   "metadata": {
    "deletable": false,
    "editable": false
   },
   "outputs": [],
   "source": [
    "grader.check(\"q11\")"
   ]
  },
  {
   "cell_type": "markdown",
   "id": "2034bd93",
   "metadata": {
    "deletable": false,
    "editable": false
   },
   "source": [
    "#### Now that you’ve made it this far, your functions must be working pretty well with small datasets. Next, let's try a much bigger dataset!\n",
    "\n",
    "Run the following code to open the full dataset:"
   ]
  },
  {
   "cell_type": "code",
   "execution_count": null,
   "id": "c483018d",
   "metadata": {},
   "outputs": [],
   "source": [
    "movies = get_movies(\"movies.csv\", \"mapping.csv\")\n",
    "len(movies)"
   ]
  },
  {
   "cell_type": "markdown",
   "id": "3de7014e",
   "metadata": {
    "deletable": false,
    "editable": false
   },
   "source": [
    "As the files are very large, this cell is expected to take around ten seconds to run. If it takes much longer (say, around a minute), then you will **need** to **optimize** your `get_movies` function so it runs faster.\n",
    "\n",
    "**Warning**: You are **not** allowed to call `get_movies` more than once on the full dataset (`movies.csv` and `mapping.csv`) in your notebook. Instead, reuse the `movies` variable, which is more efficient. You will **lose points** during manual review if you call `get_movies` again on these files.\n",
    "\n",
    "**Warning:** Do **not** display the value of the variable `movies` **anywhere** in your notebook. It will take up a **lot** of space, and your **Gradescope code will not be displayed** for grading. So, you will receive **zero points** for p8. Instead you should verify `movies` has the correct value by looking at a small *slice* of the **list** as in the question below. "
   ]
  },
  {
   "cell_type": "markdown",
   "id": "6eb99345",
   "metadata": {
    "deletable": false,
    "editable": false
   },
   "source": [
    "**Question 12:** What are the movies in `movies[20200:20220]`?\n",
    "\n",
    "Your answer should be a *list* of *dictionaries* that follows the format below:\n",
    "\n",
    "```python\n",
    "[{'title': 'Aliens in the Attic',\n",
    "  'year': 2009,\n",
    "  'duration': 86,\n",
    "  'genres': ['Adventure', 'Comedy', 'Family'],\n",
    "  'rating': 5.4,\n",
    "  'directors': ['John Schultz'],\n",
    "  'cast': ['Ashley Tisdale',\n",
    "   'Robert Hoffman',\n",
    "   'Carter Jenkins',\n",
    "   'Austin Butler']},\n",
    " {'title': 'Dark Buenos Aires',\n",
    "  'year': 2010,\n",
    "  'duration': 90,\n",
    "  'genres': ['Thriller'],\n",
    "  'rating': 4.8,\n",
    "  'directors': ['Ramon Térmens'],\n",
    "  'cast': ['Francesc Garrido',\n",
    "   'Daniel Faraldo',\n",
    "   'Natasha Yarovenko',\n",
    "   'Julieta Díaz']},\n",
    " ...\n",
    "]\n",
    "```"
   ]
  },
  {
   "cell_type": "code",
   "execution_count": null,
   "id": "acbc0896",
   "metadata": {
    "tags": []
   },
   "outputs": [],
   "source": [
    "# compute and store the answer in the variable 'movies_20200_20220', then display it\n",
    "movies = get_movies(\"movies.csv\", \"mapping.csv\")\n",
    "movies_20200_20220 = movies[20200:20220]\n",
    "movies_20200_20220"
   ]
  },
  {
   "cell_type": "code",
   "execution_count": null,
   "id": "6568df9e",
   "metadata": {
    "deletable": false,
    "editable": false
   },
   "outputs": [],
   "source": [
    "grader.check(\"q12\")"
   ]
  },
  {
   "cell_type": "markdown",
   "id": "4829a1a9",
   "metadata": {
    "deletable": false,
    "editable": false
   },
   "source": [
    "**Question 13:** What is the **number** of movies released in the `year` *2018*?\n",
    "\n",
    "Your outuput must be an **int**."
   ]
  },
  {
   "cell_type": "code",
   "execution_count": null,
   "id": "8362c104",
   "metadata": {
    "tags": []
   },
   "outputs": [],
   "source": [
    "# compute and store the answer in the variable 'num_movies_2018', then display it\n",
    "num_movies_2018 = 0\n",
    "for movie in movies:\n",
    "    if movie['year'] == 2018:\n",
    "        num_movies_2018 += 1\n",
    "num_movies_2018"
   ]
  },
  {
   "cell_type": "code",
   "execution_count": null,
   "id": "9835ddc3",
   "metadata": {
    "deletable": false,
    "editable": false
   },
   "outputs": [],
   "source": [
    "grader.check(\"q13\")"
   ]
  },
  {
   "cell_type": "markdown",
   "id": "d506a2e8",
   "metadata": {
    "deletable": false,
    "editable": false
   },
   "source": [
    "### Function 4: `find_specific_movies(movies, keyword)`\n",
    "\n",
    "Now that we have created this data structure `movies`, we can start doing some fun things with the data!\n",
    "We will continue working on this data structure for the next project (p9) as well.\n",
    "\n",
    "Let us now use this data structure `movies` to create a **search bar** like the one in Netflix!\n",
    "**Do not change the below function in any way**.\n",
    "This function takes in a keyword like a substring of a title, a genre, or the name of a person, and returns a list of relevant movies with that title, genre, or cast member/director.\n",
    "\n",
    "**Warning:** As `movies` is very large, the function `find_specific_movies` may take five to ten seconds to run. This is normal and you should not panic if it takes a while to run."
   ]
  },
  {
   "cell_type": "code",
   "execution_count": null,
   "id": "60bb789b",
   "metadata": {
    "deletable": false,
    "editable": false
   },
   "outputs": [],
   "source": [
    "# DO NOT EDIT OR REDEFINE THIS FUNCTION\n",
    "def find_specific_movies(movies, keyword):\n",
    "    \"\"\"\n",
    "    find_specific_movies(movies, keyword) takes a list of movie dictionaries \n",
    "    and a keyword; it returns a list of movies that contain the keyword\n",
    "    in either its title, genre, cast or directors.\n",
    "    \"\"\"\n",
    "    idx = 0\n",
    "    while idx < len(movies):\n",
    "        movie = movies[idx]\n",
    "        # note: \\ enables you split a long line of code into two lines\n",
    "        if (keyword not in movie['title']) and (keyword not in movie[\"genres\"]) \\\n",
    "        and (keyword not in movie[\"directors\"]) and (keyword not in movie[\"cast\"]):\n",
    "            movies.pop(idx)\n",
    "        else:\n",
    "            idx += 1\n",
    "    return movies"
   ]
  },
  {
   "cell_type": "markdown",
   "id": "4916323f",
   "metadata": {
    "deletable": false,
    "editable": false
   },
   "source": [
    "**Important:** While it might look as if we are making it easy for you by providing `find_specific_movies`, there is a catch! There is a subtle flaw with the way the function is defined, that will cause you issues in the next two questions. If you can spot this flaw by just observing the definition of `find_specific_movies`, congratulations! Since you are **not** allowed to modify the function definition, you will have to be a little clever with your function arguments to sidestep the flaw with the function definition.\n",
    "\n",
    "If you don't see anything wrong with the function just yet, don't worry about it. Solve q14 and q15 as you normally would, and see if you notice anything suspicious about your answers."
   ]
  },
  {
   "cell_type": "markdown",
   "id": "55c4a4c4",
   "metadata": {
    "deletable": false,
    "editable": false
   },
   "source": [
    "**Question 14:** List all the movies that *Katharine Hepburn* acted in.\n",
    "\n",
    "Your answer **must** be a **list** of **dictionaries**.\n",
    "\n",
    "You **must** answer this question by calling `find_specific_movies` with the keyword `\"Katharine Hepburn\"`.\n",
    "\n",
    "The `find_specific_movies` function is expected to take around 5 seconds to run, so do not panic if it takes so long to run."
   ]
  },
  {
   "cell_type": "code",
   "execution_count": null,
   "id": "4efab1a7",
   "metadata": {
    "tags": []
   },
   "outputs": [],
   "source": [
    "# compute and store the answer in the variable 'hepburn_films', then display it\n",
    "hepburn_copy = copy.deepcopy(movies)\n",
    "hepburn_films = find_specific_movies(hepburn_copy, 'Katharine Hepburn')\n",
    "hepburn_films"
   ]
  },
  {
   "cell_type": "code",
   "execution_count": null,
   "id": "ebc41df3",
   "metadata": {
    "deletable": false,
    "editable": false
   },
   "outputs": [],
   "source": [
    "grader.check(\"q14\")"
   ]
  },
  {
   "cell_type": "markdown",
   "id": "25b47805",
   "metadata": {
    "deletable": false,
    "editable": false
   },
   "source": [
    "**Question 15:** List all the movies that contain the string *Wisconsin* in their `title`.\n",
    "\n",
    "Your answer **must** be a **list** of **dictionaries**.\n",
    "\n",
    "You **must** answer this question by calling `find_specific_movies` with the keyword `\"Wisconsin\"`.\n",
    "\n",
    "**Important Hint:**  If you did not notice the flaw with the definition of `find_specific_movies` before, you are likely to have run into an issue with this quetsion. It is likely that you will see that your output for this question is an empty list. To see why this happened, find the value of `len(movies)` and see if it is equal to the value you found earlier.\n",
    "\n",
    "Remember that you are **not** allowed to modify the definition of `find_specific_movies`. You will need to cleverly pass arguments to `find_specific_movies` (in both q14 and q15) to ensure that `movies` does not get modified by the function calls. Take a look at the [lecture slides](https://git.doit.wisc.edu/cdis/cs/courses/cs220/cs220-lecture-material/-/tree/main/f22/meena_lec_notes/lec-21) from October 26 for more hints. You will have to Restart and Run all your cells to see the correct output after you fix your answer for q14 (and q15)."
   ]
  },
  {
   "cell_type": "code",
   "execution_count": null,
   "id": "ff176cc8",
   "metadata": {
    "tags": []
   },
   "outputs": [],
   "source": [
    "# compute and store the answer in the variable 'wisconsin_movies', then display it\n",
    "wisc_copy = copy.deepcopy(movies)\n",
    "wisconsin_movies = find_specific_movies(wisc_copy, 'Wisconsin')\n",
    "wisconsin_movies"
   ]
  },
  {
   "cell_type": "code",
   "execution_count": null,
   "id": "fea52538",
   "metadata": {
    "deletable": false,
    "editable": false
   },
   "outputs": [],
   "source": [
    "grader.check(\"q15\")"
   ]
  },
  {
   "cell_type": "markdown",
   "id": "dbab7de5",
   "metadata": {
    "deletable": false,
    "editable": false
   },
   "source": [
    "### Function 5: `bucketize_by_genre(movies)`\n",
    "\n",
    "We require you to complete the below function to answer the next several questions (this is a **requirement**, and you will **lose points** if you do not implement this function)."
   ]
  },
  {
   "cell_type": "code",
   "execution_count": null,
   "id": "be9e9097",
   "metadata": {
    "tags": []
   },
   "outputs": [],
   "source": [
    "def bucketize_by_genre(movies):\n",
    "    genre_dict = {}\n",
    "    for movie in movies:\n",
    "        for genre in movie['genres']:\n",
    "            if genre not in genre_dict:\n",
    "                genre_dict[genre] = []\n",
    "            genre_dict[genre].append(movie['title'])\n",
    "    return genre_dict\n",
    "    # TODO: initialize a dictionary\n",
    "    # TODO: loop through all movies\n",
    "    # TODO: loop through all genres in this movie\n",
    "    # TODO: if this genre is not a key in our dictionary, set the value associated with this genre to an empty list\n",
    "    # TODO: if we already have this genre in our dictionary, add the movie to the list associated with this genre\n",
    "    # TODO: return the dictionary"
   ]
  },
  {
   "cell_type": "code",
   "execution_count": null,
   "id": "5a7e1d4f",
   "metadata": {
    "tags": []
   },
   "outputs": [],
   "source": [
    "# call the function bucketize_by_genre on 'movies' and store it in the variable 'genre_dict'\n",
    "# do NOT display the output directly\n",
    "\n",
    "genre_dict = bucketize_by_genre(movies)"
   ]
  },
  {
   "cell_type": "markdown",
   "id": "9c3019b1",
   "metadata": {
    "deletable": false,
    "editable": false
   },
   "source": [
    "**Warning:** You are **not** allowed to call `bucketize_by_genre` more than once on the full list of movies (`movies`) in your notebook. You will **lose points** during manual review if you call `bucketize_by_genre` again on `movies`."
   ]
  },
  {
   "cell_type": "markdown",
   "id": "cf588c26",
   "metadata": {
    "deletable": false,
    "editable": false
   },
   "source": [
    "**Question 16:** How many **unique** movie `genres` are present in the dataset?"
   ]
  },
  {
   "cell_type": "code",
   "execution_count": null,
   "id": "5de4e9a6",
   "metadata": {
    "tags": []
   },
   "outputs": [],
   "source": [
    "# compute and store the answer in the variable 'num_genres', then display it\n",
    "num_genres = len(genre_dict)\n",
    "num_genres"
   ]
  },
  {
   "cell_type": "code",
   "execution_count": null,
   "id": "327432dd",
   "metadata": {
    "deletable": false,
    "editable": false
   },
   "outputs": [],
   "source": [
    "grader.check(\"q16\")"
   ]
  },
  {
   "cell_type": "markdown",
   "id": "c6913f3f",
   "metadata": {
    "deletable": false,
    "editable": false
   },
   "source": [
    "**Question 17:** How many *Music* movies (i.e. movies with *Music* as one of their `genres`) do we have in the dataset released **after** the `year` *2019*?\n",
    "\n",
    "Your output **must** be an **int**. You **must** use the `genre_dict` data structure to answer this question."
   ]
  },
  {
   "cell_type": "code",
   "execution_count": null,
   "id": "719d013f",
   "metadata": {
    "tags": []
   },
   "outputs": [],
   "source": [
    "# compute and store the answer in the variable 'music_after_2019', then display it\n",
    "music_after_2019 = 0\n",
    "for movie in movies:\n",
    "    if movie['title'] in genre_dict[\"Music\"] and 'Music' in movie['genres']:\n",
    "        if movie['year'] > 2019:\n",
    "            music_after_2019 += 1\n",
    "music_after_2019"
   ]
  },
  {
   "cell_type": "code",
   "execution_count": null,
   "id": "65c19782",
   "metadata": {
    "deletable": false,
    "editable": false
   },
   "outputs": [],
   "source": [
    "grader.check(\"q17\")"
   ]
  },
  {
   "cell_type": "markdown",
   "id": "a96adf0a",
   "metadata": {
    "deletable": false,
    "editable": false
   },
   "source": [
    "**Question 18:** List the `title` of all *Horror* movies (i.e. movies with *Horror* as one of their `genres`) with `rating` **larger** than *9.0* in the dataset.\n",
    "\n",
    "Your output **must** be a **list** of **strings**. You **must** use the `genre_dict` data structure to answer this question."
   ]
  },
  {
   "cell_type": "code",
   "execution_count": null,
   "id": "475e0d81",
   "metadata": {
    "tags": []
   },
   "outputs": [],
   "source": [
    "# compute and store the answer in the variable 'horror_movies_above_9', then display it\n",
    "horror_movies_above_9 = []\n",
    "for movie in movies:\n",
    "    if movie['title'] in genre_dict[\"Horror\"] and 'Horror' in movie['genres']:\n",
    "        if movie['rating'] > 9.0:\n",
    "            horror_movies_above_9.append(movie['title'])        \n",
    "horror_movies_above_9"
   ]
  },
  {
   "cell_type": "code",
   "execution_count": null,
   "id": "ca535410",
   "metadata": {
    "deletable": false,
    "editable": false
   },
   "outputs": [],
   "source": [
    "grader.check(\"q18\")"
   ]
  },
  {
   "cell_type": "markdown",
   "id": "c5f42d47",
   "metadata": {
    "deletable": false,
    "editable": false
   },
   "source": [
    "**Question 19:** Which movie `genre` does *Jennifer Aniston* play the most?\n",
    "\n",
    "There is a **unique** `genre` that *Jennifer Aniston* has played the most. You do **not** have to worry about breaking ties.\n",
    "\n",
    "**Hint:** You can combine the *two* functions above to bucketize the movies that *Jennifer Aniston* has acted in by their `genres`. Then, you can loop through each genre to find the one with the most number of movies in it."
   ]
  },
  {
   "cell_type": "code",
   "execution_count": null,
   "id": "b0eaac53",
   "metadata": {
    "tags": []
   },
   "outputs": [],
   "source": [
    "# compute and store the answer in the variable 'jen_aniston_genre, then display it\n",
    "most_genre = 0\n",
    "ja_copy = copy.deepcopy(movies)\n",
    "ja_list = find_specific_movies(ja_copy, 'Jennifer Aniston')\n",
    "ja_dict = bucketize_by_genre(ja_list)\n",
    "jen_aniston_genre = None\n",
    "for genre in ja_dict:\n",
    "    if len(ja_dict[genre]) > most_genre:\n",
    "        jen_aniston_genre = genre\n",
    "        most_genre = len(ja_dict[genre])\n",
    "jen_aniston_genre"
   ]
  },
  {
   "cell_type": "code",
   "execution_count": null,
   "id": "55e4c949",
   "metadata": {
    "deletable": false,
    "editable": false
   },
   "outputs": [],
   "source": [
    "grader.check(\"q19\")"
   ]
  },
  {
   "cell_type": "markdown",
   "id": "58f8029b",
   "metadata": {
    "deletable": false,
    "editable": false
   },
   "source": [
    "**Question 20:** Who are the `directors` of the *Documentary* movies with the **highest** `rating` in the movies dataset?\n",
    "\n",
    "There are **multiple** *Documentary* movies in the dataset with the joint highest rating. You **must** output a **list** of **strings** containing the **names** of **all** the `directors` of **all** these movies.\n",
    "\n",
    "**Hint:** If you are unsure how to efficiently add the elements of one list to another, take a look at the [lecture slides](https://git.doit.wisc.edu/cdis/cs/courses/cs220/cs220-lecture-material/-/tree/main/f22/meena_lec_notes/lec-14) from October 10."
   ]
  },
  {
   "cell_type": "code",
   "execution_count": null,
   "id": "8a7f5a12",
   "metadata": {
    "tags": []
   },
   "outputs": [],
   "source": [
    "# compute and store the answer in the variable 'max_docu_rating_directors', then display it\n",
    "max_rating = 0\n",
    "max_docu_rating_directors = []\n",
    "for movie in movies:\n",
    "    if 'Documentary' in movie['genres']:\n",
    "        if movie['rating'] >= max_rating:\n",
    "            max_rating = movie['rating']\n",
    "for movie in movies:\n",
    "    if 'Documentary' in movie['genres']:\n",
    "        if movie['rating'] >= max_rating:\n",
    "            max_docu_rating_directors.extend(movie['directors'])\n",
    "max_docu_rating_directors"
   ]
  },
  {
   "cell_type": "code",
   "execution_count": null,
   "id": "56505bf1",
   "metadata": {
    "deletable": false,
    "editable": false
   },
   "outputs": [],
   "source": [
    "grader.check(\"q20\")"
   ]
  },
  {
   "cell_type": "markdown",
   "id": "0d5d6800",
   "metadata": {
    "deletable": false,
    "editable": false
   },
   "source": [
    "## Submission\n",
    "Make sure you have run all cells in your notebook in order before running the following cells, so that all images/graphs appear in the output.\n",
    "It is recommended that at this stage, you Restart and Run all Cells in your notebook.\n",
    "That will automatically save your work and generate a zip file for you to submit.\n",
    "\n",
    "**SUBMISSION INSTRUCTIONS**:\n",
    "1. **Upload** the zipfile to Gradescope.\n",
    "2. Check **Gradescope otter** results as soon as the auto-grader execution gets completed. Don't worry about the score showing up as -/100.0. You only need to check that the test cases passed."
   ]
  },
  {
   "cell_type": "code",
   "execution_count": null,
   "id": "82b86e8c",
   "metadata": {
    "cell_type": "code",
    "deletable": false,
    "editable": false
   },
   "outputs": [],
   "source": [
    "# running this cell will create a new save checkpoint for your notebook\n",
    "from IPython.display import display, Javascript\n",
    "display(Javascript('IPython.notebook.save_checkpoint();'))"
   ]
  },
  {
   "cell_type": "code",
   "execution_count": null,
   "id": "d6c0f1cd",
   "metadata": {
    "cell_type": "code",
    "deletable": false,
    "editable": false
   },
   "outputs": [],
   "source": [
    "!jupytext --to py p8.ipynb"
   ]
  },
  {
   "cell_type": "code",
   "execution_count": null,
   "id": "35cc4a4c",
   "metadata": {
    "cell_type": "code",
    "deletable": false,
    "editable": false
   },
   "outputs": [],
   "source": [
    "p8_test.check_file_size(\"p8.ipynb\")\n",
    "grader.export(pdf=False, run_tests=True, files=[py_filename])"
   ]
  },
  {
   "cell_type": "markdown",
   "id": "d6efaf4e",
   "metadata": {
    "deletable": false,
    "editable": false
   },
   "source": [
    " "
   ]
  }
 ],
 "metadata": {
  "kernelspec": {
   "display_name": "Python 3 (ipykernel)",
   "language": "python",
   "name": "python3"
  },
  "language_info": {
   "codemirror_mode": {
    "name": "ipython",
    "version": 3
   },
   "file_extension": ".py",
   "mimetype": "text/x-python",
   "name": "python",
   "nbconvert_exporter": "python",
   "pygments_lexer": "ipython3",
   "version": "3.9.12"
  },
  "otter": {
   "OK_FORMAT": true,
   "tests": {
    "q1": {
     "name": "q1",
     "points": 5,
     "suites": [
      {
       "cases": [
        {
         "code": ">>> p8_test.check(\"q1\", small_mapping)\nTrue",
         "hidden": false,
         "locked": false
        }
       ],
       "scored": true,
       "setup": "",
       "teardown": "",
       "type": "doctest"
      }
     ]
    },
    "q10": {
     "name": "q10",
     "points": 5,
     "suites": [
      {
       "cases": [
        {
         "code": ">>> p8_test.check(\"q10\", second_movie_cast_small_movies)\nTrue",
         "hidden": false,
         "locked": false
        }
       ],
       "scored": true,
       "setup": "",
       "teardown": "",
       "type": "doctest"
      }
     ]
    },
    "q11": {
     "name": "q11",
     "points": 5,
     "suites": [
      {
       "cases": [
        {
         "code": ">>> p8_test.check(\"q11\", last_movie_directors_small_movies)\nTrue",
         "hidden": false,
         "locked": false
        }
       ],
       "scored": true,
       "setup": "",
       "teardown": "",
       "type": "doctest"
      }
     ]
    },
    "q12": {
     "name": "q12",
     "points": 5,
     "suites": [
      {
       "cases": [
        {
         "code": ">>> p8_test.check(\"q12\", movies_20200_20220)\nTrue",
         "hidden": false,
         "locked": false
        }
       ],
       "scored": true,
       "setup": "",
       "teardown": "",
       "type": "doctest"
      }
     ]
    },
    "q13": {
     "name": "q13",
     "points": 5,
     "suites": [
      {
       "cases": [
        {
         "code": ">>> p8_test.check(\"q13\", num_movies_2018)\nTrue",
         "hidden": false,
         "locked": false
        }
       ],
       "scored": true,
       "setup": "",
       "teardown": "",
       "type": "doctest"
      }
     ]
    },
    "q14": {
     "name": "q14",
     "points": 5,
     "suites": [
      {
       "cases": [
        {
         "code": ">>> p8_test.check(\"q14\", hepburn_films)\nTrue",
         "hidden": false,
         "locked": false
        }
       ],
       "scored": true,
       "setup": "",
       "teardown": "",
       "type": "doctest"
      }
     ]
    },
    "q15": {
     "name": "q15",
     "points": 5,
     "suites": [
      {
       "cases": [
        {
         "code": ">>> p8_test.check(\"q15\", wisconsin_movies)\nTrue",
         "hidden": false,
         "locked": false
        }
       ],
       "scored": true,
       "setup": "",
       "teardown": "",
       "type": "doctest"
      }
     ]
    },
    "q16": {
     "name": "q16",
     "points": 5,
     "suites": [
      {
       "cases": [
        {
         "code": ">>> p8_test.check(\"q16\", num_genres)\nTrue",
         "hidden": false,
         "locked": false
        }
       ],
       "scored": true,
       "setup": "",
       "teardown": "",
       "type": "doctest"
      }
     ]
    },
    "q17": {
     "name": "q17",
     "points": 5,
     "suites": [
      {
       "cases": [
        {
         "code": ">>> p8_test.check(\"q17\", music_after_2019)\nTrue",
         "hidden": false,
         "locked": false
        }
       ],
       "scored": true,
       "setup": "",
       "teardown": "",
       "type": "doctest"
      }
     ]
    },
    "q18": {
     "name": "q18",
     "points": 5,
     "suites": [
      {
       "cases": [
        {
         "code": ">>> p8_test.check(\"q18\", horror_movies_above_9)\nTrue",
         "hidden": false,
         "locked": false
        }
       ],
       "scored": true,
       "setup": "",
       "teardown": "",
       "type": "doctest"
      }
     ]
    },
    "q19": {
     "name": "q19",
     "points": 5,
     "suites": [
      {
       "cases": [
        {
         "code": ">>> p8_test.check(\"q19\", jen_aniston_genre)\nTrue",
         "hidden": false,
         "locked": false
        }
       ],
       "scored": true,
       "setup": "",
       "teardown": "",
       "type": "doctest"
      }
     ]
    },
    "q2": {
     "name": "q2",
     "points": 5,
     "suites": [
      {
       "cases": [
        {
         "code": ">>> p8_test.check(\"q2\", nm2110418_value)\nTrue",
         "hidden": false,
         "locked": false
        }
       ],
       "scored": true,
       "setup": "",
       "teardown": "",
       "type": "doctest"
      }
     ]
    },
    "q20": {
     "name": "q20",
     "points": 5,
     "suites": [
      {
       "cases": [
        {
         "code": ">>> p8_test.check(\"q20\", max_docu_rating_directors)\nTrue",
         "hidden": false,
         "locked": false
        }
       ],
       "scored": true,
       "setup": "",
       "teardown": "",
       "type": "doctest"
      }
     ]
    },
    "q3": {
     "name": "q3",
     "points": 5,
     "suites": [
      {
       "cases": [
        {
         "code": ">>> p8_test.check(\"q3\", nm_values)\nTrue",
         "hidden": false,
         "locked": false
        }
       ],
       "scored": true,
       "setup": "",
       "teardown": "",
       "type": "doctest"
      }
     ]
    },
    "q4": {
     "name": "q4",
     "points": 5,
     "suites": [
      {
       "cases": [
        {
         "code": ">>> p8_test.check(\"q4\", nm_spencer)\nTrue",
         "hidden": false,
         "locked": false
        }
       ],
       "scored": true,
       "setup": "",
       "teardown": "",
       "type": "doctest"
      }
     ]
    },
    "q5": {
     "name": "q5",
     "points": 5,
     "suites": [
      {
       "cases": [
        {
         "code": ">>> p8_test.check(\"q5\", raw_small_movies)\nTrue",
         "hidden": false,
         "locked": false
        }
       ],
       "scored": true,
       "setup": "",
       "teardown": "",
       "type": "doctest"
      }
     ]
    },
    "q6": {
     "name": "q6",
     "points": 5,
     "suites": [
      {
       "cases": [
        {
         "code": ">>> p8_test.check(\"q6\", num_cast_first_movie)\nTrue",
         "hidden": false,
         "locked": false
        }
       ],
       "scored": true,
       "setup": "",
       "teardown": "",
       "type": "doctest"
      }
     ]
    },
    "q7": {
     "name": "q7",
     "points": 5,
     "suites": [
      {
       "cases": [
        {
         "code": ">>> p8_test.check(\"q7\", first_actor_id_first_movie)\nTrue",
         "hidden": false,
         "locked": false
        }
       ],
       "scored": true,
       "setup": "",
       "teardown": "",
       "type": "doctest"
      }
     ]
    },
    "q8": {
     "name": "q8",
     "points": 5,
     "suites": [
      {
       "cases": [
        {
         "code": ">>> p8_test.check(\"q8\", small_movies_data)\nTrue",
         "hidden": false,
         "locked": false
        }
       ],
       "scored": true,
       "setup": "",
       "teardown": "",
       "type": "doctest"
      }
     ]
    },
    "q9": {
     "name": "q9",
     "points": 5,
     "suites": [
      {
       "cases": [
        {
         "code": ">>> p8_test.check(\"q9\", second_movie_title_small_movies)\nTrue",
         "hidden": false,
         "locked": false
        }
       ],
       "scored": true,
       "setup": "",
       "teardown": "",
       "type": "doctest"
      }
     ]
    }
   }
  },
  "vscode": {
   "interpreter": {
    "hash": "ddadfa966245fdd88d86598ab7fd899e4c6b5bf38d3fe509005bdb7f4648c1a5"
   }
  }
 },
 "nbformat": 4,
 "nbformat_minor": 5
}
